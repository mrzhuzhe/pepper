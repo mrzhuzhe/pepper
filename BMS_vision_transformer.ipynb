{
  "nbformat": 4,
  "nbformat_minor": 0,
  "metadata": {
    "accelerator": "TPU",
    "colab": {
      "name": "BMS-vision-transformer.ipynb",
      "provenance": [],
      "collapsed_sections": [],
      "mount_file_id": "141HztZl4ZrtQiIV2Xci52Sjse-hcTBLW",
      "authorship_tag": "ABX9TyM95o5OAsEkP0FAepZly1KG",
      "include_colab_link": true
    },
    "kernelspec": {
      "display_name": "Python 3",
      "name": "python3"
    },
    "language_info": {
      "name": "python"
    }
  },
  "cells": [
    {
      "cell_type": "markdown",
      "metadata": {
        "id": "view-in-github",
        "colab_type": "text"
      },
      "source": [
        "<a href=\"https://colab.research.google.com/github/mrzhuzhe/pepper/blob/master/BMS_vision_transformer.ipynb\" target=\"_parent\"><img src=\"https://colab.research.google.com/assets/colab-badge.svg\" alt=\"Open In Colab\"/></a>"
      ]
    },
    {
      "cell_type": "markdown",
      "metadata": {
        "id": "GhEWPQTLcEvN"
      },
      "source": [
        "# Download dataset"
      ]
    },
    {
      "cell_type": "code",
      "metadata": {
        "colab": {
          "base_uri": "https://localhost:8080/"
        },
        "id": "uax8383yG64B",
        "outputId": "55129651-7272-4de2-b0b5-441e1264806e"
      },
      "source": [
        "!pip install kaggle --upgrade"
      ],
      "execution_count": null,
      "outputs": [
        {
          "output_type": "stream",
          "text": [
            "Requirement already up-to-date: kaggle in /usr/local/lib/python3.7/dist-packages (1.5.12)\n",
            "Requirement already satisfied, skipping upgrade: tqdm in /usr/local/lib/python3.7/dist-packages (from kaggle) (4.41.1)\n",
            "Requirement already satisfied, skipping upgrade: six>=1.10 in /usr/local/lib/python3.7/dist-packages (from kaggle) (1.15.0)\n",
            "Requirement already satisfied, skipping upgrade: urllib3 in /usr/local/lib/python3.7/dist-packages (from kaggle) (1.24.3)\n",
            "Requirement already satisfied, skipping upgrade: certifi in /usr/local/lib/python3.7/dist-packages (from kaggle) (2020.12.5)\n",
            "Requirement already satisfied, skipping upgrade: python-dateutil in /usr/local/lib/python3.7/dist-packages (from kaggle) (2.8.1)\n",
            "Requirement already satisfied, skipping upgrade: requests in /usr/local/lib/python3.7/dist-packages (from kaggle) (2.23.0)\n",
            "Requirement already satisfied, skipping upgrade: python-slugify in /usr/local/lib/python3.7/dist-packages (from kaggle) (5.0.2)\n",
            "Requirement already satisfied, skipping upgrade: chardet<4,>=3.0.2 in /usr/local/lib/python3.7/dist-packages (from requests->kaggle) (3.0.4)\n",
            "Requirement already satisfied, skipping upgrade: idna<3,>=2.5 in /usr/local/lib/python3.7/dist-packages (from requests->kaggle) (2.10)\n",
            "Requirement already satisfied, skipping upgrade: text-unidecode>=1.3 in /usr/local/lib/python3.7/dist-packages (from python-slugify->kaggle) (1.3)\n"
          ],
          "name": "stdout"
        }
      ]
    },
    {
      "cell_type": "code",
      "metadata": {
        "colab": {
          "base_uri": "https://localhost:8080/"
        },
        "id": "uEQ5FtDhyUdt",
        "outputId": "8f23be80-38d8-413f-cfe3-ba85097c96a4"
      },
      "source": [
        "# collab dependence\n",
        "!pip install tensorflow-addons\n",
        "!pip install gcsfs\n",
        "!pip install fsspec"
      ],
      "execution_count": null,
      "outputs": [
        {
          "output_type": "stream",
          "text": [
            "Collecting tensorflow-addons\n",
            "\u001b[?25l  Downloading https://files.pythonhosted.org/packages/66/4b/e893d194e626c24b3df2253066aa418f46a432fdb68250cde14bf9bb0700/tensorflow_addons-0.13.0-cp37-cp37m-manylinux2010_x86_64.whl (679kB)\n",
            "\u001b[K     |████████████████████████████████| 686kB 3.2MB/s \n",
            "\u001b[?25hRequirement already satisfied: typeguard>=2.7 in /usr/local/lib/python3.7/dist-packages (from tensorflow-addons) (2.7.1)\n",
            "Installing collected packages: tensorflow-addons\n",
            "Successfully installed tensorflow-addons-0.13.0\n",
            "Collecting gcsfs\n",
            "  Downloading https://files.pythonhosted.org/packages/c0/28/1f22651e6156a5936663f68ddae48c85236bdefaeec589b4cc64af40807f/gcsfs-2021.6.0-py2.py3-none-any.whl\n",
            "Requirement already satisfied: google-auth-oauthlib in /usr/local/lib/python3.7/dist-packages (from gcsfs) (0.4.4)\n",
            "Requirement already satisfied: decorator in /usr/local/lib/python3.7/dist-packages (from gcsfs) (4.4.2)\n",
            "Requirement already satisfied: requests in /usr/local/lib/python3.7/dist-packages (from gcsfs) (2.23.0)\n",
            "Requirement already satisfied: google-auth>=1.2 in /usr/local/lib/python3.7/dist-packages (from gcsfs) (1.30.0)\n",
            "Collecting aiohttp\n",
            "\u001b[?25l  Downloading https://files.pythonhosted.org/packages/88/c0/5890b4c8b04a79b7360e8fe4490feb0bb3ab179743f199f0e6220cebd568/aiohttp-3.7.4.post0-cp37-cp37m-manylinux2014_x86_64.whl (1.3MB)\n",
            "\u001b[K     |████████████████████████████████| 1.3MB 3.4MB/s \n",
            "\u001b[?25hCollecting fsspec==2021.06.0\n",
            "\u001b[?25l  Downloading https://files.pythonhosted.org/packages/8e/d2/d05466997f7751a2c06a7a416b7d1f131d765f7916698d3fdcb3a4d037e5/fsspec-2021.6.0-py3-none-any.whl (114kB)\n",
            "\u001b[K     |████████████████████████████████| 122kB 13.3MB/s \n",
            "\u001b[?25hRequirement already satisfied: requests-oauthlib>=0.7.0 in /usr/local/lib/python3.7/dist-packages (from google-auth-oauthlib->gcsfs) (1.3.0)\n",
            "Requirement already satisfied: urllib3!=1.25.0,!=1.25.1,<1.26,>=1.21.1 in /usr/local/lib/python3.7/dist-packages (from requests->gcsfs) (1.24.3)\n",
            "Requirement already satisfied: certifi>=2017.4.17 in /usr/local/lib/python3.7/dist-packages (from requests->gcsfs) (2020.12.5)\n",
            "Requirement already satisfied: chardet<4,>=3.0.2 in /usr/local/lib/python3.7/dist-packages (from requests->gcsfs) (3.0.4)\n",
            "Requirement already satisfied: idna<3,>=2.5 in /usr/local/lib/python3.7/dist-packages (from requests->gcsfs) (2.10)\n",
            "Requirement already satisfied: setuptools>=40.3.0 in /usr/local/lib/python3.7/dist-packages (from google-auth>=1.2->gcsfs) (57.0.0)\n",
            "Requirement already satisfied: six>=1.9.0 in /usr/local/lib/python3.7/dist-packages (from google-auth>=1.2->gcsfs) (1.15.0)\n",
            "Requirement already satisfied: pyasn1-modules>=0.2.1 in /usr/local/lib/python3.7/dist-packages (from google-auth>=1.2->gcsfs) (0.2.8)\n",
            "Requirement already satisfied: cachetools<5.0,>=2.0.0 in /usr/local/lib/python3.7/dist-packages (from google-auth>=1.2->gcsfs) (4.2.2)\n",
            "Requirement already satisfied: rsa<5,>=3.1.4; python_version >= \"3.6\" in /usr/local/lib/python3.7/dist-packages (from google-auth>=1.2->gcsfs) (4.7.2)\n",
            "Collecting yarl<2.0,>=1.0\n",
            "\u001b[?25l  Downloading https://files.pythonhosted.org/packages/f1/62/046834c5fc998c88ab2ef722f5d42122230a632212c8afa76418324f53ff/yarl-1.6.3-cp37-cp37m-manylinux2014_x86_64.whl (294kB)\n",
            "\u001b[K     |████████████████████████████████| 296kB 12.4MB/s \n",
            "\u001b[?25hCollecting multidict<7.0,>=4.5\n",
            "\u001b[?25l  Downloading https://files.pythonhosted.org/packages/7c/a6/4123b8165acbe773d1a8dc8e3f0d1edea16d29f7de018eda769abb56bd30/multidict-5.1.0-cp37-cp37m-manylinux2014_x86_64.whl (142kB)\n",
            "\u001b[K     |████████████████████████████████| 143kB 13.5MB/s \n",
            "\u001b[?25hCollecting async-timeout<4.0,>=3.0\n",
            "  Downloading https://files.pythonhosted.org/packages/e1/1e/5a4441be21b0726c4464f3f23c8b19628372f606755a9d2e46c187e65ec4/async_timeout-3.0.1-py3-none-any.whl\n",
            "Requirement already satisfied: typing-extensions>=3.6.5 in /usr/local/lib/python3.7/dist-packages (from aiohttp->gcsfs) (3.7.4.3)\n",
            "Requirement already satisfied: attrs>=17.3.0 in /usr/local/lib/python3.7/dist-packages (from aiohttp->gcsfs) (21.2.0)\n",
            "Requirement already satisfied: oauthlib>=3.0.0 in /usr/local/lib/python3.7/dist-packages (from requests-oauthlib>=0.7.0->google-auth-oauthlib->gcsfs) (3.1.0)\n",
            "Requirement already satisfied: pyasn1<0.5.0,>=0.4.6 in /usr/local/lib/python3.7/dist-packages (from pyasn1-modules>=0.2.1->google-auth>=1.2->gcsfs) (0.4.8)\n",
            "Installing collected packages: multidict, yarl, async-timeout, aiohttp, fsspec, gcsfs\n",
            "Successfully installed aiohttp-3.7.4.post0 async-timeout-3.0.1 fsspec-2021.6.0 gcsfs-2021.6.0 multidict-5.1.0 yarl-1.6.3\n",
            "Requirement already satisfied: fsspec in /usr/local/lib/python3.7/dist-packages (2021.6.0)\n"
          ],
          "name": "stdout"
        }
      ]
    },
    {
      "cell_type": "code",
      "metadata": {
        "colab": {
          "base_uri": "https://localhost:8080/"
        },
        "id": "N0qemS4vH0OJ",
        "outputId": "5fc73ae6-edd5-405e-9c9e-4e1d4888f51a"
      },
      "source": [
        "%env KAGGLE_USERNAME=drzhuzhe\n",
        "%env KAGGLE_KEY=14db5a9e48003385a3a300c1f794dcdc"
      ],
      "execution_count": null,
      "outputs": [
        {
          "output_type": "stream",
          "text": [
            "env: KAGGLE_USERNAME=drzhuzhe\n",
            "env: KAGGLE_KEY=14db5a9e48003385a3a300c1f794dcdc\n"
          ],
          "name": "stdout"
        }
      ]
    },
    {
      "cell_type": "code",
      "metadata": {
        "id": "jdFWh0ACz8-x"
      },
      "source": [
        "INPUT_DIR = './input'"
      ],
      "execution_count": null,
      "outputs": []
    },
    {
      "cell_type": "code",
      "metadata": {
        "id": "q8fxTnQvN5iG"
      },
      "source": [
        "import pandas as pd\n",
        "import numpy as np\n",
        "\n",
        "import tensorflow as tf\n",
        "import tensorflow_addons as tfa\n",
        "from datetime import datetime\n",
        "import random\n",
        "import shutil\n",
        "import math\n",
        "import time\n",
        "import sys\n",
        "import io\n",
        "import os\n",
        "import gc\n",
        "\n",
        "import matplotlib.pyplot as plt\n",
        "\n",
        "import cv2"
      ],
      "execution_count": null,
      "outputs": []
    },
    {
      "cell_type": "code",
      "metadata": {
        "colab": {
          "base_uri": "https://localhost:8080/"
        },
        "id": "J_HtgeoLPC6v",
        "outputId": "3b2c1159-5f70-4c5e-d034-e93c2ad3d757"
      },
      "source": [
        "print(f\"\\n... ACCELERATOR SETUP STARTING ...\\n\")\n",
        "\n",
        "# Detect hardware, return appropriate distribution strategy\n",
        "try:\n",
        "    # TPU detection. No parameters necessary if TPU_NAME environment variable is set. On Kaggle this is always the case.\n",
        "    TPU=tf.distribute.cluster_resolver.TPUClusterResolver()  \n",
        "except ValueError:\n",
        "    TPU=None\n",
        "\n",
        "if TPU:\n",
        "    print(f\"\\n... RUNNING ON TPU - {TPU.master()}...\")\n",
        "    tf.config.experimental_connect_to_cluster(TPU)\n",
        "    tf.tpu.experimental.initialize_tpu_system(TPU)\n",
        "    strategy=tf.distribute.experimental.TPUStrategy(TPU)\n",
        "else:\n",
        "    print(f\"\\n... RUNNING ON CPU/GPU ...\")\n",
        "    # Yield the default distribution strategy in Tensorflow\n",
        "    #   --> Works on CPU and single GPU.\n",
        "    strategy=tf.distribute.get_strategy() \n",
        "\n",
        "# What Is a Replica?\n",
        "#    --> A single Cloud TPU device consists of FOUR chips, each of which has TWO TPU cores. \n",
        "#    --> Therefore, for efficient utilization of Cloud TPU, a program should make use of each of the EIGHT (4x2) cores. \n",
        "#    --> Each replica is essentially a copy of the training graph that is run on each core and \n",
        "#        trains a mini-batch containing 1/8th of the overall batch size\n",
        "N_REPLICAS=strategy.num_replicas_in_sync\n",
        "    \n",
        "print(f\"... # OF REPLICAS: {N_REPLICAS} ...\\n\")\n",
        "\n",
        "print(f\"\\n... ACCELERATOR SETUP COMPLTED ...\\n\")"
      ],
      "execution_count": null,
      "outputs": [
        {
          "output_type": "stream",
          "text": [
            "\n",
            "... ACCELERATOR SETUP STARTING ...\n",
            "\n",
            "\n",
            "... RUNNING ON TPU - grpc://10.76.52.122:8470...\n",
            "INFO:tensorflow:Initializing the TPU system: grpc://10.76.52.122:8470\n"
          ],
          "name": "stdout"
        },
        {
          "output_type": "stream",
          "text": [
            "INFO:tensorflow:Initializing the TPU system: grpc://10.76.52.122:8470\n"
          ],
          "name": "stderr"
        },
        {
          "output_type": "stream",
          "text": [
            "INFO:tensorflow:Clearing out eager caches\n"
          ],
          "name": "stdout"
        },
        {
          "output_type": "stream",
          "text": [
            "INFO:tensorflow:Clearing out eager caches\n"
          ],
          "name": "stderr"
        },
        {
          "output_type": "stream",
          "text": [
            "INFO:tensorflow:Finished initializing TPU system.\n"
          ],
          "name": "stdout"
        },
        {
          "output_type": "stream",
          "text": [
            "INFO:tensorflow:Finished initializing TPU system.\n",
            "WARNING:absl:`tf.distribute.experimental.TPUStrategy` is deprecated, please use  the non experimental symbol `tf.distribute.TPUStrategy` instead.\n"
          ],
          "name": "stderr"
        },
        {
          "output_type": "stream",
          "text": [
            "INFO:tensorflow:Found TPU system:\n"
          ],
          "name": "stdout"
        },
        {
          "output_type": "stream",
          "text": [
            "INFO:tensorflow:Found TPU system:\n"
          ],
          "name": "stderr"
        },
        {
          "output_type": "stream",
          "text": [
            "INFO:tensorflow:*** Num TPU Cores: 8\n"
          ],
          "name": "stdout"
        },
        {
          "output_type": "stream",
          "text": [
            "INFO:tensorflow:*** Num TPU Cores: 8\n"
          ],
          "name": "stderr"
        },
        {
          "output_type": "stream",
          "text": [
            "INFO:tensorflow:*** Num TPU Workers: 1\n"
          ],
          "name": "stdout"
        },
        {
          "output_type": "stream",
          "text": [
            "INFO:tensorflow:*** Num TPU Workers: 1\n"
          ],
          "name": "stderr"
        },
        {
          "output_type": "stream",
          "text": [
            "INFO:tensorflow:*** Num TPU Cores Per Worker: 8\n"
          ],
          "name": "stdout"
        },
        {
          "output_type": "stream",
          "text": [
            "INFO:tensorflow:*** Num TPU Cores Per Worker: 8\n"
          ],
          "name": "stderr"
        },
        {
          "output_type": "stream",
          "text": [
            "INFO:tensorflow:*** Available Device: _DeviceAttributes(/job:localhost/replica:0/task:0/device:CPU:0, CPU, 0, 0)\n"
          ],
          "name": "stdout"
        },
        {
          "output_type": "stream",
          "text": [
            "INFO:tensorflow:*** Available Device: _DeviceAttributes(/job:localhost/replica:0/task:0/device:CPU:0, CPU, 0, 0)\n"
          ],
          "name": "stderr"
        },
        {
          "output_type": "stream",
          "text": [
            "INFO:tensorflow:*** Available Device: _DeviceAttributes(/job:worker/replica:0/task:0/device:CPU:0, CPU, 0, 0)\n"
          ],
          "name": "stdout"
        },
        {
          "output_type": "stream",
          "text": [
            "INFO:tensorflow:*** Available Device: _DeviceAttributes(/job:worker/replica:0/task:0/device:CPU:0, CPU, 0, 0)\n"
          ],
          "name": "stderr"
        },
        {
          "output_type": "stream",
          "text": [
            "INFO:tensorflow:*** Available Device: _DeviceAttributes(/job:worker/replica:0/task:0/device:TPU:0, TPU, 0, 0)\n"
          ],
          "name": "stdout"
        },
        {
          "output_type": "stream",
          "text": [
            "INFO:tensorflow:*** Available Device: _DeviceAttributes(/job:worker/replica:0/task:0/device:TPU:0, TPU, 0, 0)\n"
          ],
          "name": "stderr"
        },
        {
          "output_type": "stream",
          "text": [
            "INFO:tensorflow:*** Available Device: _DeviceAttributes(/job:worker/replica:0/task:0/device:TPU:1, TPU, 0, 0)\n"
          ],
          "name": "stdout"
        },
        {
          "output_type": "stream",
          "text": [
            "INFO:tensorflow:*** Available Device: _DeviceAttributes(/job:worker/replica:0/task:0/device:TPU:1, TPU, 0, 0)\n"
          ],
          "name": "stderr"
        },
        {
          "output_type": "stream",
          "text": [
            "INFO:tensorflow:*** Available Device: _DeviceAttributes(/job:worker/replica:0/task:0/device:TPU:2, TPU, 0, 0)\n"
          ],
          "name": "stdout"
        },
        {
          "output_type": "stream",
          "text": [
            "INFO:tensorflow:*** Available Device: _DeviceAttributes(/job:worker/replica:0/task:0/device:TPU:2, TPU, 0, 0)\n"
          ],
          "name": "stderr"
        },
        {
          "output_type": "stream",
          "text": [
            "INFO:tensorflow:*** Available Device: _DeviceAttributes(/job:worker/replica:0/task:0/device:TPU:3, TPU, 0, 0)\n"
          ],
          "name": "stdout"
        },
        {
          "output_type": "stream",
          "text": [
            "INFO:tensorflow:*** Available Device: _DeviceAttributes(/job:worker/replica:0/task:0/device:TPU:3, TPU, 0, 0)\n"
          ],
          "name": "stderr"
        },
        {
          "output_type": "stream",
          "text": [
            "INFO:tensorflow:*** Available Device: _DeviceAttributes(/job:worker/replica:0/task:0/device:TPU:4, TPU, 0, 0)\n"
          ],
          "name": "stdout"
        },
        {
          "output_type": "stream",
          "text": [
            "INFO:tensorflow:*** Available Device: _DeviceAttributes(/job:worker/replica:0/task:0/device:TPU:4, TPU, 0, 0)\n"
          ],
          "name": "stderr"
        },
        {
          "output_type": "stream",
          "text": [
            "INFO:tensorflow:*** Available Device: _DeviceAttributes(/job:worker/replica:0/task:0/device:TPU:5, TPU, 0, 0)\n"
          ],
          "name": "stdout"
        },
        {
          "output_type": "stream",
          "text": [
            "INFO:tensorflow:*** Available Device: _DeviceAttributes(/job:worker/replica:0/task:0/device:TPU:5, TPU, 0, 0)\n"
          ],
          "name": "stderr"
        },
        {
          "output_type": "stream",
          "text": [
            "INFO:tensorflow:*** Available Device: _DeviceAttributes(/job:worker/replica:0/task:0/device:TPU:6, TPU, 0, 0)\n"
          ],
          "name": "stdout"
        },
        {
          "output_type": "stream",
          "text": [
            "INFO:tensorflow:*** Available Device: _DeviceAttributes(/job:worker/replica:0/task:0/device:TPU:6, TPU, 0, 0)\n"
          ],
          "name": "stderr"
        },
        {
          "output_type": "stream",
          "text": [
            "INFO:tensorflow:*** Available Device: _DeviceAttributes(/job:worker/replica:0/task:0/device:TPU:7, TPU, 0, 0)\n"
          ],
          "name": "stdout"
        },
        {
          "output_type": "stream",
          "text": [
            "INFO:tensorflow:*** Available Device: _DeviceAttributes(/job:worker/replica:0/task:0/device:TPU:7, TPU, 0, 0)\n"
          ],
          "name": "stderr"
        },
        {
          "output_type": "stream",
          "text": [
            "INFO:tensorflow:*** Available Device: _DeviceAttributes(/job:worker/replica:0/task:0/device:TPU_SYSTEM:0, TPU_SYSTEM, 0, 0)\n"
          ],
          "name": "stdout"
        },
        {
          "output_type": "stream",
          "text": [
            "INFO:tensorflow:*** Available Device: _DeviceAttributes(/job:worker/replica:0/task:0/device:TPU_SYSTEM:0, TPU_SYSTEM, 0, 0)\n"
          ],
          "name": "stderr"
        },
        {
          "output_type": "stream",
          "text": [
            "INFO:tensorflow:*** Available Device: _DeviceAttributes(/job:worker/replica:0/task:0/device:XLA_CPU:0, XLA_CPU, 0, 0)\n"
          ],
          "name": "stdout"
        },
        {
          "output_type": "stream",
          "text": [
            "INFO:tensorflow:*** Available Device: _DeviceAttributes(/job:worker/replica:0/task:0/device:XLA_CPU:0, XLA_CPU, 0, 0)\n"
          ],
          "name": "stderr"
        },
        {
          "output_type": "stream",
          "text": [
            "... # OF REPLICAS: 8 ...\n",
            "\n",
            "\n",
            "... ACCELERATOR SETUP COMPLTED ...\n",
            "\n"
          ],
          "name": "stdout"
        }
      ]
    },
    {
      "cell_type": "code",
      "metadata": {
        "colab": {
          "base_uri": "https://localhost:8080/"
        },
        "id": "PxmVBE9mxbVh",
        "outputId": "46154c87-75d6-4526-a7ef-ece858d362a9"
      },
      "source": [
        "print(\"\\n... DATA ACCESS SETUP STARTED ...\\n\")\n",
        "\n",
        "#if TPU:\n",
        "    # Google Cloud Dataset path to training and validation images\n",
        "# gcs Input tfrecord \n",
        "DATA_DIR='gs://kds-d4383f77b1572fed62b6b582c9593c9feb1166fa14c8a86238834f7c'\n",
        "\n",
        "#DATA_DIR= './imnput/bms-train-tfrecords-half-length'\n",
        "\n",
        "print(f\"\\n... DATA DIRECTORY PATH IS:\\n\\t--> {DATA_DIR}\")\n",
        "\n",
        "print(f\"\\n... IMMEDIATE CONTENTS OF DATA DIRECTORY IS:\")\n",
        "for file in tf.io.gfile.glob(os.path.join(DATA_DIR, \"*\")): print(f\"\\t--> {file}\")\n",
        "\n",
        "print(\"\\n\\n... DATA ACCESS SETUP COMPLETED ...\\n\")"
      ],
      "execution_count": null,
      "outputs": [
        {
          "output_type": "stream",
          "text": [
            "\n",
            "... DATA ACCESS SETUP STARTED ...\n",
            "\n",
            "\n",
            "... DATA DIRECTORY PATH IS:\n",
            "\t--> gs://kds-d4383f77b1572fed62b6b582c9593c9feb1166fa14c8a86238834f7c\n",
            "\n",
            "... IMMEDIATE CONTENTS OF DATA DIRECTORY IS:\n",
            "\t--> gs://kds-d4383f77b1572fed62b6b582c9593c9feb1166fa14c8a86238834f7c/train_records\n",
            "\t--> gs://kds-d4383f77b1572fed62b6b582c9593c9feb1166fa14c8a86238834f7c/val_records\n",
            "\n",
            "\n",
            "... DATA ACCESS SETUP COMPLETED ...\n",
            "\n"
          ],
          "name": "stdout"
        }
      ]
    },
    {
      "cell_type": "code",
      "metadata": {
        "colab": {
          "base_uri": "https://localhost:8080/"
        },
        "id": "nOmUe3J2xWwx",
        "outputId": "4c3cb6f1-847a-4706-cd67-798e167bd641"
      },
      "source": [
        "print(f\"\\n... MIXED PRECISION SETUP STARTING ...\\n\")\n",
        "print(\"\\n... SET TF TO OPERATE IN MIXED PRECISION – `bfloat16` – IF ON TPU ...\")\n",
        "\n",
        "# Set Mixed Precision Global Policy\n",
        "#     ---> To use mixed precision in Keras, you need to create a `tf.keras.mixed_precision.Policy`\n",
        "#          typically referred to as a dtype policy. \n",
        "#     ---> Dtype policies specify the dtypes layers will run in\n",
        "tf.keras.mixed_precision.set_global_policy('mixed_bfloat16' if TPU else 'float32')\n",
        "\n",
        "# target data type, bfloat16 when using TPU to improve throughput\n",
        "TARGET_DTYPE=tf.bfloat16 if TPU else tf.float32\n",
        "print(f\"\\t--> THE TARGET DTYPE HAS BEEN SET TO {TARGET_DTYPE} ...\")\n",
        "\n",
        "# The policy specifies two important aspects of a layer: \n",
        "#     1. The dtype the layer's computations are done in\n",
        "#     2. The dtype of a layer's variables. \n",
        "print(f\"\\n... TWO IMPORTANT ASPECTS OF THE GLOBAL MIXED PRECISION POLICY:\")\n",
        "print(f'\\t--> COMPUTE DTYPE  : {tf.keras.mixed_precision.global_policy().compute_dtype}')\n",
        "print(f'\\t--> VARIABLE DTYPE : {tf.keras.mixed_precision.global_policy().variable_dtype}')\n",
        "\n",
        "print(f\"\\n\\n... MIXED PRECISION SETUP COMPLTED ...\\n\")"
      ],
      "execution_count": null,
      "outputs": [
        {
          "output_type": "stream",
          "text": [
            "\n",
            "... MIXED PRECISION SETUP STARTING ...\n",
            "\n",
            "\n",
            "... SET TF TO OPERATE IN MIXED PRECISION – `bfloat16` – IF ON TPU ...\n",
            "\t--> THE TARGET DTYPE HAS BEEN SET TO <dtype: 'bfloat16'> ...\n",
            "\n",
            "... TWO IMPORTANT ASPECTS OF THE GLOBAL MIXED PRECISION POLICY:\n",
            "\t--> COMPUTE DTYPE  : bfloat16\n",
            "\t--> VARIABLE DTYPE : float32\n",
            "\n",
            "\n",
            "... MIXED PRECISION SETUP COMPLTED ...\n",
            "\n"
          ],
          "name": "stdout"
        }
      ]
    },
    {
      "cell_type": "code",
      "metadata": {
        "colab": {
          "base_uri": "https://localhost:8080/"
        },
        "id": "lg7Pv5C3xnVz",
        "outputId": "fe15fc69-3708-4f3a-e13b-973223e8d368"
      },
      "source": [
        "print(f\"\\n... XLA OPTIMIZATIONS STARTING ...\\n\")\n",
        "\n",
        "print(f\"\\n... CONFIGURE JIT (JUST IN TIME) COMPILATION ...\\n\")\n",
        "# enable XLA optmizations (10% speedup when using @tf.function calls)\n",
        "tf.config.optimizer.set_jit(True)\n",
        "\n",
        "print(f\"\\n... XLA OPTIMIZATIONS COMPLETED ...\\n\")"
      ],
      "execution_count": null,
      "outputs": [
        {
          "output_type": "stream",
          "text": [
            "\n",
            "... XLA OPTIMIZATIONS STARTING ...\n",
            "\n",
            "\n",
            "... CONFIGURE JIT (JUST IN TIME) COMPILATION ...\n",
            "\n",
            "\n",
            "... XLA OPTIMIZATIONS COMPLETED ...\n",
            "\n"
          ],
          "name": "stdout"
        }
      ]
    },
    {
      "cell_type": "code",
      "metadata": {
        "id": "OYasFZZs30lj"
      },
      "source": [
        "#KaggleDatasets().get_gcs_path('bms-csvs-w-extra-metadata')\n",
        "metadata_GCS = 'gs://kds-8c6c4b36199253c24acd9b057d06a32b939b7cddf06161d9dc1f3f4a'"
      ],
      "execution_count": null,
      "outputs": []
    },
    {
      "cell_type": "code",
      "metadata": {
        "colab": {
          "base_uri": "https://localhost:8080/"
        },
        "id": "GkmkwhDtxq5C",
        "outputId": "c9a57fed-a3d3-4bba-aea2-486271b9d2b5"
      },
      "source": [
        "print(\"\\n... BASIC DATA SETUP STARTING ...\\n\")\n",
        "\n",
        "# All the possible tokens in our InChI 'language'\n",
        "TOKEN_LIST=[\"<PAD>\", \"InChI=1S/\", \"<END>\", \"/c\", \"/h\", \"/m\", \"/t\", \"/b\", \"/s\", \"/i\"] +\\\n",
        "             ['Si', 'Br', 'Cl', 'F', 'I', 'N', 'O', 'P', 'S', 'C', 'H', 'B', ] +\\\n",
        "             [str(i) for i in range(167,-1,-1)] +\\\n",
        "             [\"\\+\", \"\\(\", \"\\)\", \"\\-\", \",\", \"D\", \"T\"]\n",
        "print(f\"\\n... TOKEN LIST:\")\n",
        "for i, tok in enumerate(TOKEN_LIST): print(f\"\\t--> INTEGER-IDX={i:<3}  –––  STRING={tok}\")\n",
        "\n",
        "# The start/end/pad tokens will be removed from the string when computing the Levenshtein distance\n",
        "# We want them as tf.constant's so they will operate properly within the @tf.function context\n",
        "START_TOKEN=tf.constant(TOKEN_LIST.index(\"InChI=1S/\"), dtype=tf.uint8)\n",
        "END_TOKEN=tf.constant(TOKEN_LIST.index(\"<END>\"), dtype=tf.uint8)\n",
        "PAD_TOKEN=tf.constant(TOKEN_LIST.index(\"<PAD>\"), dtype=tf.uint8)\n",
        "\n",
        "# Prefixes and Their Respective Ordering/Format\n",
        "#      -- ORDERING --> {c}{h/None}{b/None}{t/None}{m/None}{s/None}{i/None}{h/None}{t/None}{m/None}\n",
        "PREFIX_ORDERING=\"chbtmsihtm\"\n",
        "print(f\"\\n... PREFIX ORDERING IS {PREFIX_ORDERING} ...\")\n",
        "\n",
        "# Paths to Respective Image Directories\n",
        "TRAIN_DIR=os.path.join(DATA_DIR, \"train_records\")\n",
        "VAL_DIR=os.path.join(DATA_DIR, \"val_records\")\n",
        "#TEST_DIR=os.path.join(TEST_DATA_DIR, \"test_records\")\n",
        "\n",
        "# Get the Full Paths to The Individual TFRecord Files\n",
        "TRAIN_TFREC_PATHS=sorted(\n",
        "    tf.io.gfile.glob(os.path.join(TRAIN_DIR, \"*.tfrec\")), \n",
        "    key=lambda x: int(x.rsplit(\"_\", 2)[1]))\n",
        "VAL_TFREC_PATHS=sorted(\n",
        "    tf.io.gfile.glob(os.path.join(VAL_DIR, \"*.tfrec\")), \n",
        "    key=lambda x: int(x.rsplit(\"_\", 2)[1]))\n",
        "\n",
        "\"\"\"\n",
        "TEST_TFREC_PATHS=sorted(\n",
        "    tf.io.gfile.glob(os.path.join(TEST_DIR, \"*.tfrec\")), \n",
        "    key=lambda x: int(x.rsplit(\"_\", 2)[1]))\n",
        "\"\"\"\n",
        "\n",
        "\n",
        "print(f\"\\n... TFRECORD INFORMATION:\")\n",
        "for SPLIT, TFREC_PATHS in zip([\"TRAIN\", \"VAL\"\n",
        "                              # , \"TEST\"\n",
        "                              ], [TRAIN_TFREC_PATHS, VAL_TFREC_PATHS\n",
        "                              #    , TEST_TFREC_PATHS\n",
        "                                 ]):\n",
        "    print(f\"\\t--> {len(TFREC_PATHS):<3} {SPLIT:<5} TFRECORDS\")\n",
        "\n",
        "# Paths to relevant CSV files containing training and submission information\n",
        "#TRAIN_CSV_PATH=os.path.join(metadata_GCS, \"bms-csvs-w-extra-metadata\", \"train_labels_w_extra.csv\")\n",
        "TRAIN_CSV_PATH=os.path.join(metadata_GCS, \"train_labels_w_extra.csv\")\n",
        "#SS_CSV_PATH   =os.path.join(metadata_GCS, \"bms-csvs-w-extra-metadata\", \"sample_submission_w_extra.csv\")\n",
        "SS_CSV_PATH   =os.path.join(metadata_GCS, \"sample_submission_w_extra.csv\")\n",
        "print(f\"\\n... PATHS TO CSVS:\")\n",
        "print(f\"\\t--> TRAIN CSV: {TRAIN_CSV_PATH}\")\n",
        "print(f\"\\t--> SS CSV   : {SS_CSV_PATH}\")\n",
        "\n",
        "# When debug is true we use a smaller batch size and smaller model\n",
        "DEBUG=False\n",
        "\n",
        "print(\"\\n\\n... BASIC DATA SETUP COMPLETED ...\\n\")"
      ],
      "execution_count": null,
      "outputs": [
        {
          "output_type": "stream",
          "text": [
            "\n",
            "... BASIC DATA SETUP STARTING ...\n",
            "\n",
            "\n",
            "... TOKEN LIST:\n",
            "\t--> INTEGER-IDX=0    –––  STRING=<PAD>\n",
            "\t--> INTEGER-IDX=1    –––  STRING=InChI=1S/\n",
            "\t--> INTEGER-IDX=2    –––  STRING=<END>\n",
            "\t--> INTEGER-IDX=3    –––  STRING=/c\n",
            "\t--> INTEGER-IDX=4    –––  STRING=/h\n",
            "\t--> INTEGER-IDX=5    –––  STRING=/m\n",
            "\t--> INTEGER-IDX=6    –––  STRING=/t\n",
            "\t--> INTEGER-IDX=7    –––  STRING=/b\n",
            "\t--> INTEGER-IDX=8    –––  STRING=/s\n",
            "\t--> INTEGER-IDX=9    –––  STRING=/i\n",
            "\t--> INTEGER-IDX=10   –––  STRING=Si\n",
            "\t--> INTEGER-IDX=11   –––  STRING=Br\n",
            "\t--> INTEGER-IDX=12   –––  STRING=Cl\n",
            "\t--> INTEGER-IDX=13   –––  STRING=F\n",
            "\t--> INTEGER-IDX=14   –––  STRING=I\n",
            "\t--> INTEGER-IDX=15   –––  STRING=N\n",
            "\t--> INTEGER-IDX=16   –––  STRING=O\n",
            "\t--> INTEGER-IDX=17   –––  STRING=P\n",
            "\t--> INTEGER-IDX=18   –––  STRING=S\n",
            "\t--> INTEGER-IDX=19   –––  STRING=C\n",
            "\t--> INTEGER-IDX=20   –––  STRING=H\n",
            "\t--> INTEGER-IDX=21   –––  STRING=B\n",
            "\t--> INTEGER-IDX=22   –––  STRING=167\n",
            "\t--> INTEGER-IDX=23   –––  STRING=166\n",
            "\t--> INTEGER-IDX=24   –––  STRING=165\n",
            "\t--> INTEGER-IDX=25   –––  STRING=164\n",
            "\t--> INTEGER-IDX=26   –––  STRING=163\n",
            "\t--> INTEGER-IDX=27   –––  STRING=162\n",
            "\t--> INTEGER-IDX=28   –––  STRING=161\n",
            "\t--> INTEGER-IDX=29   –––  STRING=160\n",
            "\t--> INTEGER-IDX=30   –––  STRING=159\n",
            "\t--> INTEGER-IDX=31   –––  STRING=158\n",
            "\t--> INTEGER-IDX=32   –––  STRING=157\n",
            "\t--> INTEGER-IDX=33   –––  STRING=156\n",
            "\t--> INTEGER-IDX=34   –––  STRING=155\n",
            "\t--> INTEGER-IDX=35   –––  STRING=154\n",
            "\t--> INTEGER-IDX=36   –––  STRING=153\n",
            "\t--> INTEGER-IDX=37   –––  STRING=152\n",
            "\t--> INTEGER-IDX=38   –––  STRING=151\n",
            "\t--> INTEGER-IDX=39   –––  STRING=150\n",
            "\t--> INTEGER-IDX=40   –––  STRING=149\n",
            "\t--> INTEGER-IDX=41   –––  STRING=148\n",
            "\t--> INTEGER-IDX=42   –––  STRING=147\n",
            "\t--> INTEGER-IDX=43   –––  STRING=146\n",
            "\t--> INTEGER-IDX=44   –––  STRING=145\n",
            "\t--> INTEGER-IDX=45   –––  STRING=144\n",
            "\t--> INTEGER-IDX=46   –––  STRING=143\n",
            "\t--> INTEGER-IDX=47   –––  STRING=142\n",
            "\t--> INTEGER-IDX=48   –––  STRING=141\n",
            "\t--> INTEGER-IDX=49   –––  STRING=140\n",
            "\t--> INTEGER-IDX=50   –––  STRING=139\n",
            "\t--> INTEGER-IDX=51   –––  STRING=138\n",
            "\t--> INTEGER-IDX=52   –––  STRING=137\n",
            "\t--> INTEGER-IDX=53   –––  STRING=136\n",
            "\t--> INTEGER-IDX=54   –––  STRING=135\n",
            "\t--> INTEGER-IDX=55   –––  STRING=134\n",
            "\t--> INTEGER-IDX=56   –––  STRING=133\n",
            "\t--> INTEGER-IDX=57   –––  STRING=132\n",
            "\t--> INTEGER-IDX=58   –––  STRING=131\n",
            "\t--> INTEGER-IDX=59   –––  STRING=130\n",
            "\t--> INTEGER-IDX=60   –––  STRING=129\n",
            "\t--> INTEGER-IDX=61   –––  STRING=128\n",
            "\t--> INTEGER-IDX=62   –––  STRING=127\n",
            "\t--> INTEGER-IDX=63   –––  STRING=126\n",
            "\t--> INTEGER-IDX=64   –––  STRING=125\n",
            "\t--> INTEGER-IDX=65   –––  STRING=124\n",
            "\t--> INTEGER-IDX=66   –––  STRING=123\n",
            "\t--> INTEGER-IDX=67   –––  STRING=122\n",
            "\t--> INTEGER-IDX=68   –––  STRING=121\n",
            "\t--> INTEGER-IDX=69   –––  STRING=120\n",
            "\t--> INTEGER-IDX=70   –––  STRING=119\n",
            "\t--> INTEGER-IDX=71   –––  STRING=118\n",
            "\t--> INTEGER-IDX=72   –––  STRING=117\n",
            "\t--> INTEGER-IDX=73   –––  STRING=116\n",
            "\t--> INTEGER-IDX=74   –––  STRING=115\n",
            "\t--> INTEGER-IDX=75   –––  STRING=114\n",
            "\t--> INTEGER-IDX=76   –––  STRING=113\n",
            "\t--> INTEGER-IDX=77   –––  STRING=112\n",
            "\t--> INTEGER-IDX=78   –––  STRING=111\n",
            "\t--> INTEGER-IDX=79   –––  STRING=110\n",
            "\t--> INTEGER-IDX=80   –––  STRING=109\n",
            "\t--> INTEGER-IDX=81   –––  STRING=108\n",
            "\t--> INTEGER-IDX=82   –––  STRING=107\n",
            "\t--> INTEGER-IDX=83   –––  STRING=106\n",
            "\t--> INTEGER-IDX=84   –––  STRING=105\n",
            "\t--> INTEGER-IDX=85   –––  STRING=104\n",
            "\t--> INTEGER-IDX=86   –––  STRING=103\n",
            "\t--> INTEGER-IDX=87   –––  STRING=102\n",
            "\t--> INTEGER-IDX=88   –––  STRING=101\n",
            "\t--> INTEGER-IDX=89   –––  STRING=100\n",
            "\t--> INTEGER-IDX=90   –––  STRING=99\n",
            "\t--> INTEGER-IDX=91   –––  STRING=98\n",
            "\t--> INTEGER-IDX=92   –––  STRING=97\n",
            "\t--> INTEGER-IDX=93   –––  STRING=96\n",
            "\t--> INTEGER-IDX=94   –––  STRING=95\n",
            "\t--> INTEGER-IDX=95   –––  STRING=94\n",
            "\t--> INTEGER-IDX=96   –––  STRING=93\n",
            "\t--> INTEGER-IDX=97   –––  STRING=92\n",
            "\t--> INTEGER-IDX=98   –––  STRING=91\n",
            "\t--> INTEGER-IDX=99   –––  STRING=90\n",
            "\t--> INTEGER-IDX=100  –––  STRING=89\n",
            "\t--> INTEGER-IDX=101  –––  STRING=88\n",
            "\t--> INTEGER-IDX=102  –––  STRING=87\n",
            "\t--> INTEGER-IDX=103  –––  STRING=86\n",
            "\t--> INTEGER-IDX=104  –––  STRING=85\n",
            "\t--> INTEGER-IDX=105  –––  STRING=84\n",
            "\t--> INTEGER-IDX=106  –––  STRING=83\n",
            "\t--> INTEGER-IDX=107  –––  STRING=82\n",
            "\t--> INTEGER-IDX=108  –––  STRING=81\n",
            "\t--> INTEGER-IDX=109  –––  STRING=80\n",
            "\t--> INTEGER-IDX=110  –––  STRING=79\n",
            "\t--> INTEGER-IDX=111  –––  STRING=78\n",
            "\t--> INTEGER-IDX=112  –––  STRING=77\n",
            "\t--> INTEGER-IDX=113  –––  STRING=76\n",
            "\t--> INTEGER-IDX=114  –––  STRING=75\n",
            "\t--> INTEGER-IDX=115  –––  STRING=74\n",
            "\t--> INTEGER-IDX=116  –––  STRING=73\n",
            "\t--> INTEGER-IDX=117  –––  STRING=72\n",
            "\t--> INTEGER-IDX=118  –––  STRING=71\n",
            "\t--> INTEGER-IDX=119  –––  STRING=70\n",
            "\t--> INTEGER-IDX=120  –––  STRING=69\n",
            "\t--> INTEGER-IDX=121  –––  STRING=68\n",
            "\t--> INTEGER-IDX=122  –––  STRING=67\n",
            "\t--> INTEGER-IDX=123  –––  STRING=66\n",
            "\t--> INTEGER-IDX=124  –––  STRING=65\n",
            "\t--> INTEGER-IDX=125  –––  STRING=64\n",
            "\t--> INTEGER-IDX=126  –––  STRING=63\n",
            "\t--> INTEGER-IDX=127  –––  STRING=62\n",
            "\t--> INTEGER-IDX=128  –––  STRING=61\n",
            "\t--> INTEGER-IDX=129  –––  STRING=60\n",
            "\t--> INTEGER-IDX=130  –––  STRING=59\n",
            "\t--> INTEGER-IDX=131  –––  STRING=58\n",
            "\t--> INTEGER-IDX=132  –––  STRING=57\n",
            "\t--> INTEGER-IDX=133  –––  STRING=56\n",
            "\t--> INTEGER-IDX=134  –––  STRING=55\n",
            "\t--> INTEGER-IDX=135  –––  STRING=54\n",
            "\t--> INTEGER-IDX=136  –––  STRING=53\n",
            "\t--> INTEGER-IDX=137  –––  STRING=52\n",
            "\t--> INTEGER-IDX=138  –––  STRING=51\n",
            "\t--> INTEGER-IDX=139  –––  STRING=50\n",
            "\t--> INTEGER-IDX=140  –––  STRING=49\n",
            "\t--> INTEGER-IDX=141  –––  STRING=48\n",
            "\t--> INTEGER-IDX=142  –––  STRING=47\n",
            "\t--> INTEGER-IDX=143  –––  STRING=46\n",
            "\t--> INTEGER-IDX=144  –––  STRING=45\n",
            "\t--> INTEGER-IDX=145  –––  STRING=44\n",
            "\t--> INTEGER-IDX=146  –––  STRING=43\n",
            "\t--> INTEGER-IDX=147  –––  STRING=42\n",
            "\t--> INTEGER-IDX=148  –––  STRING=41\n",
            "\t--> INTEGER-IDX=149  –––  STRING=40\n",
            "\t--> INTEGER-IDX=150  –––  STRING=39\n",
            "\t--> INTEGER-IDX=151  –––  STRING=38\n",
            "\t--> INTEGER-IDX=152  –––  STRING=37\n",
            "\t--> INTEGER-IDX=153  –––  STRING=36\n",
            "\t--> INTEGER-IDX=154  –––  STRING=35\n",
            "\t--> INTEGER-IDX=155  –––  STRING=34\n",
            "\t--> INTEGER-IDX=156  –––  STRING=33\n",
            "\t--> INTEGER-IDX=157  –––  STRING=32\n",
            "\t--> INTEGER-IDX=158  –––  STRING=31\n",
            "\t--> INTEGER-IDX=159  –––  STRING=30\n",
            "\t--> INTEGER-IDX=160  –––  STRING=29\n",
            "\t--> INTEGER-IDX=161  –––  STRING=28\n",
            "\t--> INTEGER-IDX=162  –––  STRING=27\n",
            "\t--> INTEGER-IDX=163  –––  STRING=26\n",
            "\t--> INTEGER-IDX=164  –––  STRING=25\n",
            "\t--> INTEGER-IDX=165  –––  STRING=24\n",
            "\t--> INTEGER-IDX=166  –––  STRING=23\n",
            "\t--> INTEGER-IDX=167  –––  STRING=22\n",
            "\t--> INTEGER-IDX=168  –––  STRING=21\n",
            "\t--> INTEGER-IDX=169  –––  STRING=20\n",
            "\t--> INTEGER-IDX=170  –––  STRING=19\n",
            "\t--> INTEGER-IDX=171  –––  STRING=18\n",
            "\t--> INTEGER-IDX=172  –––  STRING=17\n",
            "\t--> INTEGER-IDX=173  –––  STRING=16\n",
            "\t--> INTEGER-IDX=174  –––  STRING=15\n",
            "\t--> INTEGER-IDX=175  –––  STRING=14\n",
            "\t--> INTEGER-IDX=176  –––  STRING=13\n",
            "\t--> INTEGER-IDX=177  –––  STRING=12\n",
            "\t--> INTEGER-IDX=178  –––  STRING=11\n",
            "\t--> INTEGER-IDX=179  –––  STRING=10\n",
            "\t--> INTEGER-IDX=180  –––  STRING=9\n",
            "\t--> INTEGER-IDX=181  –––  STRING=8\n",
            "\t--> INTEGER-IDX=182  –––  STRING=7\n",
            "\t--> INTEGER-IDX=183  –––  STRING=6\n",
            "\t--> INTEGER-IDX=184  –––  STRING=5\n",
            "\t--> INTEGER-IDX=185  –––  STRING=4\n",
            "\t--> INTEGER-IDX=186  –––  STRING=3\n",
            "\t--> INTEGER-IDX=187  –––  STRING=2\n",
            "\t--> INTEGER-IDX=188  –––  STRING=1\n",
            "\t--> INTEGER-IDX=189  –––  STRING=0\n",
            "\t--> INTEGER-IDX=190  –––  STRING=\\+\n",
            "\t--> INTEGER-IDX=191  –––  STRING=\\(\n",
            "\t--> INTEGER-IDX=192  –––  STRING=\\)\n",
            "\t--> INTEGER-IDX=193  –––  STRING=\\-\n",
            "\t--> INTEGER-IDX=194  –––  STRING=,\n",
            "\t--> INTEGER-IDX=195  –––  STRING=D\n",
            "\t--> INTEGER-IDX=196  –––  STRING=T\n",
            "\n",
            "... PREFIX ORDERING IS chbtmsihtm ...\n",
            "\n",
            "... TFRECORD INFORMATION:\n",
            "\t--> 57  TRAIN TFRECORDS\n",
            "\t--> 2   VAL   TFRECORDS\n",
            "\n",
            "... PATHS TO CSVS:\n",
            "\t--> TRAIN CSV: gs://kds-8c6c4b36199253c24acd9b057d06a32b939b7cddf06161d9dc1f3f4a/train_labels_w_extra.csv\n",
            "\t--> SS CSV   : gs://kds-8c6c4b36199253c24acd9b057d06a32b939b7cddf06161d9dc1f3f4a/sample_submission_w_extra.csv\n",
            "\n",
            "\n",
            "... BASIC DATA SETUP COMPLETED ...\n",
            "\n"
          ],
          "name": "stdout"
        }
      ]
    },
    {
      "cell_type": "code",
      "metadata": {
        "colab": {
          "base_uri": "https://localhost:8080/",
          "height": 964
        },
        "id": "zVGKJ1J_38uC",
        "outputId": "42d7ce11-e71f-4292-83fb-e47eb7efd866"
      },
      "source": [
        " print(\"\\n... INITIAL DATAFRAME INSTANTIATION STARTING ...\\n\")\n",
        "\n",
        "# Load the train and submission dataframes\n",
        "train_df=pd.read_csv(TRAIN_CSV_PATH)\n",
        "ss_df   =pd.read_csv(SS_CSV_PATH)\n",
        "\n",
        "# --- Distribution Information ---\n",
        "N_EX   =len(train_df)\n",
        "N_TEST =len(ss_df)\n",
        "N_VAL  =80_000 # Fixed from dataset creation information\n",
        "N_TRAIN=N_EX-N_VAL\n",
        "\n",
        "# --- Batching Information ---\n",
        "BATCH_SIZE_DEBUG=2\n",
        "\n",
        "#REPLICA_BATCH_SIZE=64 # Could probably be 128\n",
        "REPLICA_BATCH_SIZE=24\n",
        "\n",
        "if DEBUG:\n",
        "    REPLICA_BATCH_SIZE=BATCH_SIZE_DEBUG\n",
        "OVERALL_BATCH_SIZE=REPLICA_BATCH_SIZE*N_REPLICAS\n",
        "\n",
        "\n",
        "# --- Input Image Information ---\n",
        "IMG_SHAPE=(192,384,3)\n",
        "\n",
        "# --- Autocalculate Training/Validation/Testing Information ---\n",
        "TRAIN_STEPS=N_TRAIN  // OVERALL_BATCH_SIZE\n",
        "VAL_STEPS  =N_VAL    // OVERALL_BATCH_SIZE\n",
        "TEST_STEPS =int(np.ceil(N_TEST/OVERALL_BATCH_SIZE))\n",
        "\n",
        "# This is for padding our test dataset so we only have whole batches\n",
        "REQUIRED_DATASET_PAD=OVERALL_BATCH_SIZE-N_TEST%OVERALL_BATCH_SIZE\n",
        "\n",
        "# --- Modelling Information ---\n",
        "ATTN_EMB_DIM =192\n",
        "N_RNN_UNITS  =512\n",
        "\n",
        "print(f\"\\n... # OF TRAIN+VAL EXAMPLES  : {N_EX:<7} ...\")\n",
        "print(f\"... # OF TRAIN EXAMPLES      : {N_TRAIN:<7} ...\")\n",
        "print(f\"... # OF VALIDATION EXAMPLES : {N_VAL:<7} ...\")\n",
        "print(f\"... # OF TEST EXAMPLES       : {N_TEST:<7} ...\\n\")\n",
        "\n",
        "print(f\"\\n... REPLICA BATCH SIZE    : {REPLICA_BATCH_SIZE} ...\")\n",
        "print(f\"... OVERALL BATCH SIZE    : {OVERALL_BATCH_SIZE} ...\\n\")\n",
        "\n",
        "print(f\"\\n... IMAGE SHAPE           : {IMG_SHAPE} ...\\n\")\n",
        "\n",
        "print(f\"\\n... TRAIN STEPS PER EPOCH : {TRAIN_STEPS:<5} ...\")\n",
        "print(f\"... VAL STEPS PER EPOCH   : {VAL_STEPS:<5} ...\")\n",
        "print(f\"... TEST STEPS PER EPOCH  : {TEST_STEPS:<5} ...\\n\")\n",
        "\n",
        "print(f\"\\n... ATTENTION EMBEDDING DIMENSION : {ATTN_EMB_DIM:<5} ...\")\n",
        "print(f\"... NUMBER OF UNITS IN LSTM       : {N_RNN_UNITS:<5} ...\\n\")\n",
        "\n",
        "print(\"\\n... TRAIN DATAFRAME ...\\n\")\n",
        "display(train_df.head(3))\n",
        "\n",
        "print(\"\\n... SUBMISSION DATAFRAME ...\\n\")\n",
        "display(ss_df.head(3))\n",
        "\n",
        "print(\"\\n... INITIAL DATAFRAME INSTANTIATION COMPLETED...\\n\")"
      ],
      "execution_count": null,
      "outputs": [
        {
          "output_type": "stream",
          "text": [
            "\n",
            "... INITIAL DATAFRAME INSTANTIATION STARTING ...\n",
            "\n"
          ],
          "name": "stdout"
        },
        {
          "output_type": "stream",
          "text": [
            "WARNING:google.auth.compute_engine._metadata:Compute Engine Metadata server unavailable onattempt 1 of 3. Reason: [Errno 115] Operation now in progress\n",
            "WARNING:google.auth.compute_engine._metadata:Compute Engine Metadata server unavailable onattempt 2 of 3. Reason: [Errno 115] Operation now in progress\n",
            "WARNING:google.auth.compute_engine._metadata:Compute Engine Metadata server unavailable onattempt 3 of 3. Reason: [Errno 115] Operation now in progress\n",
            "WARNING:google.auth._default:Authentication failed using Compute Engine authentication due to unavailable metadata server.\n"
          ],
          "name": "stderr"
        },
        {
          "output_type": "stream",
          "text": [
            "\n",
            "... # OF TRAIN+VAL EXAMPLES  : 2344186 ...\n",
            "... # OF TRAIN EXAMPLES      : 2264186 ...\n",
            "... # OF VALIDATION EXAMPLES : 80000   ...\n",
            "... # OF TEST EXAMPLES       : 1616107 ...\n",
            "\n",
            "\n",
            "... REPLICA BATCH SIZE    : 24 ...\n",
            "... OVERALL BATCH SIZE    : 192 ...\n",
            "\n",
            "\n",
            "... IMAGE SHAPE           : (192, 384, 3) ...\n",
            "\n",
            "\n",
            "... TRAIN STEPS PER EPOCH : 11792 ...\n",
            "... VAL STEPS PER EPOCH   : 416   ...\n",
            "... TEST STEPS PER EPOCH  : 8418  ...\n",
            "\n",
            "\n",
            "... ATTENTION EMBEDDING DIMENSION : 192   ...\n",
            "... NUMBER OF UNITS IN LSTM       : 512   ...\n",
            "\n",
            "\n",
            "... TRAIN DATAFRAME ...\n",
            "\n"
          ],
          "name": "stdout"
        },
        {
          "output_type": "display_data",
          "data": {
            "text/html": [
              "<div>\n",
              "<style scoped>\n",
              "    .dataframe tbody tr th:only-of-type {\n",
              "        vertical-align: middle;\n",
              "    }\n",
              "\n",
              "    .dataframe tbody tr th {\n",
              "        vertical-align: top;\n",
              "    }\n",
              "\n",
              "    .dataframe thead th {\n",
              "        text-align: right;\n",
              "    }\n",
              "</style>\n",
              "<table border=\"1\" class=\"dataframe\">\n",
              "  <thead>\n",
              "    <tr style=\"text-align: right;\">\n",
              "      <th></th>\n",
              "      <th>image_id</th>\n",
              "      <th>InChI</th>\n",
              "      <th>img_path</th>\n",
              "      <th>inchi_token_len</th>\n",
              "      <th>roi_bbox</th>\n",
              "      <th>crop_width</th>\n",
              "      <th>crop_height</th>\n",
              "      <th>aspect_ratio</th>\n",
              "    </tr>\n",
              "  </thead>\n",
              "  <tbody>\n",
              "    <tr>\n",
              "      <th>0</th>\n",
              "      <td>086e77fe6edf</td>\n",
              "      <td>InChI=1S/C21H25N3O2S/c1-5-6-16-13-18(27-14(16)...</td>\n",
              "      <td>/kaggle/input/bms-molecular-translation/train/...</td>\n",
              "      <td>97</td>\n",
              "      <td>(24, 23, 237, 184)</td>\n",
              "      <td>213</td>\n",
              "      <td>161</td>\n",
              "      <td>1.322981</td>\n",
              "    </tr>\n",
              "    <tr>\n",
              "      <th>1</th>\n",
              "      <td>086e891d2e10</td>\n",
              "      <td>InChI=1S/C25H27N5O3/c1-25(2,3)33-24(31)29-14-1...</td>\n",
              "      <td>/kaggle/input/bms-molecular-translation/train/...</td>\n",
              "      <td>106</td>\n",
              "      <td>(23, 23, 333, 200)</td>\n",
              "      <td>310</td>\n",
              "      <td>177</td>\n",
              "      <td>1.751412</td>\n",
              "    </tr>\n",
              "    <tr>\n",
              "      <th>2</th>\n",
              "      <td>086e8f6bc917</td>\n",
              "      <td>InChI=1S/C16H15N3O2/c1-11-7-13-16(17-9-11)19(1...</td>\n",
              "      <td>/kaggle/input/bms-molecular-translation/train/...</td>\n",
              "      <td>82</td>\n",
              "      <td>(39, 38, 329, 270)</td>\n",
              "      <td>290</td>\n",
              "      <td>232</td>\n",
              "      <td>1.250000</td>\n",
              "    </tr>\n",
              "  </tbody>\n",
              "</table>\n",
              "</div>"
            ],
            "text/plain": [
              "       image_id  ... aspect_ratio\n",
              "0  086e77fe6edf  ...     1.322981\n",
              "1  086e891d2e10  ...     1.751412\n",
              "2  086e8f6bc917  ...     1.250000\n",
              "\n",
              "[3 rows x 8 columns]"
            ]
          },
          "metadata": {
            "tags": []
          }
        },
        {
          "output_type": "stream",
          "text": [
            "\n",
            "... SUBMISSION DATAFRAME ...\n",
            "\n"
          ],
          "name": "stdout"
        },
        {
          "output_type": "display_data",
          "data": {
            "text/html": [
              "<div>\n",
              "<style scoped>\n",
              "    .dataframe tbody tr th:only-of-type {\n",
              "        vertical-align: middle;\n",
              "    }\n",
              "\n",
              "    .dataframe tbody tr th {\n",
              "        vertical-align: top;\n",
              "    }\n",
              "\n",
              "    .dataframe thead th {\n",
              "        text-align: right;\n",
              "    }\n",
              "</style>\n",
              "<table border=\"1\" class=\"dataframe\">\n",
              "  <thead>\n",
              "    <tr style=\"text-align: right;\">\n",
              "      <th></th>\n",
              "      <th>image_id</th>\n",
              "      <th>InChI</th>\n",
              "      <th>img_path</th>\n",
              "      <th>roi_bbox</th>\n",
              "      <th>crop_width</th>\n",
              "      <th>crop_height</th>\n",
              "      <th>aspect_ratio</th>\n",
              "    </tr>\n",
              "  </thead>\n",
              "  <tbody>\n",
              "    <tr>\n",
              "      <th>0</th>\n",
              "      <td>00000d2a601c</td>\n",
              "      <td>InChI=1S/H2O/h1H2</td>\n",
              "      <td>/kaggle/input/bms-molecular-translation/test/0...</td>\n",
              "      <td>(38, 1, 318, 205)</td>\n",
              "      <td>280</td>\n",
              "      <td>204</td>\n",
              "      <td>1.372549</td>\n",
              "    </tr>\n",
              "    <tr>\n",
              "      <th>1</th>\n",
              "      <td>00001f7fc849</td>\n",
              "      <td>InChI=1S/H2O/h1H2</td>\n",
              "      <td>/kaggle/input/bms-molecular-translation/test/0...</td>\n",
              "      <td>(38, 38, 226, 401)</td>\n",
              "      <td>188</td>\n",
              "      <td>363</td>\n",
              "      <td>0.517906</td>\n",
              "    </tr>\n",
              "    <tr>\n",
              "      <th>2</th>\n",
              "      <td>000037687605</td>\n",
              "      <td>InChI=1S/H2O/h1H2</td>\n",
              "      <td>/kaggle/input/bms-molecular-translation/test/0...</td>\n",
              "      <td>(38, 38, 297, 349)</td>\n",
              "      <td>259</td>\n",
              "      <td>311</td>\n",
              "      <td>0.832797</td>\n",
              "    </tr>\n",
              "  </tbody>\n",
              "</table>\n",
              "</div>"
            ],
            "text/plain": [
              "       image_id              InChI  ... crop_height aspect_ratio\n",
              "0  00000d2a601c  InChI=1S/H2O/h1H2  ...         204     1.372549\n",
              "1  00001f7fc849  InChI=1S/H2O/h1H2  ...         363     0.517906\n",
              "2  000037687605  InChI=1S/H2O/h1H2  ...         311     0.832797\n",
              "\n",
              "[3 rows x 7 columns]"
            ]
          },
          "metadata": {
            "tags": []
          }
        },
        {
          "output_type": "stream",
          "text": [
            "\n",
            "... INITIAL DATAFRAME INSTANTIATION COMPLETED...\n",
            "\n"
          ],
          "name": "stdout"
        }
      ]
    },
    {
      "cell_type": "markdown",
      "metadata": {
        "id": "zy5OOa58czYw"
      },
      "source": [
        "# Prepare Dataset"
      ]
    },
    {
      "cell_type": "code",
      "metadata": {
        "colab": {
          "base_uri": "https://localhost:8080/"
        },
        "id": "pmZeVBSx4tvk",
        "outputId": "0164f7f9-ed30-4307-b833-641056b1d646"
      },
      "source": [
        "print(\"\\n... SPECIAL VARIABLE SETUP STARTING ...\\n\")\n",
        "\n",
        "\n",
        "# Whether to start training using previously checkpointed model\n",
        "LOAD_MODEL       =False\n",
        "ENCODER_CKPT_PATH=\"\"\n",
        "DECODER_CKPT_PATH=\"\"\n",
        "\n",
        "if LOAD_MODEL:\n",
        "    print(f\"\\n... ENCODER MODEL TRAINING WILL RESUME FROM PREVIOUS CHECKPOINT:\\n\\t-->{ENCODER_CKPT_PATH}\\n\")\n",
        "    print(f\"... DECODER MODEL TRAINING WILL RESUME FROM PREVIOUS CHECKPOINT:\\n\\t-->{DECODER_CKPT_PATH}\\n\")\n",
        "else:\n",
        "    print(f\"\\n... MODEL TRAINING WILL START FROM SCRATCH ...\\n\")\n",
        "\n",
        "    \n",
        "print(\"\\n... SPECIAL VARIABLE SETUP COMPLETED ...\\n\")"
      ],
      "execution_count": null,
      "outputs": [
        {
          "output_type": "stream",
          "text": [
            "\n",
            "... SPECIAL VARIABLE SETUP STARTING ...\n",
            "\n",
            "\n",
            "... MODEL TRAINING WILL START FROM SCRATCH ...\n",
            "\n",
            "\n",
            "... SPECIAL VARIABLE SETUP COMPLETED ...\n",
            "\n"
          ],
          "name": "stdout"
        }
      ]
    },
    {
      "cell_type": "code",
      "metadata": {
        "id": "ZXZ2rsj-5MfU"
      },
      "source": [
        "def flatten_l_o_l(nested_list):\n",
        "    \"\"\" Flatten a list of lists \"\"\"\n",
        "    return [item for sublist in nested_list for item in sublist]\n",
        "\n",
        "\n",
        "def tf_load_image(path, img_size=(192,384,3), invert=False):\n",
        "    \"\"\" Load an image with the correct size and shape \n",
        "    \n",
        "    Args:\n",
        "        path (tf.string): Path to the image to be loaded\n",
        "        img_size (tuple, optional): Size to reshape image to (required for TPU)\n",
        "        tile_to_3_channel (bool, optional): Whether to tile the single channel\n",
        "            image to 3 channels which will be required for most off-the-shelf models\n",
        "        invert (bool, optional): Whether or not to invert the background/foreground\n",
        "    \n",
        "    Returns:\n",
        "        3 channel tf.Constant image ready for training/inference\n",
        "    \n",
        "    \"\"\"\n",
        "    img=decode_img(tf.io.read_file(path), img_size, n_channels=3, invert=invert)        \n",
        "    return img\n",
        "    \n",
        "    \n",
        "def decode_image(image_data, resize_to=(192,384,3)):\n",
        "    \"\"\" Function to decode the tf.string containing image information \n",
        "    \n",
        "    \n",
        "    Args:\n",
        "        image_data (tf.string): String containing encoded image data from tf.Example\n",
        "        resize_to (tuple, optional): Size that we will reshape the tensor to (required for TPU)\n",
        "    \n",
        "    Returns:\n",
        "        Tensor containing the resized single-channel image in the appropriate dtype\n",
        "    \"\"\"\n",
        "    image=tf.image.decode_png(image_data, channels=3)\n",
        "    image=tf.reshape(image, resize_to)\n",
        "    return tf.cast(image, TARGET_DTYPE)\n",
        "    \n",
        "    \n",
        "# sparse tensors are required to compute the Levenshtein distance\n",
        "def dense_to_sparse(dense):\n",
        "    \"\"\" Convert a dense tensor to a sparse tensor \n",
        "    \n",
        "    Args:\n",
        "        dense (Tensor): TBD\n",
        "        \n",
        "    Returns:\n",
        "        A sparse tensor    \n",
        "    \"\"\"\n",
        "    indices=tf.where(tf.ones_like(dense))\n",
        "    values=tf.reshape(dense, (MAX_LEN*OVERALL_BATCH_SIZE,))\n",
        "    sparse=tf.SparseTensor(indices, values, dense.shape)\n",
        "    return sparse\n",
        "\n",
        "def get_levenshtein_distance(preds, lbls):\n",
        "    \"\"\" Computes the Levenshtein distance between the predictions and labels \n",
        "    \n",
        "    Args:\n",
        "        preds (tensor): Batch of predictions\n",
        "        lbls (tensor): Batch of labels\n",
        "        \n",
        "    Returns:\n",
        "        The mean Levenshtein distance calculated across the batch\n",
        "    \"\"\"\n",
        "    preds=tf.where(tf.not_equal(lbls, END_TOKEN) & tf.not_equal(lbls, PAD_TOKEN), preds, 0)\n",
        "    lbls=tf.where(tf.not_equal(lbls, END_TOKEN), lbls, 0)\n",
        "\n",
        "    preds_sparse=dense_to_sparse(preds)\n",
        "    lbls_sparse=dense_to_sparse(lbls)\n",
        "\n",
        "    batch_distance=tf.edit_distance(preds_sparse, lbls_sparse, normalize=False)\n",
        "    mean_distance=tf.math.reduce_mean(batch_distance)\n",
        "    \n",
        "    return mean_distance"
      ],
      "execution_count": null,
      "outputs": []
    },
    {
      "cell_type": "code",
      "metadata": {
        "colab": {
          "base_uri": "https://localhost:8080/"
        },
        "id": "VCfYmzKW5QcL",
        "outputId": "8aa85938-d3d2-4602-cfb2-742d5319a956"
      },
      "source": [
        "print(\"\\n\\n... STARTING PREPARING VARIABLES FOR DATASET ...\\n\")\n",
        "\n",
        "tok_2_int={c.strip(\"\\\\\"):i for i,c in enumerate(TOKEN_LIST)}\n",
        "int_2_tok={v:k for k,v in tok_2_int.items()}\n",
        "\n",
        "# Max Length Was Determined Previously Using... \n",
        "#     >>> MAX_LEN=train_df.InChI.progress_apply(lambda x: len(re.findall(\"|\".join(TOKEN_LIST), x))).max()+1\n",
        "MAX_LEN=((train_df.inchi_token_len.max()+1)//2) # //2 yields 138... which is half of max length (speeds up training)\n",
        "VOCAB_LEN=len(int_2_tok)\n",
        "\n",
        "print(f\"\\t--> TOKEN TO INTEGER MAP     : {tok_2_int}\")\n",
        "print(f\"\\t--> INTEGER TO TOKEN MAP     : {int_2_tok}\")\n",
        "print(f\"\\t--> MAX # OF TOKENS IN INCHI : {MAX_LEN}\")\n",
        "print(f\"\\t--> LENGTH OF VOCAB          : {VOCAB_LEN}\")\n",
        "\n",
        "print(f\"\\n\\n\\t--> CONVERTED INCHI STRINGS  :\")\n",
        "for i, row in train_df.iloc[:N_VAL].sample(3).iterrows():\n",
        "    print(f\"\\n\\t\\t--> EXAMPLE #{i} FROM THE VALIDATION DATASET\")\n",
        "    print(\"\\t\\t\\t--> RAW INCHI : \", row[\"InChI\"])\n",
        "\n",
        "print(\"\\n\\n... PREPARING VARIABLES FOR DATASET COMPLETED ...\\n\")"
      ],
      "execution_count": null,
      "outputs": [
        {
          "output_type": "stream",
          "text": [
            "\n",
            "\n",
            "... STARTING PREPARING VARIABLES FOR DATASET ...\n",
            "\n",
            "\t--> TOKEN TO INTEGER MAP     : {'<PAD>': 0, 'InChI=1S/': 1, '<END>': 2, '/c': 3, '/h': 4, '/m': 5, '/t': 6, '/b': 7, '/s': 8, '/i': 9, 'Si': 10, 'Br': 11, 'Cl': 12, 'F': 13, 'I': 14, 'N': 15, 'O': 16, 'P': 17, 'S': 18, 'C': 19, 'H': 20, 'B': 21, '167': 22, '166': 23, '165': 24, '164': 25, '163': 26, '162': 27, '161': 28, '160': 29, '159': 30, '158': 31, '157': 32, '156': 33, '155': 34, '154': 35, '153': 36, '152': 37, '151': 38, '150': 39, '149': 40, '148': 41, '147': 42, '146': 43, '145': 44, '144': 45, '143': 46, '142': 47, '141': 48, '140': 49, '139': 50, '138': 51, '137': 52, '136': 53, '135': 54, '134': 55, '133': 56, '132': 57, '131': 58, '130': 59, '129': 60, '128': 61, '127': 62, '126': 63, '125': 64, '124': 65, '123': 66, '122': 67, '121': 68, '120': 69, '119': 70, '118': 71, '117': 72, '116': 73, '115': 74, '114': 75, '113': 76, '112': 77, '111': 78, '110': 79, '109': 80, '108': 81, '107': 82, '106': 83, '105': 84, '104': 85, '103': 86, '102': 87, '101': 88, '100': 89, '99': 90, '98': 91, '97': 92, '96': 93, '95': 94, '94': 95, '93': 96, '92': 97, '91': 98, '90': 99, '89': 100, '88': 101, '87': 102, '86': 103, '85': 104, '84': 105, '83': 106, '82': 107, '81': 108, '80': 109, '79': 110, '78': 111, '77': 112, '76': 113, '75': 114, '74': 115, '73': 116, '72': 117, '71': 118, '70': 119, '69': 120, '68': 121, '67': 122, '66': 123, '65': 124, '64': 125, '63': 126, '62': 127, '61': 128, '60': 129, '59': 130, '58': 131, '57': 132, '56': 133, '55': 134, '54': 135, '53': 136, '52': 137, '51': 138, '50': 139, '49': 140, '48': 141, '47': 142, '46': 143, '45': 144, '44': 145, '43': 146, '42': 147, '41': 148, '40': 149, '39': 150, '38': 151, '37': 152, '36': 153, '35': 154, '34': 155, '33': 156, '32': 157, '31': 158, '30': 159, '29': 160, '28': 161, '27': 162, '26': 163, '25': 164, '24': 165, '23': 166, '22': 167, '21': 168, '20': 169, '19': 170, '18': 171, '17': 172, '16': 173, '15': 174, '14': 175, '13': 176, '12': 177, '11': 178, '10': 179, '9': 180, '8': 181, '7': 182, '6': 183, '5': 184, '4': 185, '3': 186, '2': 187, '1': 188, '0': 189, '+': 190, '(': 191, ')': 192, '-': 193, ',': 194, 'D': 195, 'T': 196}\n",
            "\t--> INTEGER TO TOKEN MAP     : {0: '<PAD>', 1: 'InChI=1S/', 2: '<END>', 3: '/c', 4: '/h', 5: '/m', 6: '/t', 7: '/b', 8: '/s', 9: '/i', 10: 'Si', 11: 'Br', 12: 'Cl', 13: 'F', 14: 'I', 15: 'N', 16: 'O', 17: 'P', 18: 'S', 19: 'C', 20: 'H', 21: 'B', 22: '167', 23: '166', 24: '165', 25: '164', 26: '163', 27: '162', 28: '161', 29: '160', 30: '159', 31: '158', 32: '157', 33: '156', 34: '155', 35: '154', 36: '153', 37: '152', 38: '151', 39: '150', 40: '149', 41: '148', 42: '147', 43: '146', 44: '145', 45: '144', 46: '143', 47: '142', 48: '141', 49: '140', 50: '139', 51: '138', 52: '137', 53: '136', 54: '135', 55: '134', 56: '133', 57: '132', 58: '131', 59: '130', 60: '129', 61: '128', 62: '127', 63: '126', 64: '125', 65: '124', 66: '123', 67: '122', 68: '121', 69: '120', 70: '119', 71: '118', 72: '117', 73: '116', 74: '115', 75: '114', 76: '113', 77: '112', 78: '111', 79: '110', 80: '109', 81: '108', 82: '107', 83: '106', 84: '105', 85: '104', 86: '103', 87: '102', 88: '101', 89: '100', 90: '99', 91: '98', 92: '97', 93: '96', 94: '95', 95: '94', 96: '93', 97: '92', 98: '91', 99: '90', 100: '89', 101: '88', 102: '87', 103: '86', 104: '85', 105: '84', 106: '83', 107: '82', 108: '81', 109: '80', 110: '79', 111: '78', 112: '77', 113: '76', 114: '75', 115: '74', 116: '73', 117: '72', 118: '71', 119: '70', 120: '69', 121: '68', 122: '67', 123: '66', 124: '65', 125: '64', 126: '63', 127: '62', 128: '61', 129: '60', 130: '59', 131: '58', 132: '57', 133: '56', 134: '55', 135: '54', 136: '53', 137: '52', 138: '51', 139: '50', 140: '49', 141: '48', 142: '47', 143: '46', 144: '45', 145: '44', 146: '43', 147: '42', 148: '41', 149: '40', 150: '39', 151: '38', 152: '37', 153: '36', 154: '35', 155: '34', 156: '33', 157: '32', 158: '31', 159: '30', 160: '29', 161: '28', 162: '27', 163: '26', 164: '25', 165: '24', 166: '23', 167: '22', 168: '21', 169: '20', 170: '19', 171: '18', 172: '17', 173: '16', 174: '15', 175: '14', 176: '13', 177: '12', 178: '11', 179: '10', 180: '9', 181: '8', 182: '7', 183: '6', 184: '5', 185: '4', 186: '3', 187: '2', 188: '1', 189: '0', 190: '+', 191: '(', 192: ')', 193: '-', 194: ',', 195: 'D', 196: 'T'}\n",
            "\t--> MAX # OF TOKENS IN INCHI : 138\n",
            "\t--> LENGTH OF VOCAB          : 197\n",
            "\n",
            "\n",
            "\t--> CONVERTED INCHI STRINGS  :\n",
            "\n",
            "\t\t--> EXAMPLE #61067 FROM THE VALIDATION DATASET\n",
            "\t\t\t--> RAW INCHI :  InChI=1S/C22H22N2O5/c1-2-27-18-9-11-19(12-10-18)28-15-13-23-21(25)16-5-7-17(8-6-16)24-22(26)20-4-3-14-29-20/h3-12,14H,2,13,15H2,1H3,(H,23,25)(H,24,26)\n",
            "\n",
            "\t\t--> EXAMPLE #3470 FROM THE VALIDATION DATASET\n",
            "\t\t\t--> RAW INCHI :  InChI=1S/C15H17Br2NO2/c1-3-18-13(11-6-7-20-15(11)17)9-10-4-5-14(19-2)12(16)8-10/h4-8,13,18H,3,9H2,1-2H3\n",
            "\n",
            "\t\t--> EXAMPLE #37704 FROM THE VALIDATION DATASET\n",
            "\t\t\t--> RAW INCHI :  InChI=1S/C33H29ClN2O5/c1-19(37)35-31(16-20-2-10-25(38)11-3-20)33(41)36-24-9-13-27-26-12-6-22(21-4-7-23(34)8-5-21)17-29(26)28(30(27)18-24)14-15-32(39)40/h2-13,17-18,28,31,38H,14-16H2,1H3,(H,35,37)(H,36,41)(H,39,40)\n",
            "\n",
            "\n",
            "... PREPARING VARIABLES FOR DATASET COMPLETED ...\n",
            "\n"
          ],
          "name": "stdout"
        }
      ]
    },
    {
      "cell_type": "code",
      "metadata": {
        "colab": {
          "base_uri": "https://localhost:8080/"
        },
        "id": "EhYXirC65VqM",
        "outputId": "1813f34d-a9eb-4471-cd02-5aabc3237ae7"
      },
      "source": [
        "print(\"\\n... CREATE TFRECORD RAW DATASETS STARTING ...\\n\")\n",
        "\n",
        "# Create tf.data.Dataset from filepaths for conversion later\n",
        "raw_train_ds=tf.data.TFRecordDataset(TRAIN_TFREC_PATHS, num_parallel_reads=None)\n",
        "raw_val_ds=tf.data.TFRecordDataset(VAL_TFREC_PATHS, num_parallel_reads=None)\n",
        "#raw_test_ds=tf.data.TFRecordDataset(TEST_TFREC_PATHS, num_parallel_reads=None)\n",
        "\n",
        "# raw_test_ds=tf.data.TFRecordDataset(TEST_TFREC_PATHS, num_parallel_reads=None)\n",
        "\n",
        "print(f\"\\n... THE RAW TF.DATA.TFRECORDDATASET OBJECT:\\n\\t--> {raw_train_ds}\\n\")\n",
        "\n",
        "print(\"\\n... CREATE TFRECORD RAW DATASETS COMPLETED ...\\n\")"
      ],
      "execution_count": null,
      "outputs": [
        {
          "output_type": "stream",
          "text": [
            "\n",
            "... CREATE TFRECORD RAW DATASETS STARTING ...\n",
            "\n",
            "\n",
            "... THE RAW TF.DATA.TFRECORDDATASET OBJECT:\n",
            "\t--> <TFRecordDatasetV2 shapes: (), types: tf.string>\n",
            "\n",
            "\n",
            "... CREATE TFRECORD RAW DATASETS COMPLETED ...\n",
            "\n"
          ],
          "name": "stdout"
        }
      ]
    },
    {
      "cell_type": "code",
      "metadata": {
        "colab": {
          "base_uri": "https://localhost:8080/"
        },
        "id": "nBFkEwdm5dEz",
        "outputId": "65951682-27fb-47cd-9e7a-8bda434f6315"
      },
      "source": [
        "print(\"\\n... RAW TFRECORD INVESTIGATION TO DETERMINE FEATURE DESCRIPTIONS STARTED ...\\n\")\n",
        "\n",
        "print(\"\\n... EXAMPLE OF TRUNCATED RAW TFRECORD/TFEXAMPLE FROM TRAINING DATASET TO SHOW HOW TO FIND FEATURE DESCRIPTIONS:\\n\")\n",
        "# See an example\n",
        "for raw in raw_train_ds.take(1):\n",
        "    example=tf.train.Example()\n",
        "    example.ParseFromString(raw.numpy())\n",
        "    for i, (k,v) in enumerate(example.features.feature.items()):\n",
        "        print(f\"\\tFEATURE #{i+1}\")\n",
        "        print(f\"\\t\\t--> KEY={k}\")\n",
        "        if k!=\"image\":\n",
        "            try:\n",
        "                print(f\"\\t\\t\\t--> TRUNCATED-VALUE={v.int64_list.value[:15]} ...\\n\")\n",
        "            except:\n",
        "                print(f\"\\t\\t\\t--> TRUNCATED-VALUE={v.bytes_list.value[0][:25]} ...\\n\")\n",
        "        else:\n",
        "            print(f\"\\t\\t\\t--> TRUNCATED-VALUE={str(v.bytes_list.value[0][:25])} ...\\n\")         \n",
        "\n",
        "print(\"\\n... RAW TFRECORD INVESTIGATION TO DETERMINE FEATURE DESCRIPTIONS COMPLETED ...\\n\")"
      ],
      "execution_count": null,
      "outputs": [
        {
          "output_type": "stream",
          "text": [
            "\n",
            "... RAW TFRECORD INVESTIGATION TO DETERMINE FEATURE DESCRIPTIONS STARTED ...\n",
            "\n",
            "\n",
            "... EXAMPLE OF TRUNCATED RAW TFRECORD/TFEXAMPLE FROM TRAINING DATASET TO SHOW HOW TO FIND FEATURE DESCRIPTIONS:\n",
            "\n",
            "\tFEATURE #1\n",
            "\t\t--> KEY=inchi\n",
            "\t\t\t--> TRUNCATED-VALUE=[1, 19, 181, 20, 179, 12, 15, 186, 16, 187, 18, 3, 188, 193, 187] ...\n",
            "\n",
            "\tFEATURE #2\n",
            "\t\t--> KEY=image\n",
            "\t\t\t--> TRUNCATED-VALUE=b'\\x89PNG\\r\\n\\x1a\\n\\x00\\x00\\x00\\rIHDR\\x00\\x00\\x01\\x80\\x00\\x00\\x00\\xc0\\x08' ...\n",
            "\n",
            "\n",
            "... RAW TFRECORD INVESTIGATION TO DETERMINE FEATURE DESCRIPTIONS COMPLETED ...\n",
            "\n"
          ],
          "name": "stdout"
        }
      ]
    },
    {
      "cell_type": "code",
      "metadata": {
        "id": "dX-iMq_45ggs"
      },
      "source": [
        "def decode(serialized_example, is_test=False, tokenized_inchi=True):\n",
        "    \"\"\" Parses a set of features and label from the given `serialized_example`.\n",
        "        \n",
        "        It is used as a map function for `dataset.map`\n",
        "\n",
        "    Args:\n",
        "        serialized_example (tf.Example): A serialized example containing the\n",
        "            following features:\n",
        "                – 'image'\n",
        "                – 'image_id'\n",
        "                – 'inchi'\n",
        "        is_test (bool, optional): Whether to allow for the InChI feature\n",
        "        drop_id (bool, optional): Whether or not to drop the ID feature\n",
        "        \n",
        "    Returns:\n",
        "        A decoded tf.data.Dataset object representing the tfrecord dataset\n",
        "    \"\"\"\n",
        "    feature_dict={\n",
        "        'image': tf.io.FixedLenFeature(shape=[], dtype=tf.string, default_value=''),\n",
        "    }\n",
        "    \n",
        "    if not is_test:\n",
        "        if tokenized_inchi:\n",
        "            feature_dict[\"inchi\"]=tf.io.FixedLenFeature(shape=[MAX_LEN], dtype=tf.int64, default_value=[0]*MAX_LEN)\n",
        "        else:\n",
        "            feature_dict[\"inchi\"]=tf.io.FixedLenFeature(shape=[], dtype=tf.string, default_value='')\n",
        "    else:\n",
        "        feature_dict[\"image_id\"]=tf.io.FixedLenFeature(shape=[], dtype=tf.string, default_value='')\n",
        "    \n",
        "    # Define a parser\n",
        "    features=tf.io.parse_single_example(serialized_example, features=feature_dict)\n",
        "    \n",
        "    # Decode the tf.string\n",
        "    image=decode_image(features['image'], resize_to=IMG_SHAPE)\n",
        "    \n",
        "    # Figure out the correct information to return\n",
        "    if is_test:\n",
        "        image_id=features[\"image_id\"] \n",
        "        return image, image_id\n",
        "    else:\n",
        "        if tokenized_inchi:\n",
        "            target=tf.cast(features[\"inchi\"], tf.uint8)\n",
        "        else:\n",
        "            target=features[\"inchi\"]\n",
        "        return image, target"
      ],
      "execution_count": null,
      "outputs": []
    },
    {
      "cell_type": "code",
      "metadata": {
        "colab": {
          "base_uri": "https://localhost:8080/",
          "height": 1000
        },
        "id": "rLwULHl45jz-",
        "outputId": "975215c2-b853-4a8b-e6e5-952ff60567e8"
      },
      "source": [
        "print(\"\\n... DECODING RAW TFRECORD DATASETS STARTING ...\\n\")\n",
        "\n",
        "# Decode the tfrecords completely –– decode is our `_parse_function` (from recipe above)\n",
        "train_ds=raw_train_ds.map(lambda x: decode(x, is_test=False))\n",
        "val_ds=raw_val_ds.map(lambda x: decode(x, is_test=False))\n",
        "#test_ds=raw_test_ds.map(lambda x: decode(x, is_test=True))\n",
        "\n",
        "print(f\"\\n... THE DECODED TF.DATA.TFRECORDDATASET OBJECT:\" \\\n",
        "      f\"\\n\\t--> ((image), (image_id - optional), (inchi))\" \\\n",
        "      f\"\\n\\t--> {train_ds}\\n\")\n",
        "\n",
        "print(\"\\n... 2 EXAMPLES OF IMAGES AND LABELS AFTER DECODING ...\")\n",
        "for i, (img, inchi) in enumerate(train_ds.take(2)):\n",
        "    print(f\"\\nIMAGE SHAPE : {img.shape}\")\n",
        "    print(f\"IMAGE INCHI : {[int_2_tok[x] for x in inchi.numpy()]}\\n\")\n",
        "    plt.figure(figsize=(10,10))\n",
        "    plt.imshow(img.numpy().astype(np.int64), cmap=\"gray\")\n",
        "    plt.title(f\"{''.join([int_2_tok[x] for x in inchi.numpy() if x!=0][:50])} ... [truncated]\")\n",
        "    plt.show()\n",
        "\n",
        "print(\"\\n... DECODING RAW TFRECORD DATASETS COMPLETED ...\\n\")"
      ],
      "execution_count": null,
      "outputs": [
        {
          "output_type": "stream",
          "text": [
            "\n",
            "... DECODING RAW TFRECORD DATASETS STARTING ...\n",
            "\n",
            "\n",
            "... THE DECODED TF.DATA.TFRECORDDATASET OBJECT:\n",
            "\t--> ((image), (image_id - optional), (inchi))\n",
            "\t--> <MapDataset shapes: ((192, 384, 3), (138,)), types: (tf.bfloat16, tf.uint8)>\n",
            "\n",
            "\n",
            "... 2 EXAMPLES OF IMAGES AND LABELS AFTER DECODING ...\n",
            "\n",
            "IMAGE SHAPE : (192, 384, 3)\n",
            "IMAGE INCHI : ['InChI=1S/', 'C', '8', 'H', '10', 'Cl', 'N', '3', 'O', '2', 'S', '/c', '1', '-', '2', '-', '12', '-', '5', '-', '11', '-', '15', '(', '13', ',', '14', ')', '7', '-', '3', '-', '6', '(', '9', ')', '4', '-', '10', '-', '8', '(', '7', ')', '12', '/h', '3', '-', '4', ',', '11', 'H', ',', '2', ',', '5', 'H', '2', ',', '1', 'H', '3', '<END>', '<END>', '<PAD>', '<PAD>', '<PAD>', '<PAD>', '<PAD>', '<PAD>', '<PAD>', '<PAD>', '<PAD>', '<PAD>', '<PAD>', '<PAD>', '<PAD>', '<PAD>', '<PAD>', '<PAD>', '<PAD>', '<PAD>', '<PAD>', '<PAD>', '<PAD>', '<PAD>', '<PAD>', '<PAD>', '<PAD>', '<PAD>', '<PAD>', '<PAD>', '<PAD>', '<PAD>', '<PAD>', '<PAD>', '<PAD>', '<PAD>', '<PAD>', '<PAD>', '<PAD>', '<PAD>', '<PAD>', '<PAD>', '<PAD>', '<PAD>', '<PAD>', '<PAD>', '<PAD>', '<PAD>', '<PAD>', '<PAD>', '<PAD>', '<PAD>', '<PAD>', '<PAD>', '<PAD>', '<PAD>', '<PAD>', '<PAD>', '<PAD>', '<PAD>', '<PAD>', '<PAD>', '<PAD>', '<PAD>', '<PAD>', '<PAD>', '<PAD>', '<PAD>', '<PAD>', '<PAD>', '<PAD>', '<PAD>', '<PAD>', '<PAD>', '<PAD>', '<PAD>']\n",
            "\n"
          ],
          "name": "stdout"
        },
        {
          "output_type": "display_data",
          "data": {
            "image/png": "[encoded data removed]",
            "text/plain": [
              "<Figure size 720x720 with 1 Axes>"
            ]
          },
          "metadata": {
            "tags": [],
            "needs_background": "light"
          }
        },
        {
          "output_type": "stream",
          "text": [
            "\n",
            "IMAGE SHAPE : (192, 384, 3)\n",
            "IMAGE INCHI : ['InChI=1S/', 'C', '23', 'H', '33', 'N', '3', 'O', '2', 'S', '/c', '1', '-', '14', '-', '10', '-', '15', '(', '2', ')', '25', '-', '23', '(', '28', ')', '19', '(', '14', ')', '12', '-', '24', '-', '22', '(', '27', ')', '20', '-', '13', '-', '29', '-', '21', '(', '16', '(', '20', ')', '3', ')', '11', '-', '17', '-', '6', '-', '8', '-', '18', '(', '9', '-', '7', '-', '17', ')', '26', '(', '4', ')', '5', '/h', '10', ',', '13', ',', '17', '-', '18', 'H', ',', '6', '-', '9', ',', '11', '-', '12', 'H', '2', ',', '1', '-', '5', 'H', '3', ',', '(', 'H', ',', '24', ',', '27', ')', '(', 'H', ',', '25', ',', '28', ')', '<END>', '<END>', '<PAD>', '<PAD>', '<PAD>', '<PAD>', '<PAD>', '<PAD>', '<PAD>', '<PAD>', '<PAD>', '<PAD>', '<PAD>', '<PAD>', '<PAD>', '<PAD>', '<PAD>', '<PAD>', '<PAD>', '<PAD>', '<PAD>', '<PAD>', '<PAD>', '<PAD>']\n",
            "\n"
          ],
          "name": "stdout"
        },
        {
          "output_type": "display_data",
          "data": {
            "image/png": "[encoded data removed]",
            "text/plain": [
              "<Figure size 720x720 with 1 Axes>"
            ]
          },
          "metadata": {
            "tags": [],
            "needs_background": "light"
          }
        },
        {
          "output_type": "stream",
          "text": [
            "\n",
            "... DECODING RAW TFRECORD DATASETS COMPLETED ...\n",
            "\n"
          ],
          "name": "stdout"
        }
      ]
    },
    {
      "cell_type": "code",
      "metadata": {
        "id": "-qFuUTl75orj"
      },
      "source": [
        "def load_dataset(filenames, is_test=False, ordered=False, tokenized_inchi=True):\n",
        "    \"\"\"Read from TFRecords.\n",
        "    \n",
        "    For optimal performance, reading from multiple files at once and disregarding data order (if `ordered=False`).\n",
        "        - If pulling InChI from TFRecords than order does not matter since we will \n",
        "          be shuffling the data anyway (for training dataset).\n",
        "          \n",
        "    Args:\n",
        "        filenames (list of strings): List of paths to that point to the respective TFRecord files\n",
        "        is_test (bool, optional): Whether or not to include the image ID or label in the returned dataset\n",
        "        ordered (bool, optional): Whether to ensured ordered results or maximize parallelization\n",
        "        tokenized_inchi (bool, optional): Whether our dataset includes the tokenized inchi or we will be \n",
        "            creating it from the caption numpy array\n",
        "        \n",
        "    Returns:\n",
        "        Decoded tf.data.Dataset object\n",
        "    \"\"\"\n",
        "\n",
        "    options=tf.data.Options()\n",
        "    if not ordered:\n",
        "        # disable order, increase speed\n",
        "        options.experimental_deterministic=False\n",
        "        N_PARALLEL=tf.data.AUTOTUNE\n",
        "    else:\n",
        "        N_PARALLEL=None\n",
        "        \n",
        "    # If not-ordered, this will read in by automatically interleaving multiple tfrecord files.\n",
        "    dataset=tf.data.TFRecordDataset(filenames, num_parallel_reads=N_PARALLEL)\n",
        "    \n",
        "    # If not-ordered, this will ensure that we use data as soon as it \n",
        "    # streams in, rather than in its original order.\n",
        "    dataset=dataset.with_options(options) \n",
        "    \n",
        "    # parse and return a dataset w/ the appropriate configuration\n",
        "    dataset=dataset.map(\n",
        "        lambda x: decode(x, is_test, tokenized_inchi),\n",
        "        num_parallel_calls=N_PARALLEL,\n",
        "    )\n",
        "    \n",
        "    return dataset\n",
        "\n",
        "def get_dataset(filenames, batch_size, \n",
        "                is_test=False, \n",
        "                shuffle_buffer_size=1, \n",
        "                repeat_dataset=True, \n",
        "                preserve_file_order=False, \n",
        "                drop_remainder=True,\n",
        "                tokenized_inchi=True,\n",
        "                external_inchi_dataset=None,\n",
        "                test_padding=0):\n",
        "    \"\"\" Get a tf.data.Dataset w/ the appropriate configuration\n",
        "    \n",
        "    Args:\n",
        "        TBD\n",
        "        test_padding (int, optional): Amount required to pad dataset to have only full batches\n",
        "        \n",
        "    Returns:\n",
        "        TBD\n",
        "        \n",
        "    \"\"\"\n",
        "    # Load the dataset\n",
        "    dataset=load_dataset(filenames, is_test, preserve_file_order, tokenized_inchi)\n",
        "    \n",
        "    if test_padding!=0:\n",
        "        pad_dataset=tf.data.Dataset.from_tensor_slices((\n",
        "            tf.zeros((test_padding, *IMG_SHAPE), dtype=TARGET_DTYPE),       # Fake Images\n",
        "            tf.constant([\"000000000000\",]*test_padding, dtype=tf.string))   # Fake IDs\n",
        "        )\n",
        "        dataset=dataset.concatenate(pad_dataset)\n",
        "    \n",
        "    # If we are training than we will want to repeat the dataset. \n",
        "    # We will determine the number of steps (or updates) later for 1 training epoch.\n",
        "    if repeat_dataset:\n",
        "        dataset=dataset.repeat()\n",
        "    \n",
        "    # If we need to add on manually the inchi\n",
        "    if external_inchi_dataset is not None:\n",
        "        # Zip the datasets and tile the 1 channel image to 3 channels & drop the old inchi value\n",
        "        dataset=tf.data.Dataset.zip((dataset, external_inchi_dataset))\n",
        "        dataset=dataset.map(lambda x,y: (tf.tile(tf.expand_dims(x[0], -1), tf.constant([1,1,3], tf.int32)), y))\n",
        "                              \n",
        "    # Shuffling\n",
        "    if shuffle_buffer_size!=1:\n",
        "        dataset=dataset.shuffle(shuffle_buffer_size)\n",
        "    \n",
        "    # Batching\n",
        "    dataset=dataset.batch(batch_size, drop_remainder=drop_remainder)\n",
        "    \n",
        "    # prefetch next batch while training (autotune prefetch buffer size)\n",
        "    dataset=dataset.prefetch(tf.data.experimental.AUTOTUNE)\n",
        "    \n",
        "    return dataset"
      ],
      "execution_count": null,
      "outputs": []
    },
    {
      "cell_type": "code",
      "metadata": {
        "colab": {
          "base_uri": "https://localhost:8080/",
          "height": 1000
        },
        "id": "DTwCXEjm5wvG",
        "outputId": "b951781e-7b6f-41a1-eddd-cd48e8e6cfbb"
      },
      "source": [
        "####### ####### ####### ####### ####### ####### ####### #######\n",
        "\n",
        "# Template Configuration\n",
        "DS_TEMPLATE_CONFIG=dict(\n",
        "    filenames=[],\n",
        "    batch_size=1,\n",
        "    is_test=False, \n",
        "    shuffle_buffer_size=1, \n",
        "    repeat_dataset=True, \n",
        "    preserve_file_order=False, \n",
        "    drop_remainder=True,\n",
        "    tokenized_inchi=True,\n",
        "    external_inchi_dataset=None,\n",
        "    test_padding=0\n",
        ")\n",
        "\n",
        "####### ####### ####### ####### ####### ####### ####### #######\n",
        "\n",
        "# Individual Respective Configurations\n",
        "TRAIN_DS_CONFIG=DS_TEMPLATE_CONFIG.copy()\n",
        "TRAIN_DS_CONFIG.update(dict(\n",
        "    filenames=TRAIN_TFREC_PATHS,\n",
        "    batch_size=OVERALL_BATCH_SIZE,\n",
        "    shuffle_buffer_size=OVERALL_BATCH_SIZE*6,\n",
        "))\n",
        "\n",
        "VAL_DS_CONFIG=DS_TEMPLATE_CONFIG.copy()\n",
        "VAL_DS_CONFIG.update(dict(\n",
        "    filenames=VAL_TFREC_PATHS,\n",
        "    batch_size=OVERALL_BATCH_SIZE,\n",
        "))\n",
        "\n",
        "####### ####### ####### ####### ####### ####### ####### #######\n",
        "\n",
        "train_ds=get_dataset(**TRAIN_DS_CONFIG)\n",
        "val_ds=get_dataset(**VAL_DS_CONFIG)\n",
        "#test_ds=get_dataset(**TEST_DS_CONFIG)\n",
        "\n",
        "for SPLIT, CONFIG in zip([\"TRAINING\", \"VALIDATION\"\n",
        "                          #, \"TESTING\"\n",
        "                         ], [TRAIN_DS_CONFIG, VAL_DS_CONFIG\n",
        "                           #  , TEST_DS_CONFIG\n",
        "                            ]): # , TEST_DS_CONFIG]\n",
        "    print(f\"\\n... {SPLIT} CONFIGURATION:\")\n",
        "    for k,v in CONFIG.items():\n",
        "        if k==\"filenames\":\n",
        "            print(f\"\\t--> {k:<23}: {[path.split('/', 4)[-1] for path in v[:2]]+['...']}\")\n",
        "        else:\n",
        "            print(f\"\\t--> {k:<23}: {v}\")\n",
        "\n",
        "print(f\"\\n\\n... TRAINING DATASET   : {train_ds} ...\")\n",
        "print(f\"... VALIDATION DATASET : {val_ds} ...\")\n",
        "#print(f\"... TESTING DATASET    : {test_ds}    ...\\n\")\n",
        "\n",
        "print(\"\\n\\n ... SOME VALIDATION EXAMPLES ... \\n\\n\")\n",
        "for x,y in val_ds.take(1):\n",
        "    for i in range(2):\n",
        "        plt.figure(figsize=(12,12))\n",
        "        plt.imshow(x[i].numpy().astype(np.int64))\n",
        "        plt.title(f\"IMAGE INCHI : {''.join([int_2_tok[z] for z in y[i].numpy() if z not in [0,1,2]])}\\n\")\n",
        "        plt.show()"
      ],
      "execution_count": null,
      "outputs": [
        {
          "output_type": "stream",
          "text": [
            "\n",
            "... TRAINING CONFIGURATION:\n",
            "\t--> filenames              : ['records_01_57.tfrec', 'records_02_57.tfrec', '...']\n",
            "\t--> batch_size             : 192\n",
            "\t--> is_test                : False\n",
            "\t--> shuffle_buffer_size    : 1152\n",
            "\t--> repeat_dataset         : True\n",
            "\t--> preserve_file_order    : False\n",
            "\t--> drop_remainder         : True\n",
            "\t--> tokenized_inchi        : True\n",
            "\t--> external_inchi_dataset : None\n",
            "\t--> test_padding           : 0\n",
            "\n",
            "... VALIDATION CONFIGURATION:\n",
            "\t--> filenames              : ['records_01_02.tfrec', 'records_02_02.tfrec', '...']\n",
            "\t--> batch_size             : 192\n",
            "\t--> is_test                : False\n",
            "\t--> shuffle_buffer_size    : 1\n",
            "\t--> repeat_dataset         : True\n",
            "\t--> preserve_file_order    : False\n",
            "\t--> drop_remainder         : True\n",
            "\t--> tokenized_inchi        : True\n",
            "\t--> external_inchi_dataset : None\n",
            "\t--> test_padding           : 0\n",
            "\n",
            "\n",
            "... TRAINING DATASET   : <PrefetchDataset shapes: ((192, 192, 384, 3), (192, 138)), types: (tf.bfloat16, tf.uint8)> ...\n",
            "... VALIDATION DATASET : <PrefetchDataset shapes: ((192, 192, 384, 3), (192, 138)), types: (tf.bfloat16, tf.uint8)> ...\n",
            "\n",
            "\n",
            " ... SOME VALIDATION EXAMPLES ... \n",
            "\n",
            "\n"
          ],
          "name": "stdout"
        },
        {
          "output_type": "display_data",
          "data": {
            "image/png": "[encoded data removed]",
            "text/plain": [
              "<Figure size 864x864 with 1 Axes>"
            ]
          },
          "metadata": {
            "tags": [],
            "needs_background": "light"
          }
        },
        {
          "output_type": "display_data",
          "data": {
            "image/png": "[encoded data removed]",
            "text/plain": [
              "<Figure size 864x864 with 1 Axes>"
            ]
          },
          "metadata": {
            "tags": [],
            "needs_background": "light"
          }
        }
      ]
    },
    {
      "cell_type": "markdown",
      "metadata": {
        "id": "i-BokiWP53-J"
      },
      "source": [
        "# Model"
      ]
    },
    {
      "cell_type": "markdown",
      "metadata": {
        "id": "U8antOP57Y3F"
      },
      "source": [
        "## Params"
      ]
    },
    {
      "cell_type": "code",
      "metadata": {
        "id": "84XCvHdn7YUN"
      },
      "source": [
        "# 先把 decoder的参数放在这\n",
        "num_layer=4\n",
        "d_model=768\n",
        "dff= 512\n",
        "num_heads=8\n",
        "target_vocab_size=VOCAB_LEN\n",
        "dropout_rate=0.1 \n",
        "\n",
        "# vision encoder 参数\n",
        "image_size = (IMG_SHAPE[0], IMG_SHAPE[1])  # We'll resize input images to this size\n",
        "patch_size = 16  # Size of the patches to be extract from the input images\n",
        "num_patches = (image_size[0] // patch_size) * (image_size[1] // patch_size) \n",
        "projection_dim = d_model\n",
        "vit_num_heads = 12\n",
        "transformer_units = [\n",
        "    projection_dim * 2,\n",
        "    projection_dim,\n",
        "]  # Size of the transformer layers\n",
        "transformer_layers = 12"
      ],
      "execution_count": null,
      "outputs": []
    },
    {
      "cell_type": "code",
      "metadata": {
        "colab": {
          "base_uri": "https://localhost:8080/"
        },
        "id": "p9UzacjDXWBA",
        "outputId": "683a68e2-9f72-44cb-a5d1-d37190e6b055"
      },
      "source": [
        "print(\"\\n... ENCODER MODEL CREATION STARTING ...\\n\")\n",
        "\n",
        "# SAMPLE IMAGES\n",
        "SAMPLE_IMGS, SAMPLE_LBLS=next(iter(val_ds.unbatch().batch(BATCH_SIZE_DEBUG)))\n"
      ],
      "execution_count": null,
      "outputs": [
        {
          "output_type": "stream",
          "text": [
            "\n",
            "... ENCODER MODEL CREATION STARTING ...\n",
            "\n"
          ],
          "name": "stdout"
        }
      ]
    },
    {
      "cell_type": "markdown",
      "metadata": {
        "id": "6MgnRrjV6I3A"
      },
      "source": [
        "## Attention architecture\n"
      ]
    },
    {
      "cell_type": "code",
      "metadata": {
        "id": "0HUNOvW26Rdq"
      },
      "source": [
        "def scaled_dot_product_attention(q, k, v, mask):\n",
        "    \n",
        "    \"\"\"Calculate the attention weights.\n",
        "    q, k, v must have matching leading dimensions.\n",
        "    k, v must have matching penultimate dimension, i.e.: seq_len_k = seq_len_v.\n",
        "    The mask has different shapes depending on its type(padding or look ahead) \n",
        "    but it must be broadcastable for addition.\n",
        "\n",
        "    Args:\n",
        "        q: query shape == (..., seq_len_q, depth)\n",
        "        k: key shape == (..., seq_len_k, depth)\n",
        "        v: value shape == (..., seq_len_v, depth_v)\n",
        "        mask: Float tensor with shape broadcastable \n",
        "            to (..., seq_len_q, seq_len_k). Defaults to None.\n",
        "\n",
        "    Returns:\n",
        "        output, attention_weights\n",
        "    \"\"\"\n",
        "    \n",
        "    # (..., seq_len_q, seq_len_k)\n",
        "    matmul_qk=tf.matmul(q, k, transpose_b=True)  \n",
        "    \n",
        "    # scale matmul_qk\n",
        "    dk=tf.cast(tf.shape(k)[-1], TARGET_DTYPE)\n",
        "    \n",
        "    # Calculate scaled attention logits\n",
        "    scaled_attention_logits=matmul_qk / tf.math.sqrt(dk)\n",
        "    \n",
        "    # add the mask to the scaled tensor.\n",
        "    if mask is not None:\n",
        "        scaled_attention_logits += (mask * -1e9) \n",
        "    \n",
        "    # softmax is normalized on the last axis (seq_len_k) \n",
        "    # so that the scores add up to 1.\n",
        "    #   - shape --> (..., seq_len_q, seq_len_k)\n",
        "    attention_weights=tf.nn.softmax(scaled_attention_logits, axis=-1) \n",
        "    \n",
        "     #   - shape --> (..., seq_len_q, depth_v)\n",
        "    output=tf.matmul(attention_weights, v)  \n",
        "\n",
        "    return output, attention_weights"
      ],
      "execution_count": null,
      "outputs": []
    },
    {
      "cell_type": "code",
      "metadata": {
        "id": "OO-2hxgs75zf"
      },
      "source": [
        "def point_wise_feed_forward_network(d_model, dff):\n",
        "    return tf.keras.Sequential([\n",
        "                # INNER LAYER\n",
        "                #   – (batch_size, seq_len, dff)\n",
        "                tf.keras.layers.Dense(dff, activation='relu'),\n",
        "                 # INNER LAYER\n",
        "                #   – (batch_size, seq_len, dff)\n",
        "                tf.keras.layers.Dense(d_model)])"
      ],
      "execution_count": null,
      "outputs": []
    },
    {
      "cell_type": "code",
      "metadata": {
        "id": "Gf7ZbSdv6bbV"
      },
      "source": [
        "class MultiHeadAttention(tf.keras.layers.Layer):\n",
        "    def __init__(self, d_model, num_heads):\n",
        "        super(MultiHeadAttention, self).__init__()\n",
        "        self.num_heads=num_heads\n",
        "        self.d_model=d_model\n",
        "        assert d_model % self.num_heads == 0\n",
        "        self.depth=d_model // self.num_heads\n",
        "        self.wq=tf.keras.layers.Dense(d_model)\n",
        "        self.wk=tf.keras.layers.Dense(d_model)\n",
        "        self.wv=tf.keras.layers.Dense(d_model)\n",
        "        self.dense=tf.keras.layers.Dense(d_model)\n",
        "\n",
        "    def split_heads(self, x, batch_size):\n",
        "        \"\"\" Split the last dimension into (num_heads, depth).\n",
        "            Then we transpose the result such that the shape is \n",
        "                - (batch_size, num_heads, seq_len, depth)\n",
        "        \"\"\"\n",
        "        x=tf.reshape(x, (batch_size, -1, self.num_heads, self.depth))\n",
        "        return tf.transpose(x, perm=[0, 2, 1, 3])\n",
        "\n",
        "    def call(self, v, k, q, mask=None):\n",
        "        batch_size=tf.shape(q)[0]\n",
        "        q=self.wq(q)  # (batch_size, seq_len, d_model)\n",
        "        k=self.wk(k)  # (batch_size, seq_len, d_model)\n",
        "        v=self.wv(v)  # (batch_size, seq_len, d_model)\n",
        "\n",
        "        q=self.split_heads(q, batch_size)  # (batch_size, num_heads, seq_len_q, depth)\n",
        "        k=self.split_heads(k, batch_size)  # (batch_size, num_heads, seq_len_k, depth)\n",
        "        v=self.split_heads(v, batch_size)  # (batch_size, num_heads, seq_len_v, depth)\n",
        "    \n",
        "        # scaled_attention.shape – (batch_size, num_heads, seq_len_q, depth)\n",
        "        # attention_weights.shape – (batch_size, num_heads, seq_len_q, seq_len_k)\n",
        "        scaled_attention, attention_weights=scaled_dot_product_attention(q, k, v, mask)\n",
        "        \n",
        "        # (batch_size, seq_len_q, num_heads, depth)\n",
        "        scaled_attention=tf.transpose(scaled_attention, perm=[0, 2, 1, 3]) \n",
        "    \n",
        "        # (batch_size, seq_len_q, d_model)\n",
        "        concat_attention=tf.reshape(scaled_attention,\n",
        "                                 (batch_size, -1, self.d_model))  \n",
        "\n",
        "        # (batch_size, seq_len_q, d_model)\n",
        "        output=self.dense(concat_attention)  \n",
        "        \n",
        "        return output, attention_weights"
      ],
      "execution_count": null,
      "outputs": []
    },
    {
      "cell_type": "markdown",
      "metadata": {
        "id": "cg1H_RfW6sIs"
      },
      "source": [
        "## Position embedding"
      ]
    },
    {
      "cell_type": "code",
      "metadata": {
        "colab": {
          "base_uri": "https://localhost:8080/",
          "height": 120
        },
        "id": "JpOWzXBT6pEE",
        "outputId": "5420bc76-cee8-4cea-d7c1-ee2bbadd9263"
      },
      "source": [
        "def get_angles(pos, i, d_model):\n",
        "    \"\"\"\n",
        "        angle_rates=1 / np.power(10000, (2 * (i//2)) / np.float32(d_model))\n",
        "        return pos * angle_rates\n",
        "    \"\"\"\n",
        "    # 浮点类型不匹配\n",
        "    angle_rates = tf.constant(1, TARGET_DTYPE) / tf.math.pow(tf.constant(10000, TARGET_DTYPE), (tf.constant(2, dtype=TARGET_DTYPE) * tf.cast((i//2), TARGET_DTYPE))/d_model)\n",
        "    return pos * angle_rates\n",
        "\n",
        "# https://kazemnejad.com/blog/transformer_architecture_positional_encoding/\n",
        "# https://stackoverflow.com/questions/46452020/sinusoidal-embedding-attention-is-all-you-need\n",
        "\n",
        "# 这个需要改成tnt 或者vit\n",
        "\"\"\"\n",
        "def positional_encoding_2d(row,col,d_model):\n",
        "    assert d_model % 2 == 0\n",
        "    row_pos=np.repeat(np.arange(row),col)[:,np.newaxis]\n",
        "    col_pos=np.repeat(np.expand_dims(np.arange(col),0),row,axis=0).reshape(-1,1)\n",
        "\n",
        "    angle_rads_row=get_angles(row_pos,np.arange(d_model//2)[np.newaxis,:],d_model//2)\n",
        "    angle_rads_col=get_angles(col_pos,np.arange(d_model//2)[np.newaxis,:],d_model//2)\n",
        "\n",
        "    angle_rads_row[:, 0::2]=np.sin(angle_rads_row[:, 0::2])\n",
        "    angle_rads_row[:, 1::2]=np.cos(angle_rads_row[:, 1::2])\n",
        "    angle_rads_col[:, 0::2]=np.sin(angle_rads_col[:, 0::2])\n",
        "    angle_rads_col[:, 1::2]=np.cos(angle_rads_col[:, 1::2])\n",
        "    pos_encoding=np.concatenate([angle_rads_row,angle_rads_col],axis=1)[np.newaxis, ...]\n",
        "    #return tf.cast(pos_encoding, dtype=tf.float32)\n",
        "    return tf.cast(pos_encoding, dtype=TARGET_DTYPE)\n",
        "\"\"\""
      ],
      "execution_count": null,
      "outputs": [
        {
          "output_type": "execute_result",
          "data": {
            "application/vnd.google.colaboratory.intrinsic+json": {
              "type": "string"
            },
            "text/plain": [
              "'\\ndef positional_encoding_2d(row,col,d_model):\\n    assert d_model % 2 == 0\\n    row_pos=np.repeat(np.arange(row),col)[:,np.newaxis]\\n    col_pos=np.repeat(np.expand_dims(np.arange(col),0),row,axis=0).reshape(-1,1)\\n\\n    angle_rads_row=get_angles(row_pos,np.arange(d_model//2)[np.newaxis,:],d_model//2)\\n    angle_rads_col=get_angles(col_pos,np.arange(d_model//2)[np.newaxis,:],d_model//2)\\n\\n    angle_rads_row[:, 0::2]=np.sin(angle_rads_row[:, 0::2])\\n    angle_rads_row[:, 1::2]=np.cos(angle_rads_row[:, 1::2])\\n    angle_rads_col[:, 0::2]=np.sin(angle_rads_col[:, 0::2])\\n    angle_rads_col[:, 1::2]=np.cos(angle_rads_col[:, 1::2])\\n    pos_encoding=np.concatenate([angle_rads_row,angle_rads_col],axis=1)[np.newaxis, ...]\\n    #return tf.cast(pos_encoding, dtype=tf.float32)\\n    return tf.cast(pos_encoding, dtype=TARGET_DTYPE)\\n'"
            ]
          },
          "metadata": {
            "tags": []
          },
          "execution_count": 27
        }
      ]
    },
    {
      "cell_type": "code",
      "metadata": {
        "id": "7zILeRkb6k6G"
      },
      "source": [
        "def do_interleave(arr_a, arr_b):\n",
        "    a_arr_tf_column = tf.range(arr_a.shape[1])*2 # [0 2 4 ...]\n",
        "    b_arr_tf_column = tf.range(arr_b.shape[1])*2+1 # [1 3 5 ...]\n",
        "    column_indices = tf.argsort(tf.concat([a_arr_tf_column,b_arr_tf_column],axis=-1))\n",
        "    column, row = tf.meshgrid(column_indices,tf.range(arr_a.shape[0]))\n",
        "    combine_indices = tf.stack([row,column],axis=-1)\n",
        "    combine_value = tf.concat([arr_a,arr_b],axis=1)\n",
        "    return tf.gather_nd(combine_value,combine_indices)\n",
        "\n",
        "def positional_encoding_1d(position, d_model):\n",
        "    angle_rads = get_angles(tf.cast(tf.range(position)[:, tf.newaxis], TARGET_DTYPE),\n",
        "                            tf.cast(tf.range(d_model)[tf.newaxis, :], TARGET_DTYPE),\n",
        "                            d_model)\n",
        "    \n",
        "    # apply sin to even indices in the array; 2i\n",
        "    sin_angle_rads = tf.math.sin(angle_rads[:, ::2])\n",
        "    cos_angle_rads = tf.math.cos(angle_rads[:, 1::2])\n",
        "    angle_rads = do_interleave(sin_angle_rads, cos_angle_rads)\n",
        "    pos_encoding = angle_rads[tf.newaxis, ...]\n",
        "    return pos_encoding"
      ],
      "execution_count": null,
      "outputs": []
    },
    {
      "cell_type": "markdown",
      "metadata": {
        "id": "VLWczQ0f65GL"
      },
      "source": [
        "## Encoder"
      ]
    },
    {
      "cell_type": "code",
      "metadata": {
        "id": "Te-x-Wnm7bSJ"
      },
      "source": [
        "from tensorflow.keras import layers"
      ],
      "execution_count": null,
      "outputs": []
    },
    {
      "cell_type": "code",
      "metadata": {
        "id": "OBgysZ8s991f"
      },
      "source": [
        "class PatchEncoder(layers.Layer):\n",
        "    def __init__(self, patch_size, num_patches, projection_dim):\n",
        "        super(PatchEncoder, self).__init__()\n",
        "        self.num_patches = num_patches\n",
        "        self.patch_size = patch_size\n",
        "        self.projection_dim = projection_dim\n",
        "        \n",
        "        #self.projection = layers.Dense(units=projection_dim)\n",
        "\n",
        "        self.conv =  layers.Conv2D(\n",
        "            filters=self.projection_dim,\n",
        "            kernel_size=self.patch_size,\n",
        "            strides=self.patch_size,\n",
        "            padding=\"valid\",\n",
        "            name=\"embedding\",)\n",
        "        \n",
        "        self.reshape = tf.keras.layers.Reshape((self.num_patches, self.projection_dim))\n",
        "        \n",
        "        self.position_embedding = layers.Embedding(\n",
        "            input_dim=self.num_patches, output_dim=self.projection_dim\n",
        "        )\n",
        "        self.add = layers.Add()\n",
        "\n",
        "    def call(self, images):\n",
        "        positions = tf.range(start=0, limit=self.num_patches, delta=1)\n",
        "        \n",
        "        \n",
        "        #proj = self.projection(patch)\n",
        "\n",
        "        patches = self.conv(images)\n",
        "        proj = self.reshape(patches)\n",
        "\n",
        "        pos = self.position_embedding(positions)\n",
        "\n",
        "        encoded = proj + pos\n",
        "        return encoded"
      ],
      "execution_count": null,
      "outputs": []
    },
    {
      "cell_type": "code",
      "metadata": {
        "id": "cRXGDZ8sPEKp"
      },
      "source": [
        "class VIT_ENCODER(layers.Layer):\n",
        "    def __init__(self, patch_size, num_patches, projection_dim, transformer_layers, transformer_units):\n",
        "        super(VIT_ENCODER, self).__init__()\n",
        "        self.patch_size = patch_size\n",
        "        self.num_patches = num_patches\n",
        "        self.projection_dim = projection_dim\n",
        "        self.transformer_layers = transformer_layers\n",
        "        self.transformer_units = transformer_units\n",
        "        self.dropout_rate = 0.1\n",
        "\n",
        "        # divide patch\n",
        "        #self.patches = Patches(self.patch_size)\n",
        "        # Encode patches.\n",
        "        self.PatchEncoder = PatchEncoder(self.patch_size, self.num_patches, self.projection_dim)\n",
        "\n",
        "        self.layerNorm1 = layers.LayerNormalization(epsilon=1e-6)\n",
        "        self.layerNorm2 = layers.LayerNormalization(epsilon=1e-6)\n",
        "        self.layerNorm3 = layers.LayerNormalization(epsilon=1e-6)\n",
        "\n",
        "        self.mha = layers.MultiHeadAttention(\n",
        "                num_heads=vit_num_heads, key_dim=projection_dim, dropout=0.1\n",
        "            )\n",
        "        \n",
        "        self.add1 = layers.Add()\n",
        "        self.add2 = layers.Add()\n",
        "        \n",
        "\n",
        "        #def mlp(x, hidden_units, dropout_rate):\n",
        "       \n",
        "        self.Denses = [layers.Dense(units, activation=tf.nn.gelu) for units in self.transformer_units]\n",
        "        self.Dropouts = [layers.Dropout(self.dropout_rate) for _ in range(len(self.transformer_units))]\n",
        "\n",
        "        #self.mlp = mlp\n",
        "\n",
        "    def call(self, x, training):\n",
        "        \n",
        "        # Create patches.\n",
        "        #patches = self.patches(x)\n",
        "        # Encode patches.\n",
        "        encoded_patches = self.PatchEncoder(x)\n",
        "\n",
        "        # Create multiple layers of the Transformer block.\n",
        "        for _ in range(self.transformer_layers):\n",
        "            # Layer normalization 1.\n",
        "            x1 = self.layerNorm1(encoded_patches)\n",
        "            # Create a multi-head attention layer.\n",
        "            attention_output = self.mha(x1, x1)\n",
        "            # Skip connection 1.\n",
        "            x2 = self.add1([attention_output, encoded_patches])\n",
        "            # Layer normalization 2.\n",
        "            x3 = self.layerNorm2(x2)\n",
        "            # MLP.\n",
        "            #x3 = self.mlp(x3, hidden_units=transformer_units, dropout_rate=0.1)\n",
        "            for i in range(len(self.transformer_units)):\n",
        "              x3 = self.Denses[i](x3)\n",
        "              x3 = self.Dropouts[i](x3, training=training)\n",
        "\n",
        "            # Skip connection 2.\n",
        "            encoded_patches = self.add2([x3, x2])\n",
        "\n",
        "        # Create a [batch_size, projection_dim] tensor.\n",
        "        x = self.layerNorm3(encoded_patches)\n",
        "\n",
        "        return x"
      ],
      "execution_count": null,
      "outputs": []
    },
    {
      "cell_type": "markdown",
      "metadata": {
        "id": "Fat9v9zb7CTs"
      },
      "source": [
        "## Decoder"
      ]
    },
    {
      "cell_type": "code",
      "metadata": {
        "id": "Ddq6TZWc7EzN",
        "colab": {
          "base_uri": "https://localhost:8080/"
        },
        "outputId": "c208cee4-e984-4cbb-9985-0b2632d55238"
      },
      "source": [
        "class DecoderLayer(tf.keras.layers.Layer):\n",
        "    def __init__(self, d_model, num_heads, dff, rate=0.1):\n",
        "        \"\"\" Decoder Layer Component Of Transformer Decoder Block \n",
        "        \n",
        "        Args:\n",
        "            d_model: the depth of the d-dimensional space used for positional encoding of image embedding\n",
        "            num_heads: The number of heads to use in the multi-head-attention block\n",
        "            dff (int): Number of units to use in the feed-forward neural network\n",
        "            dropout_rate (float): Percentage of nodes to drop in a given layer\n",
        "        \n",
        "        Returns:\n",
        "            none; This is an intiailization\n",
        "        \"\"\"\n",
        "        super(DecoderLayer, self).__init__()\n",
        "        self.mha1=MultiHeadAttention(d_model, num_heads)\n",
        "        self.mha2=MultiHeadAttention(d_model, num_heads)\n",
        "        \n",
        "        # keras 多头注意力实现\n",
        "        # # Multi Head Attention Layers\n",
        "        # self.mha1 = tf.keras.layers.MultiHeadAttention(num_heads, key_dim=d_model,)\n",
        "        # self.mha2 = tf.keras.layers.MultiHeadAttention(num_heads, key_dim=d_model,)\n",
        "             \n",
        "        self.ffn=point_wise_feed_forward_network(d_model, dff)\n",
        "\n",
        "        self.layernorm1=tf.keras.layers.LayerNormalization(epsilon=1e-6)\n",
        "        self.layernorm2=tf.keras.layers.LayerNormalization(epsilon=1e-6)\n",
        "        self.layernorm3=tf.keras.layers.LayerNormalization(epsilon=1e-6)\n",
        "\n",
        "        self.dropout1=tf.keras.layers.Dropout(rate)\n",
        "        self.dropout2=tf.keras.layers.Dropout(rate)\n",
        "        self.dropout3=tf.keras.layers.Dropout(rate)\n",
        "\n",
        "    def call(self, x, enc_output, training,look_ahead_mask=None, padding_mask=None):\n",
        "        \"\"\" Call function for our encoder layer\n",
        "        \n",
        "        Args:\n",
        "            self (class attributes): For the given layer, this exposes the attributes\n",
        "            x (tf.float32 array): token embeddinng (batch_size, output_seq_len, embedding_dim)\n",
        "            enc_output (tf.float32 array): token embeddinng (batch_size, output_seq_len, embedding_dim)\n",
        "            training (bool): Whether or not to apply certain operations (i.e. disable/enable dropout)\n",
        "            mask (): tbd\n",
        "            \n",
        "        Returns:\n",
        "            The encoded input sequence\n",
        "               - shape --> (batch_size, input_seq_len, d_model)\n",
        "        \"\"\"\n",
        "        attn1, attn_weights_block1=self.mha1(x, x, x, look_ahead_mask)  # (batch_size, target_seq_len, d_model)\n",
        "        attn1=self.dropout1(attn1, training=training)\n",
        "        \n",
        "        # Residual connection followed by layer normalization\n",
        "        #   – (batch_size, target_seq_len, d_model)\n",
        "        out1=self.layernorm1(attn1 + x)\n",
        "        \n",
        "        # Merging connection between encoder and decoder (MHA)\n",
        "        #   – (batch_size, target_seq_len, d_model)\n",
        "        attn2, attn_weights_block2=self.mha2(enc_output, enc_output, out1, padding_mask) \n",
        "        attn2=self.dropout2(attn2, training=training)\n",
        "        \n",
        "        # Residual connection followed by layer normalization\n",
        "        #   – (batch_size, target_seq_len, d_model)\n",
        "        out2=self.layernorm2(attn2 + out1)  # (batch_size, target_seq_len, d_model)\n",
        "        \n",
        "        # (batch_size, target_seq_len, d_model)\n",
        "        ffn_output=self.ffn(out2)  # (batch_size, target_seq_len, d_model)\n",
        "        ffn_output=self.dropout3(ffn_output, training=training)\n",
        "        \n",
        "        # Residual connection followed by layer normalization\n",
        "        #   – (batch_size, target_seq_len, d_model)\n",
        "        out3=self.layernorm3(ffn_output + out2)  # (batch_size, target_seq_len, d_model)\n",
        "\n",
        "        return out3, attn_weights_block1, attn_weights_block2\n",
        "\n",
        "print(\"\\n... ATTENTION MECHANISM LAYER CREATION FINISHED ...\\n\")\n",
        "\n",
        "print(\"\\n... DECODER MODEL CREATION STARTING ...\\n\")\n",
        "\n",
        "\n",
        "\n",
        "class Decoder(tf.keras.layers.Layer):\n",
        "    def __init__(self, num_layers,d_model,num_heads,dff, target_vocab_size, maximum_position_encoding,   rate=0.1):\n",
        "        super(Decoder, self).__init__()\n",
        "        self.d_model=d_model\n",
        "        self.num_layers=num_layers\n",
        "\n",
        "        self.embedding=tf.keras.layers.Embedding(target_vocab_size, d_model)\n",
        "        self.pos_encoding=positional_encoding_1d(maximum_position_encoding, d_model)\n",
        "\n",
        "        self.dec_layers=[DecoderLayer(d_model, num_heads, dff, rate)\n",
        "                         for _ in range(num_layers)]\n",
        "        self.dropout=tf.keras.layers.Dropout(rate)\n",
        "\n",
        "    def call(self, x, enc_output, training,look_ahead_mask=None, padding_mask=None):\n",
        "        seq_len=tf.shape(x)[1]\n",
        "        attention_weights={}\n",
        "\n",
        "        x=self.embedding(x)  # (batch_size, target_seq_len, d_model)\n",
        "        #x *= tf.math.sqrt(tf.cast(self.d_model, tf.float32))\n",
        "        x *= tf.math.sqrt(tf.cast(self.d_model, TARGET_DTYPE))\n",
        "        #print(self.pos_encoding.shape, self.pos_encoding[:, :seq_len, :].shape)\n",
        "        x += self.pos_encoding[:, :seq_len, :]\n",
        "        x=self.dropout(x, training=training)\n",
        "\n",
        "        for i in range(self.num_layers):\n",
        "            x, block1, block2=self.dec_layers[i](x, enc_output, training,\n",
        "                                            look_ahead_mask, padding_mask)\n",
        "\n",
        "            attention_weights['decoder_layer{}_block1'.format(i+1)]=block1\n",
        "            attention_weights['decoder_layer{}_block2'.format(i+1)]=block2\n",
        "\n",
        "        return x, attention_weights\n",
        "\n",
        "\n",
        "\n",
        "print(\"\\n... DECODER MODEL CREATION FINISHED ...\\n\")"
      ],
      "execution_count": null,
      "outputs": [
        {
          "output_type": "stream",
          "text": [
            "\n",
            "... ATTENTION MECHANISM LAYER CREATION FINISHED ...\n",
            "\n",
            "\n",
            "... DECODER MODEL CREATION STARTING ...\n",
            "\n",
            "\n",
            "... DECODER MODEL CREATION FINISHED ...\n",
            "\n"
          ],
          "name": "stdout"
        }
      ]
    },
    {
      "cell_type": "markdown",
      "metadata": {
        "id": "GjCTo2uy7OA9"
      },
      "source": [
        "# learning Rate Schedule "
      ]
    },
    {
      "cell_type": "code",
      "metadata": {
        "id": "sjGKKfLj7RrV",
        "colab": {
          "base_uri": "https://localhost:8080/"
        },
        "outputId": "8ee36d8a-5ae9-4ace-de25-c50dea549000"
      },
      "source": [
        "print(\"\\n... LEARNING RATE SCHEDULE CREATION STARTING ...\\n\")\n",
        "\n",
        "\n",
        "print(\"\\n... LEARNING RATE SCHEDULE CREATION STARTING ...\\n\")\n",
        "\n",
        "# Part of the Training Configuration\n",
        "EPOCHS = 10\n",
        "TOTAL_STEPS = TRAIN_STEPS*EPOCHS\n",
        "\n",
        "CyclicalLearningRateScheduler = tfa.optimizers.CyclicalLearningRate(\n",
        " initial_learning_rate=3e-7, #3e-7,\n",
        " maximal_learning_rate=3e-5, #3e-5,\n",
        " step_size=TRAIN_STEPS*2,\n",
        " scale_fn=lambda x: 1 / (2.0 ** (x - 1)),\n",
        " scale_mode='cycle')\n",
        "\n",
        "# # #https://towardsdatascience.com/super-convergence-with-cyclical-learning-rates-in-tensorflow-c1932b858252"
      ],
      "execution_count": null,
      "outputs": [
        {
          "output_type": "stream",
          "text": [
            "\n",
            "... LEARNING RATE SCHEDULE CREATION STARTING ...\n",
            "\n",
            "\n",
            "... LEARNING RATE SCHEDULE CREATION STARTING ...\n",
            "\n"
          ],
          "name": "stdout"
        }
      ]
    },
    {
      "cell_type": "code",
      "metadata": {
        "id": "jyAVVl-0aJI8"
      },
      "source": [
        "def plot_lr_schedule(lr_schedule, name=\"\"):\n",
        "    \"\"\" Plot the learning rate schedule over the course of training\n",
        "    \n",
        "    Args:\n",
        "        lr_schedule (list of floats): The values to use for the LR over the\n",
        "            course of training\n",
        "        name (str, optional): A name for the LR schedule\n",
        "    \n",
        "    Returns:\n",
        "        None; A plot of the how the learning rate changes over time will be displayed\n",
        "    \n",
        "    \"\"\"\n",
        "    schedule_info = f'start: {lr_schedule[0]:.6f}, max: {max(lr_schedule):.6f}, final: {lr_schedule[-1]:.6f}'\n",
        "    plt.figure(figsize=(18,6))\n",
        "    plt.plot(lr_schedule)\n",
        "    plt.title(f\"Step Learning Rate Schedule {name+', ' if name else name}{schedule_info}\", size=16, fontweight=\"bold\")\n",
        "    plt.grid()\n",
        "    plt.show()"
      ],
      "execution_count": null,
      "outputs": []
    },
    {
      "cell_type": "code",
      "metadata": {
        "colab": {
          "base_uri": "https://localhost:8080/",
          "height": 279
        },
        "id": "rMDknp4yaFXz",
        "outputId": "0b7d2fe0-f566-484f-8980-8ca970c92339"
      },
      "source": [
        "plt.plot(CyclicalLearningRateScheduler(step=tf.range(TOTAL_STEPS, dtype=tf.float32)))\n",
        "plt.ylabel(\"Learning Rate\")\n",
        "plt.xlabel(\"Train Step\")\n",
        "plt.show()"
      ],
      "execution_count": null,
      "outputs": [
        {
          "output_type": "display_data",
          "data": {
            "image/png": "[encoded data removed]",
            "text/plain": [
              "<Figure size 432x288 with 1 Axes>"
            ]
          },
          "metadata": {
            "tags": [],
            "needs_background": "light"
          }
        }
      ]
    },
    {
      "cell_type": "code",
      "metadata": {
        "id": "gAAvolRk7fKN",
        "colab": {
          "base_uri": "https://localhost:8080/"
        },
        "outputId": "694d44e4-f59b-488b-b266-b157c0e478e6"
      },
      "source": [
        "class Config():\n",
        "    def __init__(self,):\n",
        "        self.encoder_config={}\n",
        "        self.decoder_config={}\n",
        "        self.lr_config={}\n",
        "    def initialize_lr_config(self):\n",
        "        self.lr_config = dict(     \n",
        "        )\n",
        "        \n",
        "training_config=Config()\n",
        "training_config.initialize_lr_config()\n",
        "\n",
        "print(f\"TRAINING LEARNING RATE CONFIG:\\n\\t--> {training_config.lr_config}\\n\")"
      ],
      "execution_count": null,
      "outputs": [
        {
          "output_type": "stream",
          "text": [
            "TRAINING LEARNING RATE CONFIG:\n",
            "\t--> {}\n",
            "\n"
          ],
          "name": "stdout"
        }
      ]
    },
    {
      "cell_type": "code",
      "metadata": {
        "id": "iD8XzNZ67hz0",
        "colab": {
          "base_uri": "https://localhost:8080/"
        },
        "outputId": "7b73d0a9-a9b4-4bc0-ad5d-04ff94c4e75f"
      },
      "source": [
        "print(\"\\n... TRAINING PREPERATION STARTING ...\\n\")\n",
        "\n",
        "def prepare_for_training(lr_config, encoder_wts=None, decoder_wts=None, verbose=0):\n",
        "    \n",
        "\n",
        "    # Everything must be declared within the scope when leveraging the TPU strategy\n",
        "    #     - This will still function properly if scope is set to another type of accelerator\n",
        "    with strategy.scope():\n",
        "        \n",
        "        print(\"\\t--> CREATING LOSS FUNCTION ...\")\n",
        "        # Declare the loss object\n",
        "        #     - Sparse categorical cross entropy loss is used as root loss\n",
        "        loss_object=tf.keras.losses.SparseCategoricalCrossentropy(\n",
        "            from_logits=True, reduction=tf.keras.losses.Reduction.NONE\n",
        "        )\n",
        "        \n",
        "        def loss_fn(real, pred):\n",
        "            # Convert to uint8\n",
        "            mask = tf.math.not_equal(real, 0)\n",
        "            loss_ = loss_object(real, pred)\n",
        "            loss_ *= tf.cast(mask, dtype=loss_.dtype)\n",
        "\n",
        "            # https://www.tensorflow.org/tutorials/distribute/custom_training#define_the_loss_function\n",
        "            loss_ = tf.nn.compute_average_loss(loss_, global_batch_size=REPLICA_BATCH_SIZE)\n",
        "            return loss_\n",
        "        \n",
        "        \n",
        "        # Declare the metrics\n",
        "        #    - Loss (train only) and sparse categorical accuracy will be used\n",
        "        print(\"\\t--> CREATING METRICS ...\")\n",
        "        metrics={\n",
        "            'batch_loss':tf.keras.metrics.Mean(),\n",
        "            'train_loss': tf.keras.metrics.Mean(),\n",
        "            'train_acc': tf.keras.metrics.SparseCategoricalAccuracy(),\n",
        "            'val_loss': tf.keras.metrics.Mean(),\n",
        "            'val_acc': tf.keras.metrics.SparseCategoricalAccuracy(),\n",
        "            'val_lsd': tf.keras.metrics.Mean(), \n",
        "        }\n",
        "        \n",
        "        print(\"\\t--> CREATING OPTIMIZER ...\")\n",
        "        \n",
        "        lr_scheduler = CyclicalLearningRateScheduler\n",
        "        \n",
        "        # Instiate an optimizer\n",
        "        #optimizer=tf.keras.optimizers.Adam(lr_scheduler)\n",
        "        #optimizer=tf.keras.optimizers.Adam()\n",
        "        \n",
        "        optimizer=tf.keras.optimizers.Adam(learning_rate=1e-5)\n",
        "\n",
        "\n",
        "        \n",
        "        print(\"\\t--> CREATING LEARNING RATE SCHEDULER ...\")\n",
        "        # Declare the learning rate schedule (try this as actual lr schedule and list...)\n",
        "        \n",
        "\n",
        "\n",
        "    # Show the model architectures and plot the learning rate\n",
        "    if verbose:\n",
        "\n",
        "        print(\"\\n\\n... LR SCHEDULE PLOT...\\n\")\n",
        "        plot_lr_schedule(lr_schedule)\n",
        "  \n",
        "    return loss_fn, metrics, optimizer, lr_scheduler\n",
        "    \n",
        "    \n",
        "print(\"\\n... GENERATING THE FOLLOWING:\")\n",
        "# Instantiate our required training components in the correct scope\n",
        "loss_fn, metrics, optimizer, lr_scheduler=\\\n",
        "    prepare_for_training(lr_config=training_config.lr_config,\n",
        "                         encoder_wts=(ENCODER_CKPT_PATH if ENCODER_CKPT_PATH!=\"\" else None),\n",
        "                         decoder_wts=(DECODER_CKPT_PATH if DECODER_CKPT_PATH!=\"\" else None),\n",
        "                         verbose=0,)\n",
        "\n",
        "print(\"\\n... TRAINING PREPERATION FINISHED ...\\n\")"
      ],
      "execution_count": null,
      "outputs": [
        {
          "output_type": "stream",
          "text": [
            "\n",
            "... TRAINING PREPERATION STARTING ...\n",
            "\n",
            "\n",
            "... GENERATING THE FOLLOWING:\n",
            "\t--> CREATING LOSS FUNCTION ...\n",
            "\t--> CREATING METRICS ...\n",
            "\t--> CREATING OPTIMIZER ...\n",
            "\t--> CREATING LEARNING RATE SCHEDULER ...\n",
            "\n",
            "... TRAINING PREPERATION FINISHED ...\n",
            "\n"
          ],
          "name": "stdout"
        }
      ]
    },
    {
      "cell_type": "markdown",
      "metadata": {
        "id": "JBkWBOWc7pGP"
      },
      "source": [
        "## Transformer"
      ]
    },
    {
      "cell_type": "code",
      "metadata": {
        "id": "wlfARTNp7k2d"
      },
      "source": [
        "class Transformer(tf.keras.Model):\n",
        "    def __init__(self, num_layers, d_model, num_heads, dff, target_vocab_size, pe_input, pe_target, rate=0.1):\n",
        "        super(Transformer, self).__init__()\n",
        "        print(\"num_layers, d_model, num_heads, dff, target_vocab_size, pe_input, pe_target\", num_layers, d_model, num_heads, dff, target_vocab_size, pe_input, pe_target, rate)\n",
        "        self.encoder= VIT_ENCODER(patch_size, num_patches, projection_dim, transformer_layers, transformer_units)\n",
        "        self.decoder=Decoder(num_layers, d_model, num_heads, dff,\n",
        "                          target_vocab_size, pe_target, rate)\n",
        "        self.final_layer=tf.keras.layers.Dense(target_vocab_size)\n",
        "\n",
        "    def call(self, inp, tar, training,look_ahead_mask=None,dec_padding_mask=None,enc_padding_mask=None):\n",
        "        enc_output=self.encoder(inp, training)  # (batch_size, inp_seq_len, d_model      )\n",
        "        dec_output, attention_weights=self.decoder(tar, enc_output, training, look_ahead_mask, dec_padding_mask)\n",
        "        final_output=self.final_layer(dec_output)  # (batch_size, tar_seq_len, target_vocab_size)\n",
        "        return final_output, attention_weights"
      ],
      "execution_count": null,
      "outputs": []
    },
    {
      "cell_type": "code",
      "metadata": {
        "id": "cbyNIqZH7rk8",
        "colab": {
          "base_uri": "https://localhost:8080/"
        },
        "outputId": "cfe639e5-918e-48f2-9ee7-6e94c9acfb39"
      },
      "source": [
        "transformer = Transformer(num_layer, \n",
        "                          d_model,\n",
        "                          num_heads, \n",
        "                          dff, \n",
        "                          target_vocab_size, \n",
        "                          num_patches,\n",
        "                          MAX_LEN,\n",
        "                          dropout_rate)"
      ],
      "execution_count": null,
      "outputs": [
        {
          "output_type": "stream",
          "text": [
            "num_layers, d_model, num_heads, dff, target_vocab_size, pe_input, pe_target 4 768 8 512 197 288 138 0.1\n"
          ],
          "name": "stdout"
        }
      ]
    },
    {
      "cell_type": "markdown",
      "metadata": {
        "id": "1745JYydob6N"
      },
      "source": [
        "# Load Weight"
      ]
    },
    {
      "cell_type": "code",
      "metadata": {
        "id": "kyJsaN5Ny8WC",
        "colab": {
          "base_uri": "https://localhost:8080/"
        },
        "outputId": "95095c85-dd26-43a1-fb7d-8d8494b82087"
      },
      "source": [
        "!ls ./drive/MyDrive"
      ],
      "execution_count": null,
      "outputs": [
        {
          "output_type": "stream",
          "text": [
            "'Colab Notebooks'   leatherData.drawio\t transformer_epoch_4.h5\n",
            " kaggle.json\t    robot.drawio\n"
          ],
          "name": "stdout"
        }
      ]
    },
    {
      "cell_type": "code",
      "metadata": {
        "id": "l5FSztF3lfxe",
        "colab": {
          "base_uri": "https://localhost:8080/"
        },
        "outputId": "1734440b-8b9d-45e7-a55a-b3184e0cb683"
      },
      "source": [
        "\n",
        "with strategy.scope():\n",
        "  initialization_batch = tf.ones(((REPLICA_BATCH_SIZE,)+IMG_SHAPE), dtype=TARGET_DTYPE)\n",
        "  transformer(initialization_batch, tf.random.uniform((REPLICA_BATCH_SIZE, 1)), training=False)\n",
        "  transformer.summary()\n",
        "  TRANSFORMER_CKPT_PATH = '/content/drive/MyDrive/transformer_epoch_4.h5'\n",
        "  transformer.load_weights(TRANSFORMER_CKPT_PATH)\n"
      ],
      "execution_count": null,
      "outputs": [
        {
          "output_type": "stream",
          "text": [
            "Model: \"transformer\"\n",
            "_________________________________________________________________\n",
            "Layer (type)                 Output Shape              Param #   \n",
            "=================================================================\n",
            "vit_encoder (VIT_ENCODER)    multiple                  31517952  \n",
            "_________________________________________________________________\n",
            "decoder (Decoder)            multiple                  22219520  \n",
            "_________________________________________________________________\n",
            "dense_42 (Dense)             multiple                  151493    \n",
            "=================================================================\n",
            "Total params: 53,888,965\n",
            "Trainable params: 53,888,965\n",
            "Non-trainable params: 0\n",
            "_________________________________________________________________\n"
          ],
          "name": "stdout"
        }
      ]
    },
    {
      "cell_type": "markdown",
      "metadata": {
        "id": "wsNnlbFG7ynO"
      },
      "source": [
        "# LookForward mask"
      ]
    },
    {
      "cell_type": "code",
      "metadata": {
        "id": "iOUcwH707riP"
      },
      "source": [
        "def create_padding_mask(seq):\n",
        "    # add extra dimensions to add the padding to the attention logits.\n",
        "    #    - (batch_size, 1, 1, seq_len)\n",
        "    seq=tf.cast(tf.math.equal(seq, 0), TARGET_DTYPE)\n",
        "    return seq[:, tf.newaxis, tf.newaxis, :] \n",
        "\n",
        "def create_look_ahead_mask(size):\n",
        "    mask=1 - tf.linalg.band_part(tf.ones((size, size)), -1, 0)\n",
        "    #return mask  # (seq_len, seq_len)\n",
        "    return tf.cast(mask, TARGET_DTYPE)\n",
        "def create_masks_decoder(tar):\n",
        "\n",
        "    look_ahead_mask = create_look_ahead_mask(tf.shape(tar)[1])\n",
        "    dec_target_padding_mask = create_padding_mask(tar)\n",
        "\n",
        "    combined_mask = tf.maximum(dec_target_padding_mask, look_ahead_mask)\n",
        "\n",
        "    return combined_mask"
      ],
      "execution_count": null,
      "outputs": []
    },
    {
      "cell_type": "markdown",
      "metadata": {
        "id": "9Pez1HKd8H6I"
      },
      "source": [
        "# Train"
      ]
    },
    {
      "cell_type": "code",
      "metadata": {
        "id": "2k4NnkRs8KXF"
      },
      "source": [
        "def train_step(_image_batch, _inchi_batch):\n",
        "\n",
        "    tar_inp = _inchi_batch[:, :-1]\n",
        "    tar_real = _inchi_batch[:, 1:]\n",
        "    \n",
        "    # TODO 此处可能不对\n",
        "    #enc_padding_mask = create_padding_mask(_inchi_batch)\n",
        "    # 其实是lookahead mask\n",
        "    dec_mask = create_masks_decoder(tar_inp)\n",
        "    \n",
        "    #dec_padding_mask = create_padding_mask(_inchi_batch)\n",
        "    \n",
        "    \n",
        "    with tf.GradientTape() as tape:\n",
        "            predictions, _ = transformer(_image_batch, tar_inp, True, look_ahead_mask=dec_mask)\n",
        "            batch_loss = loss_fn(tar_real, predictions)\n",
        "            # TODO 此处可能不对\n",
        "            # Update Accuracy Metric\n",
        "            metrics[\"train_acc\"].update_state(tar_real, predictions, \n",
        "                                              sample_weight=tf.where(tf.not_equal(tar_real, PAD_TOKEN), 1.0, 0.0))\n",
        "        \n",
        "    gradients = tape.gradient(batch_loss, transformer.trainable_variables)   \n",
        "    optimizer.apply_gradients(zip(gradients, transformer.trainable_variables))\n",
        "    #train_loss(loss)\n",
        "    #train_accuracy(tar_real, predictions)\n",
        "    metrics[\"batch_loss\"].update_state(batch_loss)\n",
        "    metrics[\"train_loss\"].update_state(batch_loss)\n",
        "    \n",
        "@tf.function\n",
        "def dist_train_step(_image_batch, _inchi_batch):\n",
        "    strategy.run(train_step, args=(_image_batch, _inchi_batch))"
      ],
      "execution_count": null,
      "outputs": []
    },
    {
      "cell_type": "code",
      "metadata": {
        "id": "mbsDEuOY8Qbc"
      },
      "source": [
        "def val_step(_image_batch, _inchi_batch):\n",
        "    \"\"\" Forward pass (calculate gradients)\n",
        "    \n",
        "    Args:\n",
        "        image_batch (): TBD\n",
        "        inchi_batch (): TBD\n",
        "    \n",
        "    Returns:\n",
        "        tbd\n",
        "    \"\"\"\n",
        "    \n",
        "    # Initialize batch_loss\n",
        "    batch_loss = tf.constant(0.0, TARGET_DTYPE)       \n",
        "    transformer_pred_batch = tf.ones((REPLICA_BATCH_SIZE, 1), dtype=tf.uint8)\n",
        "    #transformer_pred_batch = tf.ones((OVERALL_BATCH_SIZE, 1), dtype=tf.uint8)\n",
        "    \n",
        "    # Get image embedding (once)\n",
        "    #_image_embedding = encoder(_image_batch, training=False)\n",
        "    \n",
        "    # Teacher forcing - feeding the target as the next input\n",
        "    for c_idx in range(1, MAX_LEN):\n",
        "        gt_batch_id = _inchi_batch[:, c_idx]\n",
        "        combined_mask = create_masks_decoder(transformer_pred_batch)\n",
        "        \n",
        "        # predictions.shape == (batch_size, seq_len, vocab_size)\n",
        "        prediction_batch, attention_weights = transformer(_image_batch, transformer_pred_batch, training=False, look_ahead_mask=combined_mask)\n",
        "        predicted_batch_id = prediction_batch[:, -1:, :]\n",
        "\n",
        "        # Update Loss Accumulator\n",
        "        batch_loss += loss_fn(gt_batch_id, predicted_batch_id[:, -1])\n",
        "    \n",
        "        # Update Accuracy Metric\n",
        "        metrics[\"val_acc\"].update_state(gt_batch_id, predicted_batch_id[:, -1],\n",
        "                                        sample_weight=tf.where(tf.not_equal(gt_batch_id, PAD_TOKEN), 1.0, 0.0))\n",
        "\n",
        "        # no teacher forcing, predicted char is next transformer input\n",
        "        transformer_pred_batch = tf.concat([transformer_pred_batch, tf.cast(tf.argmax(predicted_batch_id, axis=-1), tf.uint8)], axis=-1)\n",
        "        \n",
        "    # Update Loss Metric\n",
        "    metrics[\"val_loss\"].update_state(batch_loss)\n",
        "    return transformer_pred_batch    \n",
        "\n",
        "    \n",
        "@tf.function\n",
        "def dist_val_step(_val_dist_ds):\n",
        "    _val_image_batch, _val_inchi_batch = next(_val_dist_ds)\n",
        "    predictions_seq_batch_per_replica = strategy.run(val_step, args=(_val_image_batch, _val_inchi_batch))\n",
        "    predictions_seq_batch_accum = strategy.gather(predictions_seq_batch_per_replica, axis=0)\n",
        "    _val_inchi_batch_accum = strategy.gather(_val_inchi_batch, axis=0)\n",
        "    return predictions_seq_batch_accum, _val_inchi_batch_accum"
      ],
      "execution_count": null,
      "outputs": []
    },
    {
      "cell_type": "code",
      "metadata": {
        "id": "8aoZX5_d8Vav"
      },
      "source": [
        "class StatLogger():\n",
        "    def __init__(self, verbose_frequency=100, print_style=\"tight\"):\n",
        "        self.train_loss = []\n",
        "        self.train_acc = []\n",
        "        self.val_loss = []\n",
        "        self.val_acc = []\n",
        "        self.val_lsd = []\n",
        "        self.step = []\n",
        "        self.epoch = []\n",
        "        self.lr = []\n",
        "        \n",
        "        self.current_step = 0\n",
        "        self.epoch_start_time = 0\n",
        "        self.batch_start_time = 0\n",
        "        self.verbose_frequency = verbose_frequency\n",
        "        self.print_style = print_style\n",
        "        \n",
        "    def print_last_val(self, current_time):\n",
        "        if self.print_style==\"tight\":\n",
        "            print(f\"| VAL DATA |  STEP {VAL_STEPS:>4}/{VAL_STEPS} |  \" \\\n",
        "                  f\"ACC: {str(self.val_acc[-1]*100)[:5]:<5} – \" \\\n",
        "                  f\"LOSS: {str(self.val_loss[-1])[:5]:<5} – \" \\\n",
        "                  f\"LSD: {str(self.val_lsd[-1]):<3} |\")\n",
        "        else:\n",
        "            print(f'\\n\\n{\"-\"*100}\\n{\"-\"*100}\\n' \\\n",
        "                  f'{\"-\"*25:<25}{\"VALIDATION ACCURACY : \"+str(self.val_acc[-1]*100): ^50}{\"-\"*25:>25}\\n' \\\n",
        "                  f'{\"-\"*100}\\n' \\\n",
        "                  f'{\"-\"*25:<25}{\"VALIDATION LOSS     : \"+str(self.val_loss[-1]): ^50}{\"-\"*25:>25}\\n' \\\n",
        "                  f'{\"-\"*100}\\n' \\\n",
        "                  f'{\"-\"*25:<25}{\"VALIDATION LSD      : \"+str(self.val_lsd[-1]): ^50}{\"-\"*25:>25}\\n' \\\n",
        "                  f'{\"-\"*100}\\n{\"-\"*100}\\n\\n')\n",
        "    \n",
        "    def print_current_train(self, step, train_acc, train_loss, batch_loss, current_time, current_lr):\n",
        "        if self.print_style==\"tight\":\n",
        "            print(f\"| TRAIN DATA |  STEP {self.current_step:>4}/{TRAIN_STEPS} | \" \\\n",
        "                  f\"ACC: {str(train_acc*100)[:5]:<5} – \" \\\n",
        "                  f\"LOSS: {str(train_loss)[:5]:<5} – \" \\\n",
        "                  f\"LR: {current_lr:.2e} \" \\\n",
        "                  f\"|   | TIME |  EPOCH: {str(round((current_time-self.epoch_start_time)/3600,1))+'h':<5} – \" \\\n",
        "                  f\"SUBSET: {str(round((current_time-self.batch_start_time)*self.verbose_frequency,1))+'s':<6} – \" \\\n",
        "                  f\"BATCH: {str(round(current_time-self.batch_start_time,1))+'s':<5} |\")\n",
        "        else:\n",
        "            print(f'\\n\\n{\"-\"*100}\\n{\"-\"*100}\\n' \\\n",
        "                  f'{\"-\"*25:<25}{\"CURRENT STEP : \"+str(step)+\" OF \"+str(TRAIN_STEPS): ^50}{\"-\"*25:>25}\\n' \\\n",
        "                  f'{\"-\"*100}\\n' \\\n",
        "                  f'{\"-\"*25:<25}{\"CURRENT TRAIN ACCURACY : \"+str(train_acc*100): ^50}{\"-\"*25:>25}\\n' \\\n",
        "                  f'{\"-\"*100}\\n' \\\n",
        "                  f'{\"-\"*25:<25}{\"CURRENT TRAIN LOSS     : \"+str(train_loss): ^50}{\"-\"*25:>25}\\n' \\\n",
        "                  f'{\"-\"*100}\\n' \\\n",
        "                  f'{\"-\"*25:<25}{\"LAST BATCH LOSS        : \"+str(batch_loss): ^50}{\"-\"*25:>25}\\n' \\\n",
        "                  f'{\"-\"*100}\\n{\"-\"*100}\\n' \\\n",
        "                  f'{\"-\"*25:<25}{\"EPOCH ELAPSED TIME  : \"+str(round(current_time-self.epoch_start_time,1))+\" SECONDS\": ^50}{\"-\"*25:>25}\\n' \\\n",
        "                  f'{\"-\"*100}\\n' \\\n",
        "                  f'{\"-\"*25:<25}{\"LAST SET OF BATCHES TOOK  : ~\"+str(round((current_time-self.batch_start_time)*self.verbose_frequency,1))+\" SECONDS\": ^50}{\"-\"*25:>25}\\n' \\\n",
        "                  f'{\"-\"*100}\\n' \\\n",
        "                  f'{\"-\"*25:<25}{\"LAST SINGLE BATCH TOOK  : \"+str(round(current_time-self.batch_start_time,1))+\" SECONDS\": ^50}{\"-\"*25:>25}\\n' \\\n",
        "                  f'{\"-\"*100}\\n{\"-\"*100}\\n\\n')"
      ],
      "execution_count": null,
      "outputs": []
    },
    {
      "cell_type": "code",
      "metadata": {
        "id": "4XnM5kFv8ZE1",
        "colab": {
          "base_uri": "https://localhost:8080/",
          "height": 698
        },
        "outputId": "bc4fc329-91fa-484f-ff8c-200527a9422b"
      },
      "source": [
        "# Instantiate our tool for logging\n",
        "stat_logger = StatLogger()\n",
        "    \n",
        "for epoch in range(1,EPOCHS+1):\n",
        "    print(f'\\n\\n{\"=\"*100}\\n{\"=\"*25:<25}{\"EPOCH #\"+str(epoch): ^50}{\"=\"*25:>25}\\n{\"=\"*100}\\n')\n",
        "    \n",
        "    stat_logger.current_step=0\n",
        "    stat_logger.epoch_start_time = time.time() # to compute epoch duration\n",
        "    \n",
        "    # create distributed versions of dataset to run on TPU with 8 computation units\n",
        "    train_dist_ds = strategy.experimental_distribute_dataset(train_ds)\n",
        "    val_dist_ds = iter(strategy.experimental_distribute_dataset(val_ds))\n",
        "\n",
        "    for image_batch, inchi_batch in train_dist_ds:\n",
        "                \n",
        "        # Update current step\n",
        "        stat_logger.batch_start_time = time.time()\n",
        "        \n",
        "        # Update the current step\n",
        "        stat_logger.current_step += 1\n",
        "        \n",
        "        # Calculate training step\n",
        "        dist_train_step(image_batch, inchi_batch)\n",
        "\n",
        "        # end of epoch validation step\n",
        "        if stat_logger.current_step == TRAIN_STEPS and epoch%2==0:\n",
        "        #if stat_logger.current_step == TRAIN_STEPS:\n",
        "            print(\"\\n... VALIDATION DATASET STATISTICS ... \\n\")\n",
        "            \"\"\"\n",
        "            for _ in range(VAL_STEPS):\n",
        "                #preds, lbls = dist_val_step(val_dist_ds)\n",
        "                #if epoch == EPOCHS+1:\n",
        "                # metrics[\"val_lsd\"].update_state(get_levenshtein_distance(preds, lbls))\n",
        "            \"\"\"\n",
        "\n",
        "            # Record this epochs statistics\n",
        "            stat_logger.train_loss.append(metrics[\"train_loss\"].result().numpy())\n",
        "            stat_logger.train_acc.append(metrics[\"train_acc\"].result().numpy())\n",
        "            stat_logger.val_loss.append(metrics[\"val_loss\"].result().numpy())\n",
        "            stat_logger.val_acc.append(metrics[\"val_acc\"].result().numpy())\n",
        "            stat_logger.val_lsd.append(metrics[\"val_lsd\"].result().numpy())\n",
        "            stat_logger.step.append(stat_logger.current_step)\n",
        "            stat_logger.epoch.append(epoch)\n",
        "            #stat_logger.lr.append(lr_scheduler.lr)\n",
        "            stat_logger.lr.append(lr_scheduler(tf.cast(stat_logger.current_step+TRAIN_STEPS*(epoch-1), tf.float32)))\n",
        "            \n",
        "            # Reset the validation metrics as one epoch should not effect the next\n",
        "            metrics[\"val_lsd\"].reset_states()\n",
        "            metrics[\"val_acc\"].reset_states()\n",
        "            metrics[\"val_loss\"].reset_states()\n",
        "            metrics[\"train_acc\"].reset_states()\n",
        "            metrics[\"train_loss\"].reset_states()\n",
        "            metrics[\"batch_loss\"].reset_states()\n",
        "            \n",
        "            # Print validation scores\n",
        "            stat_logger.print_last_val(current_time=time.time())\n",
        "        \n",
        "        # verbose logging step\n",
        "        if stat_logger.current_step % stat_logger.verbose_frequency == 0:    \n",
        "            stat_logger.print_current_train(\n",
        "                stat_logger.current_step,\n",
        "                metrics[\"train_acc\"].result().numpy(), \n",
        "                metrics[\"train_loss\"].result().numpy(), \n",
        "                metrics[\"batch_loss\"].result().numpy(), \n",
        "                current_time=time.time(),\n",
        "                #current_lr=lr_scheduler.lr\n",
        "                current_lr=lr_scheduler(tf.cast(stat_logger.current_step+TRAIN_STEPS*(epoch-1), tf.float32))\n",
        "            )\n",
        "            metrics[\"train_acc\"].reset_states()\n",
        "            metrics[\"train_loss\"].reset_states()\n",
        "            metrics[\"batch_loss\"].reset_states()\n",
        "\n",
        "        # stop training when NaN loss is detected\n",
        "        if stat_logger.current_step == TRAIN_STEPS:\n",
        "            break\n",
        "            \n",
        "        # update learning rate\n",
        "        #lr_scheduler.step(stat_logger.current_step+((epoch-1)*TRAIN_STEPS))\n",
        "        \n",
        "    # Save every other epoch (starting with first epoch)\n",
        "    # Save after last epoch too...\n",
        "    # if epoch%2==1 or epoch==EPOCHS:\n",
        "    # save weights\n",
        "    print(\"\\n...SAVING MODELS TO DISK ... \\n\")\n",
        "    #encoder.save_weights(f'./encoder_epoch_{epoch}.h5')\n",
        "    #decoder.save_weights(f'./decoder_epoch_{epoch}.h5’）\n",
        "    transformer.save_weights(f'./transformer_epoch_{epoch}.h5')"
      ],
      "execution_count": null,
      "outputs": [
        {
          "output_type": "stream",
          "text": [
            "\n",
            "\n",
            "====================================================================================================\n",
            "=========================                     EPOCH #1                     =========================\n",
            "====================================================================================================\n",
            "\n",
            "| TRAIN DATA |  STEP  100/11792 | ACC: 87.32 – LOSS: 32.00 – LR: 1.30e-05 |   | TIME |  EPOCH: 0.1h  – SUBSET: 118.0s – BATCH: 1.2s  |\n",
            "| TRAIN DATA |  STEP  200/11792 | ACC: 87.49 – LOSS: 31.56 – LR: 2.57e-05 |   | TIME |  EPOCH: 0.1h  – SUBSET: 117.7s – BATCH: 1.2s  |\n",
            "| TRAIN DATA |  STEP  300/11792 | ACC: 87.55 – LOSS: 31.45 – LR: 3.85e-05 |   | TIME |  EPOCH: 0.1h  – SUBSET: 117.6s – BATCH: 1.2s  |\n",
            "| TRAIN DATA |  STEP  400/11792 | ACC: 87.58 – LOSS: 31.37 – LR: 5.12e-05 |   | TIME |  EPOCH: 0.2h  – SUBSET: 117.8s – BATCH: 1.2s  |\n",
            "| TRAIN DATA |  STEP  500/11792 | ACC: 87.64 – LOSS: 31.26 – LR: 6.39e-05 |   | TIME |  EPOCH: 0.2h  – SUBSET: 117.7s – BATCH: 1.2s  |\n",
            "| TRAIN DATA |  STEP  600/11792 | ACC: 87.75 – LOSS: 30.99 – LR: 7.66e-05 |   | TIME |  EPOCH: 0.2h  – SUBSET: 117.6s – BATCH: 1.2s  |\n",
            "| TRAIN DATA |  STEP  700/11792 | ACC: 87.84 – LOSS: 30.56 – LR: 8.93e-05 |   | TIME |  EPOCH: 0.2h  – SUBSET: 117.7s – BATCH: 1.2s  |\n",
            "| TRAIN DATA |  STEP  800/11792 | ACC: 87.84 – LOSS: 30.59 – LR: 1.02e-04 |   | TIME |  EPOCH: 0.3h  – SUBSET: 117.7s – BATCH: 1.2s  |\n",
            "| TRAIN DATA |  STEP  900/11792 | ACC: 87.95 – LOSS: 30.26 – LR: 1.15e-04 |   | TIME |  EPOCH: 0.3h  – SUBSET: 117.6s – BATCH: 1.2s  |\n",
            "| TRAIN DATA |  STEP 1000/11792 | ACC: 87.89 – LOSS: 30.39 – LR: 1.27e-04 |   | TIME |  EPOCH: 0.3h  – SUBSET: 117.5s – BATCH: 1.2s  |\n",
            "| TRAIN DATA |  STEP 1100/11792 | ACC: 87.43 – LOSS: 31.81 – LR: 1.40e-04 |   | TIME |  EPOCH: 0.4h  – SUBSET: 117.7s – BATCH: 1.2s  |\n",
            "| TRAIN DATA |  STEP 1200/11792 | ACC: 87.36 – LOSS: 31.95 – LR: 1.53e-04 |   | TIME |  EPOCH: 0.4h  – SUBSET: 117.5s – BATCH: 1.2s  |\n",
            "| TRAIN DATA |  STEP 1300/11792 | ACC: 87.36 – LOSS: 32.11 – LR: 1.66e-04 |   | TIME |  EPOCH: 0.4h  – SUBSET: 117.6s – BATCH: 1.2s  |\n"
          ],
          "name": "stdout"
        },
        {
          "output_type": "error",
          "ename": "KeyboardInterrupt",
          "evalue": "ignored",
          "traceback": [
            "\u001b[0;31m---------------------------------------------------------------------------\u001b[0m",
            "\u001b[0;31mKeyboardInterrupt\u001b[0m                         Traceback (most recent call last)",
            "\u001b[0;32m<ipython-input-56-f0232cb472b0>\u001b[0m in \u001b[0;36m<module>\u001b[0;34m()\u001b[0m\n\u001b[1;32m     12\u001b[0m     \u001b[0mval_dist_ds\u001b[0m \u001b[0;34m=\u001b[0m \u001b[0miter\u001b[0m\u001b[0;34m(\u001b[0m\u001b[0mstrategy\u001b[0m\u001b[0;34m.\u001b[0m\u001b[0mexperimental_distribute_dataset\u001b[0m\u001b[0;34m(\u001b[0m\u001b[0mval_ds\u001b[0m\u001b[0;34m)\u001b[0m\u001b[0;34m)\u001b[0m\u001b[0;34m\u001b[0m\u001b[0;34m\u001b[0m\u001b[0m\n\u001b[1;32m     13\u001b[0m \u001b[0;34m\u001b[0m\u001b[0m\n\u001b[0;32m---> 14\u001b[0;31m     \u001b[0;32mfor\u001b[0m \u001b[0mimage_batch\u001b[0m\u001b[0;34m,\u001b[0m \u001b[0minchi_batch\u001b[0m \u001b[0;32min\u001b[0m \u001b[0mtrain_dist_ds\u001b[0m\u001b[0;34m:\u001b[0m\u001b[0;34m\u001b[0m\u001b[0;34m\u001b[0m\u001b[0m\n\u001b[0m\u001b[1;32m     15\u001b[0m \u001b[0;34m\u001b[0m\u001b[0m\n\u001b[1;32m     16\u001b[0m         \u001b[0;31m# Update current step\u001b[0m\u001b[0;34m\u001b[0m\u001b[0;34m\u001b[0m\u001b[0;34m\u001b[0m\u001b[0m\n",
            "\u001b[0;32m/usr/local/lib/python3.7/dist-packages/tensorflow/python/distribute/input_lib.py\u001b[0m in \u001b[0;36m__next__\u001b[0;34m(self)\u001b[0m\n\u001b[1;32m    684\u001b[0m   \u001b[0;32mdef\u001b[0m \u001b[0m__next__\u001b[0m\u001b[0;34m(\u001b[0m\u001b[0mself\u001b[0m\u001b[0;34m)\u001b[0m\u001b[0;34m:\u001b[0m\u001b[0;34m\u001b[0m\u001b[0;34m\u001b[0m\u001b[0m\n\u001b[1;32m    685\u001b[0m     \u001b[0;32mtry\u001b[0m\u001b[0;34m:\u001b[0m\u001b[0;34m\u001b[0m\u001b[0;34m\u001b[0m\u001b[0m\n\u001b[0;32m--> 686\u001b[0;31m       \u001b[0;32mreturn\u001b[0m \u001b[0mself\u001b[0m\u001b[0;34m.\u001b[0m\u001b[0mget_next\u001b[0m\u001b[0;34m(\u001b[0m\u001b[0;34m)\u001b[0m\u001b[0;34m\u001b[0m\u001b[0;34m\u001b[0m\u001b[0m\n\u001b[0m\u001b[1;32m    687\u001b[0m     \u001b[0;32mexcept\u001b[0m \u001b[0merrors\u001b[0m\u001b[0;34m.\u001b[0m\u001b[0mOutOfRangeError\u001b[0m\u001b[0;34m:\u001b[0m\u001b[0;34m\u001b[0m\u001b[0;34m\u001b[0m\u001b[0m\n\u001b[1;32m    688\u001b[0m       \u001b[0;32mraise\u001b[0m \u001b[0mStopIteration\u001b[0m\u001b[0;34m\u001b[0m\u001b[0;34m\u001b[0m\u001b[0m\n",
            "\u001b[0;32m/usr/local/lib/python3.7/dist-packages/tensorflow/python/distribute/input_lib.py\u001b[0m in \u001b[0;36mget_next\u001b[0;34m(self, name)\u001b[0m\n\u001b[1;32m    715\u001b[0m           \u001b[0;31m# Make `replicas` a flat list of values across all replicas.\u001b[0m\u001b[0;34m\u001b[0m\u001b[0;34m\u001b[0m\u001b[0;34m\u001b[0m\u001b[0m\n\u001b[1;32m    716\u001b[0m           replicas.extend(\n\u001b[0;32m--> 717\u001b[0;31m               self._iterators[i].get_next_as_list_static_shapes(new_name))\n\u001b[0m\u001b[1;32m    718\u001b[0m       \u001b[0;32mreturn\u001b[0m \u001b[0m_create_per_replica\u001b[0m\u001b[0;34m(\u001b[0m\u001b[0mreplicas\u001b[0m\u001b[0;34m,\u001b[0m \u001b[0mself\u001b[0m\u001b[0;34m.\u001b[0m\u001b[0m_strategy\u001b[0m\u001b[0;34m)\u001b[0m\u001b[0;34m\u001b[0m\u001b[0;34m\u001b[0m\u001b[0m\n\u001b[1;32m    719\u001b[0m \u001b[0;34m\u001b[0m\u001b[0m\n",
            "\u001b[0;32m/usr/local/lib/python3.7/dist-packages/tensorflow/python/distribute/input_lib.py\u001b[0m in \u001b[0;36mget_next_as_list_static_shapes\u001b[0;34m(***failed resolving arguments***)\u001b[0m\n\u001b[1;32m   1925\u001b[0m     \u001b[0;32mdel\u001b[0m \u001b[0mname\u001b[0m\u001b[0;34m\u001b[0m\u001b[0;34m\u001b[0m\u001b[0m\n\u001b[1;32m   1926\u001b[0m     \u001b[0;32mwith\u001b[0m \u001b[0mops\u001b[0m\u001b[0;34m.\u001b[0m\u001b[0mdevice\u001b[0m\u001b[0;34m(\u001b[0m\u001b[0mself\u001b[0m\u001b[0;34m.\u001b[0m\u001b[0m_worker\u001b[0m\u001b[0;34m)\u001b[0m\u001b[0;34m:\u001b[0m\u001b[0;34m\u001b[0m\u001b[0;34m\u001b[0m\u001b[0m\n\u001b[0;32m-> 1927\u001b[0;31m       \u001b[0;32mreturn\u001b[0m \u001b[0mself\u001b[0m\u001b[0;34m.\u001b[0m\u001b[0m_format_data_list_with_options\u001b[0m\u001b[0;34m(\u001b[0m\u001b[0mself\u001b[0m\u001b[0;34m.\u001b[0m\u001b[0m_iterator\u001b[0m\u001b[0;34m.\u001b[0m\u001b[0mget_next\u001b[0m\u001b[0;34m(\u001b[0m\u001b[0;34m)\u001b[0m\u001b[0;34m)\u001b[0m\u001b[0;34m\u001b[0m\u001b[0;34m\u001b[0m\u001b[0m\n\u001b[0m\u001b[1;32m   1928\u001b[0m \u001b[0;34m\u001b[0m\u001b[0m\n\u001b[1;32m   1929\u001b[0m   \u001b[0;32mdef\u001b[0m \u001b[0mget_next_as_list\u001b[0m\u001b[0;34m(\u001b[0m\u001b[0mself\u001b[0m\u001b[0;34m,\u001b[0m \u001b[0mname\u001b[0m\u001b[0;34m=\u001b[0m\u001b[0;32mNone\u001b[0m\u001b[0;34m)\u001b[0m\u001b[0;34m:\u001b[0m\u001b[0;34m\u001b[0m\u001b[0;34m\u001b[0m\u001b[0m\n",
            "\u001b[0;32m/usr/local/lib/python3.7/dist-packages/tensorflow/python/data/ops/multi_device_iterator_ops.py\u001b[0m in \u001b[0;36mget_next\u001b[0;34m(self, device)\u001b[0m\n\u001b[1;32m    583\u001b[0m     \u001b[0;32mfor\u001b[0m \u001b[0mi\u001b[0m\u001b[0;34m,\u001b[0m \u001b[0mdevice\u001b[0m \u001b[0;32min\u001b[0m \u001b[0menumerate\u001b[0m\u001b[0;34m(\u001b[0m\u001b[0mself\u001b[0m\u001b[0;34m.\u001b[0m\u001b[0m_devices\u001b[0m\u001b[0;34m)\u001b[0m\u001b[0;34m:\u001b[0m\u001b[0;34m\u001b[0m\u001b[0;34m\u001b[0m\u001b[0m\n\u001b[1;32m    584\u001b[0m       \u001b[0;32mwith\u001b[0m \u001b[0mops\u001b[0m\u001b[0;34m.\u001b[0m\u001b[0mdevice\u001b[0m\u001b[0;34m(\u001b[0m\u001b[0mdevice\u001b[0m\u001b[0;34m)\u001b[0m\u001b[0;34m:\u001b[0m\u001b[0;34m\u001b[0m\u001b[0;34m\u001b[0m\u001b[0m\n\u001b[0;32m--> 585\u001b[0;31m         \u001b[0mresult\u001b[0m\u001b[0;34m.\u001b[0m\u001b[0mappend\u001b[0m\u001b[0;34m(\u001b[0m\u001b[0mself\u001b[0m\u001b[0;34m.\u001b[0m\u001b[0m_device_iterators\u001b[0m\u001b[0;34m[\u001b[0m\u001b[0mi\u001b[0m\u001b[0;34m]\u001b[0m\u001b[0;34m.\u001b[0m\u001b[0mget_next\u001b[0m\u001b[0;34m(\u001b[0m\u001b[0;34m)\u001b[0m\u001b[0;34m)\u001b[0m\u001b[0;34m\u001b[0m\u001b[0;34m\u001b[0m\u001b[0m\n\u001b[0m\u001b[1;32m    586\u001b[0m     \u001b[0;32mreturn\u001b[0m \u001b[0mresult\u001b[0m\u001b[0;34m\u001b[0m\u001b[0;34m\u001b[0m\u001b[0m\n\u001b[1;32m    587\u001b[0m \u001b[0;34m\u001b[0m\u001b[0m\n",
            "\u001b[0;32m/usr/local/lib/python3.7/dist-packages/tensorflow/python/data/ops/iterator_ops.py\u001b[0m in \u001b[0;36mget_next\u001b[0;34m(self)\u001b[0m\n\u001b[1;32m    812\u001b[0m \u001b[0;34m\u001b[0m\u001b[0m\n\u001b[1;32m    813\u001b[0m   \u001b[0;32mdef\u001b[0m \u001b[0mget_next\u001b[0m\u001b[0;34m(\u001b[0m\u001b[0mself\u001b[0m\u001b[0;34m)\u001b[0m\u001b[0;34m:\u001b[0m\u001b[0;34m\u001b[0m\u001b[0;34m\u001b[0m\u001b[0m\n\u001b[0;32m--> 814\u001b[0;31m     \u001b[0;32mreturn\u001b[0m \u001b[0mself\u001b[0m\u001b[0;34m.\u001b[0m\u001b[0m_next_internal\u001b[0m\u001b[0;34m(\u001b[0m\u001b[0;34m)\u001b[0m\u001b[0;34m\u001b[0m\u001b[0;34m\u001b[0m\u001b[0m\n\u001b[0m\u001b[1;32m    815\u001b[0m \u001b[0;34m\u001b[0m\u001b[0m\n\u001b[1;32m    816\u001b[0m   \u001b[0;32mdef\u001b[0m \u001b[0mget_next_as_optional\u001b[0m\u001b[0;34m(\u001b[0m\u001b[0mself\u001b[0m\u001b[0;34m)\u001b[0m\u001b[0;34m:\u001b[0m\u001b[0;34m\u001b[0m\u001b[0;34m\u001b[0m\u001b[0m\n",
            "\u001b[0;32m/usr/local/lib/python3.7/dist-packages/tensorflow/python/data/ops/iterator_ops.py\u001b[0m in \u001b[0;36m_next_internal\u001b[0;34m(self)\u001b[0m\n\u001b[1;32m    751\u001b[0m         \u001b[0;32mreturn\u001b[0m \u001b[0mself\u001b[0m\u001b[0;34m.\u001b[0m\u001b[0m_element_spec\u001b[0m\u001b[0;34m.\u001b[0m\u001b[0m_from_compatible_tensor_list\u001b[0m\u001b[0;34m(\u001b[0m\u001b[0mret\u001b[0m\u001b[0;34m)\u001b[0m  \u001b[0;31m# pylint: disable=protected-access\u001b[0m\u001b[0;34m\u001b[0m\u001b[0;34m\u001b[0m\u001b[0m\n\u001b[1;32m    752\u001b[0m       \u001b[0;32mexcept\u001b[0m \u001b[0mAttributeError\u001b[0m\u001b[0;34m:\u001b[0m\u001b[0;34m\u001b[0m\u001b[0;34m\u001b[0m\u001b[0m\n\u001b[0;32m--> 753\u001b[0;31m         \u001b[0;32mreturn\u001b[0m \u001b[0mstructure\u001b[0m\u001b[0;34m.\u001b[0m\u001b[0mfrom_compatible_tensor_list\u001b[0m\u001b[0;34m(\u001b[0m\u001b[0mself\u001b[0m\u001b[0;34m.\u001b[0m\u001b[0m_element_spec\u001b[0m\u001b[0;34m,\u001b[0m \u001b[0mret\u001b[0m\u001b[0;34m)\u001b[0m\u001b[0;34m\u001b[0m\u001b[0;34m\u001b[0m\u001b[0m\n\u001b[0m\u001b[1;32m    754\u001b[0m \u001b[0;34m\u001b[0m\u001b[0m\n\u001b[1;32m    755\u001b[0m   \u001b[0;34m@\u001b[0m\u001b[0mproperty\u001b[0m\u001b[0;34m\u001b[0m\u001b[0;34m\u001b[0m\u001b[0m\n",
            "\u001b[0;32m/usr/lib/python3.7/contextlib.py\u001b[0m in \u001b[0;36m__exit__\u001b[0;34m(self, type, value, traceback)\u001b[0m\n\u001b[1;32m    117\u001b[0m         \u001b[0;32mif\u001b[0m \u001b[0mtype\u001b[0m \u001b[0;32mis\u001b[0m \u001b[0;32mNone\u001b[0m\u001b[0;34m:\u001b[0m\u001b[0;34m\u001b[0m\u001b[0;34m\u001b[0m\u001b[0m\n\u001b[1;32m    118\u001b[0m             \u001b[0;32mtry\u001b[0m\u001b[0;34m:\u001b[0m\u001b[0;34m\u001b[0m\u001b[0;34m\u001b[0m\u001b[0m\n\u001b[0;32m--> 119\u001b[0;31m                 \u001b[0mnext\u001b[0m\u001b[0;34m(\u001b[0m\u001b[0mself\u001b[0m\u001b[0;34m.\u001b[0m\u001b[0mgen\u001b[0m\u001b[0;34m)\u001b[0m\u001b[0;34m\u001b[0m\u001b[0;34m\u001b[0m\u001b[0m\n\u001b[0m\u001b[1;32m    120\u001b[0m             \u001b[0;32mexcept\u001b[0m \u001b[0mStopIteration\u001b[0m\u001b[0;34m:\u001b[0m\u001b[0;34m\u001b[0m\u001b[0;34m\u001b[0m\u001b[0m\n\u001b[1;32m    121\u001b[0m                 \u001b[0;32mreturn\u001b[0m \u001b[0;32mFalse\u001b[0m\u001b[0;34m\u001b[0m\u001b[0;34m\u001b[0m\u001b[0m\n",
            "\u001b[0;32m/usr/local/lib/python3.7/dist-packages/tensorflow/python/eager/context.py\u001b[0m in \u001b[0;36mexecution_mode\u001b[0;34m(mode)\u001b[0m\n\u001b[1;32m   2193\u001b[0m     \u001b[0;32mfinally\u001b[0m\u001b[0;34m:\u001b[0m\u001b[0;34m\u001b[0m\u001b[0;34m\u001b[0m\u001b[0m\n\u001b[1;32m   2194\u001b[0m       \u001b[0mctx\u001b[0m\u001b[0;34m.\u001b[0m\u001b[0mexecutor\u001b[0m \u001b[0;34m=\u001b[0m \u001b[0mexecutor_old\u001b[0m\u001b[0;34m\u001b[0m\u001b[0;34m\u001b[0m\u001b[0m\n\u001b[0;32m-> 2195\u001b[0;31m       \u001b[0mexecutor_new\u001b[0m\u001b[0;34m.\u001b[0m\u001b[0mwait\u001b[0m\u001b[0;34m(\u001b[0m\u001b[0;34m)\u001b[0m\u001b[0;34m\u001b[0m\u001b[0;34m\u001b[0m\u001b[0m\n\u001b[0m\u001b[1;32m   2196\u001b[0m \u001b[0;34m\u001b[0m\u001b[0m\n\u001b[1;32m   2197\u001b[0m \u001b[0;34m\u001b[0m\u001b[0m\n",
            "\u001b[0;32m/usr/local/lib/python3.7/dist-packages/tensorflow/python/eager/executor.py\u001b[0m in \u001b[0;36mwait\u001b[0;34m(self)\u001b[0m\n\u001b[1;32m     67\u001b[0m   \u001b[0;32mdef\u001b[0m \u001b[0mwait\u001b[0m\u001b[0;34m(\u001b[0m\u001b[0mself\u001b[0m\u001b[0;34m)\u001b[0m\u001b[0;34m:\u001b[0m\u001b[0;34m\u001b[0m\u001b[0;34m\u001b[0m\u001b[0m\n\u001b[1;32m     68\u001b[0m     \u001b[0;34m\"\"\"Waits for ops dispatched in this executor to finish.\"\"\"\u001b[0m\u001b[0;34m\u001b[0m\u001b[0;34m\u001b[0m\u001b[0m\n\u001b[0;32m---> 69\u001b[0;31m     \u001b[0mpywrap_tfe\u001b[0m\u001b[0;34m.\u001b[0m\u001b[0mTFE_ExecutorWaitForAllPendingNodes\u001b[0m\u001b[0;34m(\u001b[0m\u001b[0mself\u001b[0m\u001b[0;34m.\u001b[0m\u001b[0m_handle\u001b[0m\u001b[0;34m)\u001b[0m\u001b[0;34m\u001b[0m\u001b[0;34m\u001b[0m\u001b[0m\n\u001b[0m\u001b[1;32m     70\u001b[0m \u001b[0;34m\u001b[0m\u001b[0m\n\u001b[1;32m     71\u001b[0m   \u001b[0;32mdef\u001b[0m \u001b[0mclear_error\u001b[0m\u001b[0;34m(\u001b[0m\u001b[0mself\u001b[0m\u001b[0;34m)\u001b[0m\u001b[0;34m:\u001b[0m\u001b[0;34m\u001b[0m\u001b[0;34m\u001b[0m\u001b[0m\n",
            "\u001b[0;31mKeyboardInterrupt\u001b[0m: "
          ]
        }
      ]
    },
    {
      "cell_type": "markdown",
      "metadata": {
        "id": "tDTZQvASop9F"
      },
      "source": [
        "# Save CHKPT to GCS"
      ]
    }
  ]
}