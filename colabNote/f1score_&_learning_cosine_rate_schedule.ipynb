{
  "nbformat": 4,
  "nbformat_minor": 0,
  "metadata": {
    "colab": {
      "name": "f1score & learning cosine rate schedule.ipynb",
      "provenance": [],
      "authorship_tag": "ABX9TyPqiI1M6FqpjBuxgxAkFhLi",
      "include_colab_link": true
    },
    "kernelspec": {
      "name": "python3",
      "display_name": "Python 3"
    },
    "language_info": {
      "name": "python"
    }
  },
  "cells": [
    {
      "cell_type": "markdown",
      "metadata": {
        "id": "view-in-github",
        "colab_type": "text"
      },
      "source": [
        "<a href=\"https://colab.research.google.com/github/mrzhuzhe/pepper/blob/master/colabNote/f1score_%26_learning_cosine_rate_schedule.ipynb\" target=\"_parent\"><img src=\"https://colab.research.google.com/assets/colab-badge.svg\" alt=\"Open In Colab\"/></a>"
      ]
    },
    {
      "cell_type": "markdown",
      "metadata": {
        "id": "-oZILiI0ZgE_"
      },
      "source": [
        "#F1score"
      ]
    },
    {
      "cell_type": "code",
      "metadata": {
        "id": "hRbiHAGYHjL2"
      },
      "source": [
        "from sklearn.metrics import f1_score"
      ],
      "execution_count": null,
      "outputs": []
    },
    {
      "cell_type": "code",
      "metadata": {
        "colab": {
          "base_uri": "https://localhost:8080/"
        },
        "id": "QBPlvKehHvZu",
        "outputId": "046ec0e7-1b3e-4b39-c921-8232e036e433"
      },
      "source": [
        "f1_score([1,0,0], [1,0,0], average=None)"
      ],
      "execution_count": null,
      "outputs": [
        {
          "output_type": "execute_result",
          "data": {
            "text/plain": [
              "array([1., 1.])"
            ]
          },
          "metadata": {},
          "execution_count": 21
        }
      ]
    },
    {
      "cell_type": "markdown",
      "metadata": {
        "id": "iQCV9F7gZmR2"
      },
      "source": [
        "# Cross Entropy"
      ]
    },
    {
      "cell_type": "code",
      "metadata": {
        "id": "71bV-JswIiKp"
      },
      "source": [
        "import torch\n",
        "import torch.nn as nn\n",
        "import torch.nn.functional as F\n",
        "import numpy as np"
      ],
      "execution_count": null,
      "outputs": []
    },
    {
      "cell_type": "code",
      "metadata": {
        "colab": {
          "base_uri": "https://localhost:8080/"
        },
        "id": "qS9FXHkMpJZP",
        "outputId": "d9691c7c-fa7d-400b-abc4-4a56e41a9ffd"
      },
      "source": [
        "np.array([0,1]).argsort(-1)[::-1]"
      ],
      "execution_count": null,
      "outputs": [
        {
          "output_type": "execute_result",
          "data": {
            "text/plain": [
              "array([1, 0])"
            ]
          },
          "metadata": {},
          "execution_count": 21
        }
      ]
    },
    {
      "cell_type": "code",
      "metadata": {
        "id": "sPimGB3pp5Bz"
      },
      "source": [
        "input = torch.randn(3, 5, requires_grad=True)\n",
        "target = torch.randint(5, (3,), dtype=torch.int64)\n",
        "loss = F.cross_entropy(input, target)"
      ],
      "execution_count": null,
      "outputs": []
    },
    {
      "cell_type": "code",
      "metadata": {
        "colab": {
          "base_uri": "https://localhost:8080/"
        },
        "id": "6Nyq-n-EmLga",
        "outputId": "396e373d-625f-46f0-93b7-35b9ed0a90ec"
      },
      "source": [
        "input"
      ],
      "execution_count": null,
      "outputs": [
        {
          "output_type": "execute_result",
          "data": {
            "text/plain": [
              "tensor([[ 1.5320,  1.2220,  0.6095, -1.3303,  0.5052],\n",
              "        [-0.7996,  0.5411, -1.9048, -0.8340,  1.9317],\n",
              "        [ 0.4908, -0.1125, -0.4168,  1.4466, -0.9091]], requires_grad=True)"
            ]
          },
          "metadata": {},
          "execution_count": 3
        }
      ]
    },
    {
      "cell_type": "code",
      "metadata": {
        "colab": {
          "base_uri": "https://localhost:8080/"
        },
        "id": "EhK3FUPBmm8P",
        "outputId": "028daee0-e464-45e5-95eb-4cc28c483817"
      },
      "source": [
        "input.detach().numpy().argsort(-1)[:, ::-1]"
      ],
      "execution_count": null,
      "outputs": [
        {
          "output_type": "execute_result",
          "data": {
            "text/plain": [
              "array([[0, 1, 2, 4, 3],\n",
              "       [4, 1, 0, 3, 2],\n",
              "       [3, 0, 1, 2, 4]])"
            ]
          },
          "metadata": {},
          "execution_count": 17
        }
      ]
    },
    {
      "cell_type": "code",
      "metadata": {
        "colab": {
          "base_uri": "https://localhost:8080/"
        },
        "id": "z-lbQZUaqGhG",
        "outputId": "31ff4414-3649-41fd-b056-72e2a9658c92"
      },
      "source": [
        "target"
      ],
      "execution_count": null,
      "outputs": [
        {
          "output_type": "execute_result",
          "data": {
            "text/plain": [
              "tensor([3, 3, 2])"
            ]
          },
          "metadata": {},
          "execution_count": 6
        }
      ]
    },
    {
      "cell_type": "markdown",
      "metadata": {
        "id": "P1HsE3WUZrmo"
      },
      "source": [
        "# Convert probility to one hot"
      ]
    },
    {
      "cell_type": "code",
      "metadata": {
        "colab": {
          "base_uri": "https://localhost:8080/"
        },
        "id": "9reBkV_LZEug",
        "outputId": "f44d6a9c-014a-44ea-9820-d5fe154f9d4f"
      },
      "source": [
        "probability = np.random.random_sample((472, 6))\n",
        "np.argmax(probability, 1).shape"
      ],
      "execution_count": null,
      "outputs": [
        {
          "output_type": "execute_result",
          "data": {
            "text/plain": [
              "(472,)"
            ]
          },
          "metadata": {},
          "execution_count": 5
        }
      ]
    },
    {
      "cell_type": "code",
      "metadata": {
        "id": "Mn_qOlyxYfrt"
      },
      "source": [
        "oneHots = np.zeros((472, 6))\n",
        "oneHots[6, np.argmax(probability, 1)] = 1  "
      ],
      "execution_count": null,
      "outputs": []
    },
    {
      "cell_type": "code",
      "metadata": {
        "colab": {
          "base_uri": "https://localhost:8080/"
        },
        "id": "uIHzavJ_ZrhO",
        "outputId": "7207b80b-64cc-4ebe-bba6-406f33db7849"
      },
      "source": [
        "oneHots"
      ],
      "execution_count": null,
      "outputs": [
        {
          "output_type": "execute_result",
          "data": {
            "text/plain": [
              "array([[0., 0., 0., 0., 0., 0.],\n",
              "       [0., 0., 0., 0., 0., 0.],\n",
              "       [0., 0., 0., 0., 0., 0.],\n",
              "       ...,\n",
              "       [0., 0., 0., 0., 0., 0.],\n",
              "       [0., 0., 0., 0., 0., 0.],\n",
              "       [0., 0., 0., 0., 0., 0.]])"
            ]
          },
          "metadata": {},
          "execution_count": 34
        }
      ]
    },
    {
      "cell_type": "code",
      "metadata": {
        "colab": {
          "base_uri": "https://localhost:8080/"
        },
        "id": "rJ886WdhIqnW",
        "outputId": "89e456cd-5cbb-437e-a1c3-63eaceef04b3"
      },
      "source": [
        "m = nn.Sigmoid()\n",
        "input = torch.randn(2, 3)\n",
        "output = m(input)\n",
        "input, output"
      ],
      "execution_count": null,
      "outputs": [
        {
          "output_type": "execute_result",
          "data": {
            "text/plain": [
              "(tensor([[-0.3505,  1.4295,  0.4421],\n",
              "         [ 0.1126,  1.4978, -1.3529]]), tensor([[0.4133, 0.8068, 0.6088],\n",
              "         [0.5281, 0.8173, 0.2054]]))"
            ]
          },
          "metadata": {},
          "execution_count": 22
        }
      ]
    },
    {
      "cell_type": "code",
      "metadata": {
        "colab": {
          "base_uri": "https://localhost:8080/"
        },
        "id": "7g5omTeZLFlS",
        "outputId": "d7a2fee4-1a5a-4a0c-f09a-c31926006ba8"
      },
      "source": [
        "F.one_hot(torch.arange(0, 5) % 3)"
      ],
      "execution_count": null,
      "outputs": [
        {
          "output_type": "execute_result",
          "data": {
            "text/plain": [
              "tensor([[1, 0, 0],\n",
              "        [0, 1, 0],\n",
              "        [0, 0, 1],\n",
              "        [1, 0, 0],\n",
              "        [0, 1, 0]])"
            ]
          },
          "metadata": {},
          "execution_count": 37
        }
      ]
    },
    {
      "cell_type": "code",
      "metadata": {
        "colab": {
          "base_uri": "https://localhost:8080/"
        },
        "id": "Zx-trdS0MSa_",
        "outputId": "4c8fe931-27aa-456a-89b0-ede201a0cb20"
      },
      "source": [
        "F.one_hot(torch.argmax(output, 1), num_classes=6)"
      ],
      "execution_count": null,
      "outputs": [
        {
          "output_type": "execute_result",
          "data": {
            "text/plain": [
              "tensor([[0, 1, 0, 0, 0, 0],\n",
              "        [0, 1, 0, 0, 0, 0]])"
            ]
          },
          "metadata": {},
          "execution_count": 62
        }
      ]
    },
    {
      "cell_type": "code",
      "metadata": {
        "colab": {
          "base_uri": "https://localhost:8080/"
        },
        "id": "9fK8uGN5JwLh",
        "outputId": "d075589f-52ce-4c0f-fba1-80e0073579df"
      },
      "source": [
        "probs = torch.randn(21, 512, 512)\n",
        "max_idx = torch.argmax(probs, 0, keepdim=True)\n",
        "one_hot = torch.FloatTensor(probs.shape)\n",
        "one_hot.zero_()\n",
        "one_hot.scatter_(0, max_idx, 1)"
      ],
      "execution_count": null,
      "outputs": [
        {
          "output_type": "execute_result",
          "data": {
            "text/plain": [
              "tensor([[[0., 0., 0.,  ..., 1., 0., 0.],\n",
              "         [0., 0., 0.,  ..., 0., 0., 0.],\n",
              "         [0., 0., 0.,  ..., 0., 0., 0.],\n",
              "         ...,\n",
              "         [1., 0., 0.,  ..., 1., 0., 0.],\n",
              "         [0., 0., 0.,  ..., 0., 0., 0.],\n",
              "         [0., 0., 0.,  ..., 0., 0., 0.]],\n",
              "\n",
              "        [[0., 0., 0.,  ..., 0., 1., 1.],\n",
              "         [0., 0., 0.,  ..., 0., 0., 0.],\n",
              "         [0., 0., 0.,  ..., 0., 0., 0.],\n",
              "         ...,\n",
              "         [0., 0., 0.,  ..., 0., 1., 0.],\n",
              "         [0., 0., 0.,  ..., 0., 0., 0.],\n",
              "         [0., 0., 0.,  ..., 0., 0., 0.]],\n",
              "\n",
              "        [[0., 1., 0.,  ..., 0., 0., 0.],\n",
              "         [0., 0., 0.,  ..., 0., 0., 0.],\n",
              "         [0., 0., 0.,  ..., 0., 0., 0.],\n",
              "         ...,\n",
              "         [0., 0., 0.,  ..., 0., 0., 0.],\n",
              "         [0., 0., 0.,  ..., 0., 0., 0.],\n",
              "         [0., 0., 0.,  ..., 1., 0., 0.]],\n",
              "\n",
              "        ...,\n",
              "\n",
              "        [[0., 0., 0.,  ..., 0., 0., 0.],\n",
              "         [0., 0., 0.,  ..., 0., 0., 0.],\n",
              "         [0., 0., 0.,  ..., 0., 0., 0.],\n",
              "         ...,\n",
              "         [0., 0., 0.,  ..., 0., 0., 0.],\n",
              "         [0., 0., 0.,  ..., 0., 0., 0.],\n",
              "         [0., 0., 0.,  ..., 0., 0., 1.]],\n",
              "\n",
              "        [[0., 0., 0.,  ..., 0., 0., 0.],\n",
              "         [0., 0., 0.,  ..., 0., 0., 0.],\n",
              "         [0., 0., 0.,  ..., 0., 0., 0.],\n",
              "         ...,\n",
              "         [0., 0., 0.,  ..., 0., 0., 1.],\n",
              "         [0., 0., 0.,  ..., 0., 1., 0.],\n",
              "         [0., 0., 0.,  ..., 0., 0., 0.]],\n",
              "\n",
              "        [[0., 0., 0.,  ..., 0., 0., 0.],\n",
              "         [0., 0., 0.,  ..., 1., 0., 0.],\n",
              "         [0., 0., 0.,  ..., 0., 0., 0.],\n",
              "         ...,\n",
              "         [0., 0., 0.,  ..., 0., 0., 0.],\n",
              "         [0., 0., 0.,  ..., 0., 0., 0.],\n",
              "         [0., 0., 0.,  ..., 0., 0., 0.]]])"
            ]
          },
          "metadata": {},
          "execution_count": 43
        }
      ]
    },
    {
      "cell_type": "markdown",
      "metadata": {
        "id": "xGXKML4QZcom"
      },
      "source": [
        "# CosineLRScheduler learning rate"
      ]
    },
    {
      "cell_type": "code",
      "metadata": {
        "id": "DMHY_Dw4ATej"
      },
      "source": [
        "import torch\n",
        "import torch.nn as nn\n",
        "import torch.nn.functional as F\n",
        "\n",
        "import torch.optim as optim\n",
        "from torch.optim import Adam\n",
        "\n",
        "from torch.optim.lr_scheduler import CosineAnnealingWarmRestarts "
      ],
      "execution_count": 1,
      "outputs": []
    },
    {
      "cell_type": "code",
      "metadata": {
        "colab": {
          "base_uri": "https://localhost:8080/"
        },
        "id": "j64xJFwYEMNY",
        "outputId": "d8070e3b-4088-4ef4-999f-374593fb2da4"
      },
      "source": [
        "!pip install timm"
      ],
      "execution_count": 5,
      "outputs": [
        {
          "output_type": "stream",
          "name": "stdout",
          "text": [
            "Collecting timm\n",
            "  Downloading timm-0.4.12-py3-none-any.whl (376 kB)\n",
            "\u001b[?25l\r\u001b[K     |▉                               | 10 kB 23.7 MB/s eta 0:00:01\r\u001b[K     |█▊                              | 20 kB 28.3 MB/s eta 0:00:01\r\u001b[K     |██▋                             | 30 kB 29.2 MB/s eta 0:00:01\r\u001b[K     |███▌                            | 40 kB 19.9 MB/s eta 0:00:01\r\u001b[K     |████▍                           | 51 kB 9.8 MB/s eta 0:00:01\r\u001b[K     |█████▏                          | 61 kB 8.1 MB/s eta 0:00:01\r\u001b[K     |██████                          | 71 kB 8.9 MB/s eta 0:00:01\r\u001b[K     |███████                         | 81 kB 10.0 MB/s eta 0:00:01\r\u001b[K     |███████▉                        | 92 kB 10.9 MB/s eta 0:00:01\r\u001b[K     |████████▊                       | 102 kB 8.7 MB/s eta 0:00:01\r\u001b[K     |█████████▋                      | 112 kB 8.7 MB/s eta 0:00:01\r\u001b[K     |██████████▍                     | 122 kB 8.7 MB/s eta 0:00:01\r\u001b[K     |███████████▎                    | 133 kB 8.7 MB/s eta 0:00:01\r\u001b[K     |████████████▏                   | 143 kB 8.7 MB/s eta 0:00:01\r\u001b[K     |█████████████                   | 153 kB 8.7 MB/s eta 0:00:01\r\u001b[K     |██████████████                  | 163 kB 8.7 MB/s eta 0:00:01\r\u001b[K     |██████████████▊                 | 174 kB 8.7 MB/s eta 0:00:01\r\u001b[K     |███████████████▋                | 184 kB 8.7 MB/s eta 0:00:01\r\u001b[K     |████████████████▌               | 194 kB 8.7 MB/s eta 0:00:01\r\u001b[K     |█████████████████▍              | 204 kB 8.7 MB/s eta 0:00:01\r\u001b[K     |██████████████████▎             | 215 kB 8.7 MB/s eta 0:00:01\r\u001b[K     |███████████████████▏            | 225 kB 8.7 MB/s eta 0:00:01\r\u001b[K     |████████████████████            | 235 kB 8.7 MB/s eta 0:00:01\r\u001b[K     |████████████████████▉           | 245 kB 8.7 MB/s eta 0:00:01\r\u001b[K     |█████████████████████▊          | 256 kB 8.7 MB/s eta 0:00:01\r\u001b[K     |██████████████████████▋         | 266 kB 8.7 MB/s eta 0:00:01\r\u001b[K     |███████████████████████▌        | 276 kB 8.7 MB/s eta 0:00:01\r\u001b[K     |████████████████████████▍       | 286 kB 8.7 MB/s eta 0:00:01\r\u001b[K     |█████████████████████████▏      | 296 kB 8.7 MB/s eta 0:00:01\r\u001b[K     |██████████████████████████      | 307 kB 8.7 MB/s eta 0:00:01\r\u001b[K     |███████████████████████████     | 317 kB 8.7 MB/s eta 0:00:01\r\u001b[K     |███████████████████████████▉    | 327 kB 8.7 MB/s eta 0:00:01\r\u001b[K     |████████████████████████████▊   | 337 kB 8.7 MB/s eta 0:00:01\r\u001b[K     |█████████████████████████████▌  | 348 kB 8.7 MB/s eta 0:00:01\r\u001b[K     |██████████████████████████████▍ | 358 kB 8.7 MB/s eta 0:00:01\r\u001b[K     |███████████████████████████████▎| 368 kB 8.7 MB/s eta 0:00:01\r\u001b[K     |████████████████████████████████| 376 kB 8.7 MB/s \n",
            "\u001b[?25hRequirement already satisfied: torch>=1.4 in /usr/local/lib/python3.7/dist-packages (from timm) (1.10.0+cu111)\n",
            "Requirement already satisfied: torchvision in /usr/local/lib/python3.7/dist-packages (from timm) (0.11.1+cu111)\n",
            "Requirement already satisfied: typing-extensions in /usr/local/lib/python3.7/dist-packages (from torch>=1.4->timm) (3.10.0.2)\n",
            "Requirement already satisfied: pillow!=8.3.0,>=5.3.0 in /usr/local/lib/python3.7/dist-packages (from torchvision->timm) (7.1.2)\n",
            "Requirement already satisfied: numpy in /usr/local/lib/python3.7/dist-packages (from torchvision->timm) (1.19.5)\n",
            "Installing collected packages: timm\n",
            "Successfully installed timm-0.4.12\n"
          ]
        }
      ]
    },
    {
      "cell_type": "code",
      "metadata": {
        "id": "euOrIFGUEOzZ"
      },
      "source": [
        "import timm\n",
        "from timm.models.swin_transformer import *"
      ],
      "execution_count": 6,
      "outputs": []
    },
    {
      "cell_type": "code",
      "metadata": {
        "id": "wdurn0LmOrKN"
      },
      "source": [
        "from timm.scheduler.cosine_lr import CosineLRScheduler"
      ],
      "execution_count": 51,
      "outputs": []
    },
    {
      "cell_type": "code",
      "metadata": {
        "id": "KRiWlsXMEFWw"
      },
      "source": [
        "num_label = 6\n",
        "class Net(nn.Module):\n",
        "    def __init__(self):\n",
        "        super(Net, self).__init__()\n",
        "\n",
        "        #self.swin = swin_base_patch4_window12_384_in22k(pretrained=True)\n",
        "        e = swin_tiny_patch4_window7_224(pretrained=True, drop_path=0.2)\n",
        "        self.patch_embed = e.patch_embed\n",
        "        self.pos_drop = e.pos_drop\n",
        "        self.layers = e.layers\n",
        "        self.norm = e.norm\n",
        "        self.avgpool = e.avgpool\n",
        "        \n",
        "        self.logit = nn.Linear(768, num_label)\n",
        "        \n",
        "\n",
        "\n",
        "    # @torch.cuda.amp.autocast()\n",
        "    def forward(self, image):\n",
        "        batch_size = len(image)\n",
        "        x = 2*image-1     ; #print('input ',   x.shape)\n",
        "\n",
        "        x = self.patch_embed(x)\n",
        "        x = self.pos_drop(x)\n",
        "        x = self.layers(x)\n",
        "        x = self.norm(x)  # B L C\n",
        "        # TODO ？？？？\n",
        "        x = self.avgpool(x.transpose(1, 2))  # B C 1\n",
        "        x = torch.flatten(x, 1)\n",
        "        x = F.dropout(x, 0.5, training=self.training)\n",
        "        logit = self.logit(x)\n",
        "        return logit"
      ],
      "execution_count": 10,
      "outputs": []
    },
    {
      "cell_type": "code",
      "metadata": {
        "id": "dpidfB0XEwEd"
      },
      "source": [
        "def get_learning_rate(optimizer):\n",
        "    lr=[]\n",
        "    for param_group in optimizer.param_groups:\n",
        "        lr +=[ param_group['lr'] ]\n",
        "\n",
        "    assert(len(lr)==1) #we support only one param_group\n",
        "    lr = lr[0]\n",
        "\n",
        "    return lr"
      ],
      "execution_count": 12,
      "outputs": []
    },
    {
      "cell_type": "code",
      "metadata": {
        "id": "WdutuX3F_51N"
      },
      "source": [
        "net = Net()\n",
        "optimizer = Adam(net.parameters(), lr=5e-4)\n",
        "T_0 = 20\n",
        "eta_min = 1e-4\n",
        "lrs = []\n",
        "scheduler = lr_scheduler = CosineLRScheduler(\n",
        "            optimizer,\n",
        "            t_initial=20*1000,\n",
        "            t_mul=1.,\n",
        "            lr_min=5e-6,\n",
        "            warmup_lr_init=5e-7,\n",
        "            warmup_t=1*1000,\n",
        "            cycle_limit=1,\n",
        "            t_in_epochs=False,\n",
        "        )\n",
        "#iters = len(dataloader)\n",
        "for epoch in range(20):\n",
        "     #for i, sample in enumerate(dataloader):\n",
        "         #inputs, labels = sample['inputs'], sample['labels']\n",
        "         #optimizer.zero_grad()\n",
        "         #outputs = net(inputs)\n",
        "         #loss = criterion(outputs, labels)\n",
        "         #loss.backward()\n",
        "    for i in range(1000):\n",
        "         optimizer.step()\n",
        "         rate = get_learning_rate(optimizer)\n",
        "         lrs.append(rate)\n",
        "         scheduler.step_update(epoch*1000 + i)"
      ],
      "execution_count": 64,
      "outputs": []
    },
    {
      "cell_type": "code",
      "metadata": {
        "id": "4CWcp-1-FDxQ"
      },
      "source": [
        "import matplotlib.pyplot as plt"
      ],
      "execution_count": 17,
      "outputs": []
    },
    {
      "cell_type": "code",
      "metadata": {
        "colab": {
          "base_uri": "https://localhost:8080/",
          "height": 405
        },
        "id": "j4hwj2FZFI8x",
        "outputId": "9678d62d-d9f7-4264-ba39-1921af0cd611"
      },
      "source": [
        "plt.figure(figsize=(8, 6))\n",
        "plt.plot(range(20*1000), lrs[:20*1000])\n",
        "plt.xlabel('epoch')\n",
        "plt.ylabel('lr')"
      ],
      "execution_count": 65,
      "outputs": [
        {
          "output_type": "execute_result",
          "data": {
            "text/plain": [
              "Text(0, 0.5, 'lr')"
            ]
          },
          "metadata": {},
          "execution_count": 65
        },
        {
          "output_type": "display_data",
          "data": {
            "image/png": "[encoded data removed]",
            "text/plain": [
              "<Figure size 576x432 with 1 Axes>"
            ]
          },
          "metadata": {
            "needs_background": "light"
          }
        }
      ]
    }
  ]
}