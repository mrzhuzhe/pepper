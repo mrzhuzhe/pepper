{
  "nbformat": 4,
  "nbformat_minor": 0,
  "metadata": {
    "colab": {
      "name": "tf-layers.ipynb",
      "provenance": [],
      "authorship_tag": "ABX9TyPTQuqzrcBItTLNp1rcwTrx",
      "include_colab_link": true
    },
    "kernelspec": {
      "name": "python3",
      "display_name": "Python 3"
    },
    "language_info": {
      "name": "python"
    }
  },
  "cells": [
    {
      "cell_type": "markdown",
      "metadata": {
        "id": "view-in-github",
        "colab_type": "text"
      },
      "source": [
        "<a href=\"https://colab.research.google.com/github/mrzhuzhe/pepper/blob/master/tf_layers.ipynb\" target=\"_parent\"><img src=\"https://colab.research.google.com/assets/colab-badge.svg\" alt=\"Open In Colab\"/></a>"
      ]
    },
    {
      "cell_type": "code",
      "metadata": {
        "id": "qjuuU2ryR_Ei"
      },
      "source": [
        "import tensorflow as tf"
      ],
      "execution_count": 1,
      "outputs": []
    },
    {
      "cell_type": "code",
      "metadata": {
        "id": "uLrVaXCvS_vK"
      },
      "source": [
        "from keras.layers.advanced_activations import LeakyReLU\n",
        "from keras.layers import Conv2D,MaxPooling2D"
      ],
      "execution_count": 11,
      "outputs": []
    },
    {
      "cell_type": "markdown",
      "metadata": {
        "id": "a7EJjYMYTSUM"
      },
      "source": [
        "# Conv2D"
      ]
    },
    {
      "cell_type": "code",
      "metadata": {
        "colab": {
          "base_uri": "https://localhost:8080/"
        },
        "id": "iaAh0s3vSFPf",
        "outputId": "6160f3e3-225f-43eb-db99-b6526eec05b4"
      },
      "source": [
        "# With extended batch shape [4, 7]:  \n",
        "input_shape = (4, 30, 30, 3)\n",
        "x = tf.random.normal(input_shape)\n",
        "y = tf.keras.layers.Conv2D(20, 4, activation='relu', input_shape=input_shape[1:])(x)\n",
        "print(y.shape)"
      ],
      "execution_count": 6,
      "outputs": [
        {
          "output_type": "stream",
          "text": [
            "(4, 27, 27, 20)\n"
          ],
          "name": "stdout"
        }
      ]
    },
    {
      "cell_type": "code",
      "metadata": {
        "colab": {
          "base_uri": "https://localhost:8080/"
        },
        "id": "qH9vkywUSp-m",
        "outputId": "6d2a9498-7775-4326-9959-f1fde62e9bdc"
      },
      "source": [
        "z = tf.keras.layers.Conv2D(12, 4, activation='relu', input_shape=input_shape[1:])(y)\n",
        "print(z.shape)"
      ],
      "execution_count": 7,
      "outputs": [
        {
          "output_type": "stream",
          "text": [
            "(4, 24, 24, 12)\n"
          ],
          "name": "stdout"
        }
      ]
    },
    {
      "cell_type": "markdown",
      "metadata": {
        "id": "a8FSXLaSTPWI"
      },
      "source": [
        "# Relu layer"
      ]
    },
    {
      "cell_type": "code",
      "metadata": {
        "colab": {
          "base_uri": "https://localhost:8080/"
        },
        "id": "ovPJfciITJvC",
        "outputId": "3041a789-76b2-46b1-8295-7abfeeb8cf71"
      },
      "source": [
        "w = LeakyReLU(alpha=0.1)(z)\n",
        "print(w.shape)"
      ],
      "execution_count": 10,
      "outputs": [
        {
          "output_type": "stream",
          "text": [
            "(4, 24, 24, 12)\n"
          ],
          "name": "stdout"
        }
      ]
    },
    {
      "cell_type": "markdown",
      "metadata": {
        "id": "aE0iwQ7zTfCp"
      },
      "source": [
        "# Max pooling"
      ]
    },
    {
      "cell_type": "code",
      "metadata": {
        "colab": {
          "base_uri": "https://localhost:8080/"
        },
        "id": "FHEUmxn3Tgrp",
        "outputId": "9dfdadd2-cd97-4da8-fb3e-b588bc9354e7"
      },
      "source": [
        "n = MaxPooling2D(pool_size=(2,2), strides=2)(w)\n",
        "print(n.shape)"
      ],
      "execution_count": 12,
      "outputs": [
        {
          "output_type": "stream",
          "text": [
            "(4, 12, 12, 12)\n"
          ],
          "name": "stdout"
        }
      ]
    }
  ]
}